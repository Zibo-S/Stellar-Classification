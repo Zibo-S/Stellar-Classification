{
 "cells": [
  {
   "cell_type": "code",
   "execution_count": null,
   "id": "aff83dfb-452e-4a93-ab08-78b9409acf0b",
   "metadata": {},
   "outputs": [],
   "source": [
    "# Reference: https://github.com/UBC-CS/cpsc330-2021W2/blob/main/lectures/04_kNNs-SVM-RBF.ipynb"
   ]
  },
  {
   "cell_type": "code",
   "execution_count": 1,
   "id": "09253e43-a2b5-4e7b-b52c-460d5065d3fd",
   "metadata": {},
   "outputs": [],
   "source": [
    "import IPython\n",
    "import matplotlib.pyplot as plt\n",
    "import numpy as np\n",
    "import pandas as pd\n",
    "import mglearn\n",
    "from sklearn.neighbors import KNeighborsClassifier\n"
   ]
  },
  {
   "cell_type": "code",
   "execution_count": 2,
   "id": "e3fec0c6-8d21-4c7f-b0c6-2d06e595067c",
   "metadata": {},
   "outputs": [],
   "source": [
    "# read in kNN subset\n",
    "kNN_star_sub = pd.read_csv ('/Users/apple/Desktop/LastTerm_UBC_2022_W2/STAT447B/GroupProject/kNN_data/kNN_PhaseA_star_subset.csv')"
   ]
  },
  {
   "cell_type": "code",
   "execution_count": 3,
   "id": "d836c59a-ba19-4ee4-ab47-b04faf5b39bd",
   "metadata": {},
   "outputs": [
    {
     "data": {
      "text/plain": [
       "['Unnamed: 0',\n",
       " 'obj_ID',\n",
       " 'alpha',\n",
       " 'delta',\n",
       " 'u',\n",
       " 'g',\n",
       " 'r',\n",
       " 'i',\n",
       " 'z',\n",
       " 'run_ID',\n",
       " 'spec_obj_ID',\n",
       " 'redshift',\n",
       " 'plate',\n",
       " 'MJD',\n",
       " 'fiber_ID',\n",
       " 'cam_col',\n",
       " 'fieldbin',\n",
       " 'runbin',\n",
       " 'class']"
      ]
     },
     "execution_count": 3,
     "metadata": {},
     "output_type": "execute_result"
    }
   ],
   "source": [
    "#print colnmaes\n",
    "list(kNN_star_sub.columns)"
   ]
  },
  {
   "cell_type": "code",
   "execution_count": 4,
   "id": "6a3db44f-cf01-4643-83b5-c1da0d018564",
   "metadata": {},
   "outputs": [],
   "source": [
    "# ordianl feature orders\n",
    "cam_col_levels = [1, 2, 3, 4, 5, 6]\n",
    "fieldbin_levels = [\"(-1.18,-0.774]\", \"(-0.774,-0.45]\", \"(-0.45,-0.06]\", \"(-0.06,0.58]\", \"(0.58,5.4]\"]\n",
    "runbin_levels = [\"(-2.23,-0.831]\", \"(-0.831,-0.327]\", \"(-0.327,0.048]\", \"(0.048,0.8]\", \"(0.8,1.9]\"]"
   ]
  },
  {
   "cell_type": "code",
   "execution_count": 5,
   "id": "3aac1c5e-97db-43dc-a69e-ca560e00b2bc",
   "metadata": {},
   "outputs": [],
   "source": [
    "# feature category\n",
    "numerical = [\"obj_ID\", \"alpha\", \"delta\",\"u\",\"g\",\"r\",\"i\",\"z\", 'run_ID', 'spec_obj_ID', 'redshift', 'plate','MJD', 'fiber_ID']\n",
    "ordinal = [\"cam_col\", \"fieldbin\", \"runbin\"]\n",
    "target = \"class\"\n"
   ]
  },
  {
   "cell_type": "code",
   "execution_count": 6,
   "id": "e00014e3-787e-4e9e-b5c8-a8376f1848f0",
   "metadata": {},
   "outputs": [
    {
     "data": {
      "text/plain": [
       "ColumnTransformer(transformers=[('pipeline',\n",
       "                                 Pipeline(steps=[('simpleimputer',\n",
       "                                                  SimpleImputer()),\n",
       "                                                 ('standardscaler',\n",
       "                                                  StandardScaler())]),\n",
       "                                 ['obj_ID', 'alpha', 'delta', 'u', 'g', 'r',\n",
       "                                  'i', 'z', 'run_ID', 'spec_obj_ID', 'redshift',\n",
       "                                  'plate', 'MJD', 'fiber_ID']),\n",
       "                                ('ordinalencoder',\n",
       "                                 OrdinalEncoder(categories=[[1, 2, 3, 4, 5, 6],\n",
       "                                                            ['(-1.18,-0.774]',\n",
       "                                                             '(-0.774,-0.45]',\n",
       "                                                             '(-0.45,-0.06]',\n",
       "                                                             '(-0.06,0.58]',\n",
       "                                                             '(0.58,5.4]'],\n",
       "                                                            ['(-2.23,-0.831]',\n",
       "                                                             '(-0.831,-0.327]',\n",
       "                                                             '(-0.327,0.048]',\n",
       "                                                             '(0.048,0.8]',\n",
       "                                                             '(0.8,1.9]']],\n",
       "                                                dtype=<class 'float'>),\n",
       "                                 ['cam_col', 'fieldbin', 'runbin'])])"
      ]
     },
     "execution_count": 6,
     "metadata": {},
     "output_type": "execute_result"
    }
   ],
   "source": [
    "from sklearn.pipeline import Pipeline, make_pipeline\n",
    "from sklearn.compose import ColumnTransformer, make_column_transformer\n",
    "from sklearn.impute import SimpleImputer\n",
    "from sklearn.preprocessing import OneHotEncoder, OrdinalEncoder, StandardScaler\n",
    "\n",
    "preprocessor = make_column_transformer(\n",
    "    (\n",
    "        make_pipeline(SimpleImputer(), StandardScaler()),\n",
    "        numerical,\n",
    "    ),  # scaling on numeric features\n",
    "    (\n",
    "        OrdinalEncoder(categories=[cam_col_levels, fieldbin_levels, runbin_levels], dtype = float ),\n",
    "        ordinal,\n",
    "    ),  # Ordinal encoding on ordinal features\n",
    "   # (\"passthrough\", passthrough_feats),  # no transformations on the binary features\n",
    "   # (\"drop\", drop_feats),  # drop the drop features\n",
    ")\n",
    "preprocessor"
   ]
  },
  {
   "cell_type": "code",
   "execution_count": 7,
   "id": "1a7fe71a-f532-4cf4-b189-f06286310ba0",
   "metadata": {},
   "outputs": [],
   "source": [
    "# kNN_star_sub.head()"
   ]
  },
  {
   "cell_type": "code",
   "execution_count": 8,
   "id": "32bb2e5a-d068-410e-9aba-49482f5f7cb4",
   "metadata": {},
   "outputs": [],
   "source": [
    "X_star = kNN_star_sub.iloc[:,1:18]"
   ]
  },
  {
   "cell_type": "code",
   "execution_count": 9,
   "id": "825f79b6-b5c3-411d-9a96-545969f598e7",
   "metadata": {},
   "outputs": [],
   "source": [
    "y_star = kNN_star_sub[\"class\"]"
   ]
  },
  {
   "cell_type": "code",
   "execution_count": 10,
   "id": "045961a9-8f49-42f1-9d86-7b821105429b",
   "metadata": {},
   "outputs": [],
   "source": [
    "X_transformed = preprocessor.fit_transform(X_star)\n",
    "\n",
    "new_column_names = (\n",
    "    numerical\n",
    "    + ordinal\n",
    ")\n"
   ]
  },
  {
   "cell_type": "code",
   "execution_count": 11,
   "id": "43fa9ba9-1d9c-426e-8070-890982b4a65c",
   "metadata": {},
   "outputs": [],
   "source": [
    "# https://machinelearningmastery.com/calculate-feature-importance-with-python/"
   ]
  },
  {
   "cell_type": "code",
   "execution_count": 12,
   "id": "911425cb-2b9c-43f2-9650-c3503b5a16f2",
   "metadata": {},
   "outputs": [],
   "source": [
    "# permutation feature importance with knn for regression\n",
    "from sklearn.datasets import make_regression\n",
    "from sklearn.inspection import permutation_importance\n",
    "from matplotlib import pyplot\n",
    "\n",
    "# define the model\n",
    "model = KNeighborsClassifier()\n",
    "\n",
    "# fit the model\n",
    "model.fit(X_transformed, y_star)\n",
    "\n",
    "# perform permutation importance\n",
    "results = permutation_importance(model, X_transformed, y_star, scoring='accuracy')\n",
    "# get importance\n",
    "importance = results.importances_mean"
   ]
  },
  {
   "cell_type": "code",
   "execution_count": 13,
   "id": "8c6e8f6c-81a2-4a71-b71f-28185c698c7e",
   "metadata": {},
   "outputs": [
    {
     "name": "stdout",
     "output_type": "stream",
     "text": [
      "Feature: 0, Score: 0.00558\n",
      "Feature: 1, Score: 0.01244\n",
      "Feature: 2, Score: 0.01750\n",
      "Feature: 3, Score: 0.04730\n",
      "Feature: 4, Score: 0.02742\n",
      "Feature: 5, Score: 0.00664\n",
      "Feature: 6, Score: 0.01570\n",
      "Feature: 7, Score: 0.03144\n",
      "Feature: 8, Score: 0.00558\n",
      "Feature: 9, Score: 0.01148\n",
      "Feature: 10, Score: 0.14909\n",
      "Feature: 11, Score: 0.01146\n",
      "Feature: 12, Score: 0.03480\n",
      "Feature: 13, Score: 0.01296\n",
      "Feature: 14, Score: 0.03392\n",
      "Feature: 15, Score: 0.03104\n",
      "Feature: 16, Score: 0.02850\n"
     ]
    },
    {
     "data": {
      "image/png": "[encoded data removed]",
      "text/plain": [
       "<Figure size 432x288 with 1 Axes>"
      ]
     },
     "metadata": {
      "needs_background": "light"
     },
     "output_type": "display_data"
    }
   ],
   "source": [
    "# summarize feature importance\n",
    "for i,v in enumerate(importance):\n",
    "\tprint('Feature: %0d, Score: %.5f' % (i,v))\n",
    "# plot feature importance\n",
    "pyplot.bar([x for x in range(len(importance))], importance)\n",
    "pyplot.show()"
   ]
  },
  {
   "cell_type": "markdown",
   "id": "d8570882-a332-49f1-844f-f3716f8f5808",
   "metadata": {},
   "source": [
    "By plot, feature index 3, 4, 7, 10, 12, 14, 15, 16<br>\n",
    "They are u, g, z, redshift, MJD, camcol, fieldbin and runbin<br>\n",
    "These features will be selected for kNN."
   ]
  },
  {
   "cell_type": "code",
   "execution_count": null,
   "id": "08f70122-d626-47c2-9319-0bd2fbe4a0fd",
   "metadata": {},
   "outputs": [],
   "source": []
  }
 ],
 "metadata": {
  "kernelspec": {
   "display_name": "Python [conda env:cpsc330]",
   "language": "python",
   "name": "conda-env-cpsc330-py"
  },
  "language_info": {
   "codemirror_mode": {
    "name": "ipython",
    "version": 3
   },
   "file_extension": ".py",
   "mimetype": "text/x-python",
   "name": "python",
   "nbconvert_exporter": "python",
   "pygments_lexer": "ipython3",
   "version": "3.9.7"
  }
 },
 "nbformat": 4,
 "nbformat_minor": 5
}
