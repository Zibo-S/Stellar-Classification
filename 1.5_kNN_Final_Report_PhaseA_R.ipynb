{
 "cells": [
  {
   "cell_type": "markdown",
   "id": "4304d8ad-d838-466f-9af2-19b27b4d7268",
   "metadata": {},
   "source": [
    "**Due to the fact that the feature selection of kNN is not relevant to correlation, <br/> a separate data transformation and variable subset selection is performed.**"
   ]
  },
  {
   "cell_type": "code",
   "execution_count": 2,
   "id": "b92d8ad5-3701-4b96-b411-6362849e9f2a",
   "metadata": {
    "collapsed": true,
    "jupyter": {
     "outputs_hidden": true
    },
    "tags": []
   },
   "outputs": [
    {
     "name": "stderr",
     "output_type": "stream",
     "text": [
      "\n",
      "Attaching package: ‘dplyr’\n",
      "\n",
      "\n",
      "The following objects are masked from ‘package:stats’:\n",
      "\n",
      "    filter, lag\n",
      "\n",
      "\n",
      "The following objects are masked from ‘package:base’:\n",
      "\n",
      "    intersect, setdiff, setequal, union\n",
      "\n",
      "\n",
      "── \u001b[1mAttaching packages\u001b[22m ─────────────────────────────────────── tidyverse 1.3.1 ──\n",
      "\n",
      "\u001b[32m✔\u001b[39m \u001b[34mggplot2\u001b[39m 3.3.5     \u001b[32m✔\u001b[39m \u001b[34mpurrr  \u001b[39m 0.3.4\n",
      "\u001b[32m✔\u001b[39m \u001b[34mtibble \u001b[39m 3.1.4     \u001b[32m✔\u001b[39m \u001b[34mstringr\u001b[39m 1.4.0\n",
      "\u001b[32m✔\u001b[39m \u001b[34mtidyr  \u001b[39m 1.1.3     \u001b[32m✔\u001b[39m \u001b[34mforcats\u001b[39m 0.5.1\n",
      "\u001b[32m✔\u001b[39m \u001b[34mreadr  \u001b[39m 2.0.1     \n",
      "\n",
      "── \u001b[1mConflicts\u001b[22m ────────────────────────────────────────── tidyverse_conflicts() ──\n",
      "\u001b[31m✖\u001b[39m \u001b[34mdplyr\u001b[39m::\u001b[32mfilter()\u001b[39m masks \u001b[34mstats\u001b[39m::filter()\n",
      "\u001b[31m✖\u001b[39m \u001b[34mdplyr\u001b[39m::\u001b[32mlag()\u001b[39m    masks \u001b[34mstats\u001b[39m::lag()\n",
      "\n",
      "\n",
      "Attaching package: ‘magrittr’\n",
      "\n",
      "\n",
      "The following object is masked from ‘package:purrr’:\n",
      "\n",
      "    set_names\n",
      "\n",
      "\n",
      "The following object is masked from ‘package:tidyr’:\n",
      "\n",
      "    extract\n",
      "\n",
      "\n",
      "randomForest 4.6-14\n",
      "\n",
      "Type rfNews() to see new features/changes/bug fixes.\n",
      "\n",
      "\n",
      "Attaching package: ‘randomForest’\n",
      "\n",
      "\n",
      "The following object is masked from ‘package:ggplot2’:\n",
      "\n",
      "    margin\n",
      "\n",
      "\n",
      "The following object is masked from ‘package:dplyr’:\n",
      "\n",
      "    combine\n",
      "\n",
      "\n"
     ]
    }
   ],
   "source": [
    "library(dplyr)\n",
    "library(tidyverse)\n",
    "library(magrittr)\n",
    "library(ggplot2)\n",
    "library(randomForest)"
   ]
  },
  {
   "cell_type": "code",
   "execution_count": 3,
   "id": "5510964d-5961-4920-b84f-95e4118049f3",
   "metadata": {},
   "outputs": [],
   "source": [
    "# 1.1 Data processing, wrangling, transformation\n",
    "# Original dataset import \n",
    "star_original <- read.csv(\"/Users/apple/Desktop/LastTerm_UBC_2022_W2/STAT447B/GroupProject/Rdata/star_classification.csv\",header=T)"
   ]
  },
  {
   "cell_type": "markdown",
   "id": "2bc885a0-a101-4f2f-be79-c30f4eda0030",
   "metadata": {},
   "source": [
    "**Same pre-process as in PhaseA**"
   ]
  },
  {
   "cell_type": "code",
   "execution_count": 4,
   "id": "053a0222-6590-42eb-b6b5-d29cd0cde1fc",
   "metadata": {},
   "outputs": [],
   "source": [
    "# prune extreme value\n",
    "star_original <- star_original[-79544, ]"
   ]
  },
  {
   "cell_type": "code",
   "execution_count": 5,
   "id": "b4d274bc-0d1d-4803-9429-5e83700248fa",
   "metadata": {},
   "outputs": [],
   "source": [
    "#1.1-3. Transform variables if necessary in order to do plots\n",
    "# cos transformation on variables w/ unit as angle\n",
    "# Scaling all numeric variables, then trunk at 5 digits\n",
    "# categorical variables to factor\n",
    "star <- star_original %>% mutate(  \n",
    "  alpha = cos(alpha),\n",
    "  delta = cos(delta),\n",
    "  obj_ID = round(scale(obj_ID, center = TRUE, scale = TRUE), 5),\n",
    "  u = round(scale(u, center = TRUE, scale = TRUE), 5),\n",
    "  g = round(scale(g, center = TRUE, scale = TRUE), 5),\n",
    "  r = round(scale(r, center = TRUE, scale = TRUE), 5),\n",
    "  i = round(scale(i, center = TRUE, scale = TRUE), 5),\n",
    "  z = round(scale(z, center = TRUE, scale = TRUE), 5),\n",
    "  run_ID = round(scale(run_ID, center = TRUE, scale = TRUE), 5),\n",
    "  spec_obj_ID = round(scale(spec_obj_ID, center = TRUE, scale = TRUE), 5),\n",
    "  redshift = round(scale(redshift, center = TRUE, scale = TRUE), 5),\n",
    "  field_ID = round(scale(field_ID, center = TRUE, scale = TRUE), 5),\n",
    "  plate = round(scale(plate, center = TRUE, scale = TRUE), 5),\n",
    "  MJD = round(scale(MJD, center = TRUE, scale = TRUE), 5),\n",
    "  fiber_ID = round(scale(fiber_ID, center = TRUE, scale = TRUE), 5),\n",
    "  cam_col = factor(cam_col),\n",
    "  class = factor(class),\n",
    "  \n",
    ")"
   ]
  },
  {
   "cell_type": "code",
   "execution_count": 7,
   "id": "49bcd8cb-fd23-4da5-a80e-76b9f3c84f5c",
   "metadata": {},
   "outputs": [
    {
     "data": {
      "text/plain": [
       "    class          field_ID.V1          run_ID.V1                 fieldbin    \n",
       " GALAXY:59445   Min.   :-1.17529   Min.   :-2.2254400   (-1.18,-0.774]:20181  \n",
       " QSO   :18961   1st Qu.:-0.69880   1st Qu.:-0.6588200   (-0.774,-0.45]:19832  \n",
       " STAR  :21593   Median :-0.26929   Median :-0.1493300   (-0.45,-0.06] :19963  \n",
       "                Mean   : 0.00000   Mean   :-0.0000002   (-0.06,0.58]  :20097  \n",
       "                3rd Qu.: 0.36826   3rd Qu.: 0.4298800   (0.58,5.4]    :19926  \n",
       "                Max.   : 5.38813   Max.   : 1.8733300                         \n",
       "             runbin     \n",
       " (-2.23,-0.831] :20019  \n",
       " (-0.831,-0.327]:19590  \n",
       " (-0.327,0.048] :20341  \n",
       " (0.048,0.8]    :20116  \n",
       " (0.8,1.9]      :19933  \n",
       "                        "
      ]
     },
     "metadata": {},
     "output_type": "display_data"
    }
   ],
   "source": [
    "#create variable breaks\n",
    "field_id_breaks <- c(-1.18, -0.774, -0.45, -0.06, 0.58, 5.4)\n",
    "run_id_breaks <- c(-2.23, -0.831, -0.327, 0.048, 0.8, 1.9)\n",
    "\n",
    "# combining\n",
    "breaks <- rbind(field_id_breaks, run_id_breaks)\n",
    "\n",
    "#binning function\n",
    "bin <- function(dataset, breaks) {\n",
    "  bindata <- as_tibble(dataset) %>%\n",
    "    dplyr::mutate(fieldbin = cut(field_ID, breaks[1,]),\n",
    "                  runbin = cut(run_ID, breaks[2,])) %>%\n",
    "    dplyr::select(class, field_ID, run_ID, fieldbin, runbin)\n",
    "  bindata\n",
    "}\n",
    "# apply function\n",
    "bin_result <- bin(star, breaks)\n",
    "summary(bin_result)"
   ]
  },
  {
   "cell_type": "code",
   "execution_count": 8,
   "id": "2c1de0c1-c312-4776-99a3-85e3d444819d",
   "metadata": {},
   "outputs": [],
   "source": [
    "#combined binning result to dataset as separate variables, and change type to factor\n",
    "star <- cbind(star, bin_result[, 4:5])\n",
    "star <- star %>%\n",
    "  mutate(fieldbin = factor(star$fieldbin), runbin = factor(star$runbin))"
   ]
  },
  {
   "cell_type": "code",
   "execution_count": 9,
   "id": "c9a09078-6f58-45ca-a591-4b884182a001",
   "metadata": {},
   "outputs": [],
   "source": [
    "# re-order dataset by putting categorical variable and response variable to last\n",
    "# rerun_ID should be dropped since it only has same value for all observations\n",
    "# field_ID and run_ID should be replaced by their bins\n",
    "\n",
    "star <- star[, c(1:9, 13, 15:18, 11,19,20, 14)]"
   ]
  },
  {
   "cell_type": "code",
   "execution_count": 10,
   "id": "a569345e-1fec-4ade-8db5-8e1f2a2ab84a",
   "metadata": {},
   "outputs": [],
   "source": [
    "# pick a subset\n",
    "set.seed(447)\n",
    "n <- star %>% nrow()\n",
    "star_subset <- sample_n(star, size = n * 0.1)"
   ]
  },
  {
   "cell_type": "markdown",
   "id": "8dacc85a-5572-4596-9612-05749bc115ca",
   "metadata": {},
   "source": [
    "### Feature Selection Using Random Forest"
   ]
  },
  {
   "cell_type": "markdown",
   "id": "290137d8-c7c0-4fe8-adcd-b3bbde75c172",
   "metadata": {},
   "source": [
    "since kNN does not support feature selection natively, RF and Permutation is used instead."
   ]
  },
  {
   "cell_type": "code",
   "execution_count": 14,
   "id": "7be087a6-b263-4b23-acb6-b39bc0f6cab1",
   "metadata": {},
   "outputs": [
    {
     "data": {
      "image/png": "[encoded data removed]",
      "text/plain": [
       "Plot with title “Variable Importance Plot ”"
      ]
     },
     "metadata": {
      "image/png": {
       "height": 420,
       "width": 420
      }
     },
     "output_type": "display_data"
    }
   ],
   "source": [
    "# applying rf on subset \n",
    "rf <- randomForest(factor(class) ~ ., data = star_subset)\n",
    "varImpPlot(rf, main = \"Variable Importance Plot \")"
   ]
  },
  {
   "cell_type": "markdown",
   "id": "d10715d1-5e67-41c7-ae2f-be7d3c52a507",
   "metadata": {},
   "source": [
    "**redshift, z, g, u, i, r, spec_obj_ID, Plate, and MJD **"
   ]
  },
  {
   "cell_type": "code",
   "execution_count": 15,
   "id": "a51a34fd-bd39-4c52-97d2-31234a7033d8",
   "metadata": {
    "tags": []
   },
   "outputs": [],
   "source": [
    "# **redshift, z, g, u, i, r, spec_obj_ID, Plate, and MJD **\n",
    "kNN_star_rf <- star[, c(11, 4:8, 10, 12, 13, 18 )]\n",
    "kNN_star_subset_rf <- star_subset[, c(11, 4:8, 10, 12, 13, 18 )]"
   ]
  },
  {
   "cell_type": "code",
   "execution_count": 16,
   "id": "4a89b6cc-c46b-408b-8514-9ae3ab643fb7",
   "metadata": {},
   "outputs": [],
   "source": [
    "# save kNN transformation by RF dataset to csvs\n",
    "write.csv(kNN_star_rf,'/Users/apple/Desktop/LastTerm_UBC_2022_W2/STAT447B/GroupProject/kNN_data/kNN_PhaseA_star_rf.csv')\n",
    "write.csv(kNN_star_subset_rf,'/Users/apple/Desktop/LastTerm_UBC_2022_W2/STAT447B/GroupProject/kNN_data/kNN_PhaseA_star_subset_rf.csv')"
   ]
  },
  {
   "cell_type": "markdown",
   "id": "ca9a18c4-a244-4ac7-a2b6-450d62bf3c8e",
   "metadata": {},
   "source": [
    "### Result from Python Permutation Feature Importance"
   ]
  },
  {
   "cell_type": "code",
   "execution_count": 17,
   "id": "6b2743a2-f484-4ecf-af4e-26e9d78fa9fd",
   "metadata": {},
   "outputs": [
    {
     "data": {
      "text/html": [
       "<style>\n",
       ".list-inline {list-style: none; margin:0; padding: 0}\n",
       ".list-inline>li {display: inline-block}\n",
       ".list-inline>li:not(:last-child)::after {content: \"\\00b7\"; padding: 0 .5ex}\n",
       "</style>\n",
       "<ol class=list-inline><li>'obj_ID'</li><li>'alpha'</li><li>'delta'</li><li>'u'</li><li>'g'</li><li>'r'</li><li>'i'</li><li>'z'</li><li>'run_ID'</li><li>'spec_obj_ID'</li><li>'redshift'</li><li>'plate'</li><li>'MJD'</li><li>'fiber_ID'</li><li>'cam_col'</li><li>'fieldbin'</li><li>'runbin'</li><li>'class'</li></ol>\n"
      ],
      "text/latex": [
       "\\begin{enumerate*}\n",
       "\\item 'obj\\_ID'\n",
       "\\item 'alpha'\n",
       "\\item 'delta'\n",
       "\\item 'u'\n",
       "\\item 'g'\n",
       "\\item 'r'\n",
       "\\item 'i'\n",
       "\\item 'z'\n",
       "\\item 'run\\_ID'\n",
       "\\item 'spec\\_obj\\_ID'\n",
       "\\item 'redshift'\n",
       "\\item 'plate'\n",
       "\\item 'MJD'\n",
       "\\item 'fiber\\_ID'\n",
       "\\item 'cam\\_col'\n",
       "\\item 'fieldbin'\n",
       "\\item 'runbin'\n",
       "\\item 'class'\n",
       "\\end{enumerate*}\n"
      ],
      "text/markdown": [
       "1. 'obj_ID'\n",
       "2. 'alpha'\n",
       "3. 'delta'\n",
       "4. 'u'\n",
       "5. 'g'\n",
       "6. 'r'\n",
       "7. 'i'\n",
       "8. 'z'\n",
       "9. 'run_ID'\n",
       "10. 'spec_obj_ID'\n",
       "11. 'redshift'\n",
       "12. 'plate'\n",
       "13. 'MJD'\n",
       "14. 'fiber_ID'\n",
       "15. 'cam_col'\n",
       "16. 'fieldbin'\n",
       "17. 'runbin'\n",
       "18. 'class'\n",
       "\n",
       "\n"
      ],
      "text/plain": [
       " [1] \"obj_ID\"      \"alpha\"       \"delta\"       \"u\"           \"g\"          \n",
       " [6] \"r\"           \"i\"           \"z\"           \"run_ID\"      \"spec_obj_ID\"\n",
       "[11] \"redshift\"    \"plate\"       \"MJD\"         \"fiber_ID\"    \"cam_col\"    \n",
       "[16] \"fieldbin\"    \"runbin\"      \"class\"      "
      ]
     },
     "metadata": {},
     "output_type": "display_data"
    }
   ],
   "source": [
    "star %>% colnames()"
   ]
  },
  {
   "cell_type": "markdown",
   "id": "65033c59-a490-40f8-9b27-1d5e049a6a05",
   "metadata": {},
   "source": [
    "**u, g, z, redshift, MJD, camcol, fieldbin and runbin**"
   ]
  },
  {
   "cell_type": "code",
   "execution_count": 18,
   "id": "431d8c7f-4c8a-4625-9991-b320799d25ca",
   "metadata": {},
   "outputs": [],
   "source": [
    "kNN_star_perm<- star[,c(4, 5, 8, 11, 13, 15, 16, 17, 18)]"
   ]
  },
  {
   "cell_type": "code",
   "execution_count": 19,
   "id": "411d93c8-895a-4e08-9d00-98141802aa0c",
   "metadata": {},
   "outputs": [],
   "source": [
    "# pick a subset\n",
    "set.seed(447)\n",
    "n <- kNN_star_perm %>% nrow()\n",
    "kNN_star_subset_perm <- sample_n(kNN_star_perm, size = n * 0.1)"
   ]
  },
  {
   "cell_type": "code",
   "execution_count": 20,
   "id": "96ca9109-35ed-4b54-b572-c5ab102d7084",
   "metadata": {},
   "outputs": [],
   "source": [
    "write.csv(kNN_star_perm,'/Users/apple/Desktop/LastTerm_UBC_2022_W2/STAT447B/GroupProject/kNN_data/kNN_PhaseA_star_perm.csv')\n",
    "write.csv(kNN_star_subset_perm,'/Users/apple/Desktop/LastTerm_UBC_2022_W2/STAT447B/GroupProject/kNN_data/kNN_PhaseA_star_subset_perm.csv')"
   ]
  }
 ],
 "metadata": {
  "kernelspec": {
   "display_name": "R [conda env:R]",
   "language": "R",
   "name": "conda-env-R-r"
  },
  "language_info": {
   "codemirror_mode": "r",
   "file_extension": ".r",
   "mimetype": "text/x-r-source",
   "name": "R",
   "pygments_lexer": "r",
   "version": "4.1.1"
  }
 },
 "nbformat": 4,
 "nbformat_minor": 5
}
