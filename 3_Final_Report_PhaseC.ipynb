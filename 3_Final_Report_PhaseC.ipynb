{
 "cells": [
  {
   "cell_type": "code",
   "execution_count": 2,
   "id": "e274515a-f748-4992-bbef-229bb7f80b47",
   "metadata": {
    "collapsed": true,
    "jupyter": {
     "outputs_hidden": true
    },
    "tags": []
   },
   "outputs": [
    {
     "name": "stderr",
     "output_type": "stream",
     "text": [
      "\n",
      "Attaching package: ‘dplyr’\n",
      "\n",
      "\n",
      "The following objects are masked from ‘package:stats’:\n",
      "\n",
      "    filter, lag\n",
      "\n",
      "\n",
      "The following objects are masked from ‘package:base’:\n",
      "\n",
      "    intersect, setdiff, setequal, union\n",
      "\n",
      "\n",
      "── \u001b[1mAttaching packages\u001b[22m ─────────────────────────────────────── tidyverse 1.3.1 ──\n",
      "\n",
      "\u001b[32m✔\u001b[39m \u001b[34mggplot2\u001b[39m 3.3.5     \u001b[32m✔\u001b[39m \u001b[34mpurrr  \u001b[39m 0.3.4\n",
      "\u001b[32m✔\u001b[39m \u001b[34mtibble \u001b[39m 3.1.4     \u001b[32m✔\u001b[39m \u001b[34mstringr\u001b[39m 1.4.0\n",
      "\u001b[32m✔\u001b[39m \u001b[34mtidyr  \u001b[39m 1.1.3     \u001b[32m✔\u001b[39m \u001b[34mforcats\u001b[39m 0.5.1\n",
      "\u001b[32m✔\u001b[39m \u001b[34mreadr  \u001b[39m 2.0.1     \n",
      "\n",
      "── \u001b[1mConflicts\u001b[22m ────────────────────────────────────────── tidyverse_conflicts() ──\n",
      "\u001b[31m✖\u001b[39m \u001b[34mdplyr\u001b[39m::\u001b[32mfilter()\u001b[39m masks \u001b[34mstats\u001b[39m::filter()\n",
      "\u001b[31m✖\u001b[39m \u001b[34mdplyr\u001b[39m::\u001b[32mlag()\u001b[39m    masks \u001b[34mstats\u001b[39m::lag()\n",
      "\n",
      "\n",
      "Attaching package: ‘magrittr’\n",
      "\n",
      "\n",
      "The following object is masked from ‘package:purrr’:\n",
      "\n",
      "    set_names\n",
      "\n",
      "\n",
      "The following object is masked from ‘package:tidyr’:\n",
      "\n",
      "    extract\n",
      "\n",
      "\n",
      "\n",
      "Attaching package: ‘MASS’\n",
      "\n",
      "\n",
      "The following object is masked from ‘package:dplyr’:\n",
      "\n",
      "    select\n",
      "\n",
      "\n",
      "Loading required package: lattice\n",
      "\n",
      "\n",
      "Attaching package: ‘caret’\n",
      "\n",
      "\n",
      "The following object is masked from ‘package:purrr’:\n",
      "\n",
      "    lift\n",
      "\n",
      "\n",
      "Loading required package: stats4\n",
      "\n",
      "Loading required package: splines\n",
      "\n",
      "\n",
      "Attaching package: ‘VGAM’\n",
      "\n",
      "\n",
      "The following object is masked from ‘package:caret’:\n",
      "\n",
      "    predictors\n",
      "\n",
      "\n",
      "The following object is masked from ‘package:tidyr’:\n",
      "\n",
      "    fill\n",
      "\n",
      "\n",
      "randomForest 4.6-14\n",
      "\n",
      "Type rfNews() to see new features/changes/bug fixes.\n",
      "\n",
      "\n",
      "Attaching package: ‘randomForest’\n",
      "\n",
      "\n",
      "The following object is masked from ‘package:ggplot2’:\n",
      "\n",
      "    margin\n",
      "\n",
      "\n",
      "The following object is masked from ‘package:dplyr’:\n",
      "\n",
      "    combine\n",
      "\n",
      "\n"
     ]
    }
   ],
   "source": [
    "library(dplyr)\n",
    "library(tidyverse)\n",
    "library(magrittr)\n",
    "library(MASS)\n",
    "library(class)\n",
    "library(caret)\n",
    "library(VGAM)\n",
    "library(randomForest)"
   ]
  },
  {
   "cell_type": "code",
   "execution_count": 155,
   "id": "f594ed15-c176-497a-829b-4947370e34e6",
   "metadata": {},
   "outputs": [],
   "source": [
    "# transformed data import for multi & rf\n",
    "star <- read.csv(\"./Rdata/PhaseA_star.csv\")"
   ]
  },
  {
   "cell_type": "code",
   "execution_count": 156,
   "id": "c7b67aa6-4427-45ae-8c46-f6890392a730",
   "metadata": {},
   "outputs": [],
   "source": [
    "# transfer variable types for alogrithms \n",
    "star <- star %>% mutate(\n",
    "  class = factor(class),\n",
    "  cam_col = factor(cam_col),\n",
    "  fieldbin = factor(fieldbin),\n",
    "  runbin = factor(runbin)  \n",
    ")"
   ]
  },
  {
   "cell_type": "markdown",
   "id": "79553487-0bf7-4316-a5aa-c48671537f98",
   "metadata": {
    "tags": []
   },
   "source": [
    "### 1.Train, Holdout Split on full dataset. "
   ]
  },
  {
   "cell_type": "code",
   "execution_count": 157,
   "id": "6708ff97-e9dd-4f86-b9df-4349521bc13c",
   "metadata": {},
   "outputs": [],
   "source": [
    "# train holdo split\n",
    "set.seed(447)\n",
    "train<- sample_n(star, size = nrow(star) * 0.80,\n",
    "  replace = FALSE\n",
    ")\n",
    "\n",
    "holdo <- anti_join(star,\n",
    "  train,\n",
    "  by = \"X\"\n",
    ")"
   ]
  },
  {
   "cell_type": "code",
   "execution_count": 158,
   "id": "7cfa50a2-3678-43c3-afb2-ad1341a8d98e",
   "metadata": {},
   "outputs": [],
   "source": [
    "# drop X(id) col in holdo\n",
    "holdo <- holdo[-1]"
   ]
  },
  {
   "cell_type": "markdown",
   "id": "1d2c9e58-40e5-49ee-83f8-dd075d70d5ac",
   "metadata": {},
   "source": [
    "### 2. Loading functions which will be used during computation"
   ]
  },
  {
   "cell_type": "code",
   "execution_count": 161,
   "id": "1b44192f-6afb-48b8-88e4-1a8ce6021ba5",
   "metadata": {},
   "outputs": [],
   "source": [
    "# category PI function from course\n",
    "CategoryPredInterval = function(ProbMatrix,labels)\n",
    "{ ncases=nrow(ProbMatrix)\n",
    "    pred50=rep(NA,ncases);   pred80=rep(NA,ncases);\n",
    "     data.frame(pred50); data.frame(pred80);\n",
    "    for(i in 1:ncases)\n",
    "    {    \n",
    "        p=ProbMatrix[i,]\n",
    "        ip=order(p,decreasing=T)\n",
    "        pOrdered=p[ip] # decreasing order\n",
    "        labelsOrdered=labels[ip] # decreasing order\n",
    "        G=cumsum(pOrdered) # cumulative sum from largest\n",
    "        k1=min(which(G>=0.5)) # level1= 0.5\n",
    "        k2=min(which(G>=0.8)) # level2= 0.8\n",
    "        pred1=labelsOrdered[1:k1]; \n",
    "        pred2=labelsOrdered[1:k2]\n",
    "        pred50[i]=paste(pred1,collapse=\"\")\n",
    "        pred80[i]=paste(pred2,collapse=\"\")\n",
    "    }\n",
    "    data.frame(pred50=pred50, pred80=pred80)\n",
    "}"
   ]
  },
  {
   "cell_type": "code",
   "execution_count": 162,
   "id": "f97c58a9-4ffc-439b-b4b1-747a2e6f2074",
   "metadata": {},
   "outputs": [],
   "source": [
    "categMisclassRates = function(predIntervalMatrix, iprint=FALSE)\n",
    "{ cols = colnames(predIntervalMatrix)\n",
    "rows = rownames(predIntervalMatrix)\n",
    "misclass = rep(0,length(rows))\n",
    "for (i in 1:length(rows))\n",
    "{ row = predIntervalMatrix[i,]\n",
    "total = sum(row)\n",
    "class = rows[i]\n",
    "count = 0\n",
    "for (j in 1:length(cols))\n",
    "    { col = cols[j]\n",
    "if (grepl(class, col, fixed = TRUE)) { count = count + row[col] }\n",
    "}\n",
    "misclass[i] = 1 - count/total\n",
    "if(iprint) cat(\"Number of misclassifications for \", class, \":\", total - count, \"\\n\")\n",
    "cat(\"Misclassification rate for \", class, \": \", round(misclass[i], 3), \"\\n\")\n",
    "}\n",
    "cat(\"Avg Misclassification rate: \", round(mean(misclass[]), 3), \"\\n\")\n",
    "return(misclass)}"
   ]
  },
  {
   "cell_type": "markdown",
   "id": "1fe939e8-5aa2-470c-8e00-454f5e028b6d",
   "metadata": {},
   "source": [
    "#### 2.1 Cross Validation Fold Split"
   ]
  },
  {
   "cell_type": "code",
   "execution_count": 15,
   "id": "9cda30fc-32db-4bff-a7a3-2b4aaa62cee1",
   "metadata": {},
   "outputs": [],
   "source": [
    "set.seed(447)\n",
    "\n",
    "# 3-fold, preparation for cross-validated performance\n",
    "n = nrow(train)\n",
    "iperm=sample(n)\n",
    "nFold <- round(n/3) \n",
    "ifold1=iperm[1:nFold]\n",
    "ifold2=iperm[(nFold+1):(2*nFold)]\n",
    "ifold3=iperm[(2*nFold+1):(n)]\n",
    "\n",
    "#cv1: ifold1&2 \n",
    "trainDat1<-train[-ifold3,-which(colnames(train) == \"X\")]\n",
    "testDat1<-train[ifold3, -which(colnames(train) == \"X\")]\n",
    "\n",
    "#fold2: ifold2&3\n",
    "trainDat2<-train[-ifold1,-which(colnames(train) == \"X\")]\n",
    "testDat2<-train[ifold1,-which(colnames(train) == \"X\")]\n",
    "\n",
    "#fold3: ifold1&3 \n",
    "trainDat3<-train[-ifold2,-which(colnames(train) == \"X\")]\n",
    "testDat3<-train[ifold2,-which(colnames(train) == \"X\")]"
   ]
  },
  {
   "cell_type": "markdown",
   "id": "3b4fad5a-bfba-4b3e-8050-11dc3293f282",
   "metadata": {},
   "source": [
    "### 3. Method Implementation"
   ]
  },
  {
   "cell_type": "markdown",
   "id": "a9e8a779-51c2-4f60-af92-7d4352e09562",
   "metadata": {},
   "source": [
    "### 3.1 Method 1 - RF"
   ]
  },
  {
   "cell_type": "markdown",
   "id": "3b58cf55-cfd7-4d4f-a783-f6cbdaf947ba",
   "metadata": {},
   "source": [
    "#### 3.1.1 RF CV"
   ]
  },
  {
   "cell_type": "code",
   "execution_count": 16,
   "id": "efa75a23-abc3-41d0-8793-3c5955971d8a",
   "metadata": {},
   "outputs": [
    {
     "name": "stdout",
     "output_type": "stream",
     "text": [
      "\n",
      "Call:\n",
      " randomForest(formula = class ~ ., data = trainDat1[-1], ntree = ntrees) \n",
      "               Type of random forest: classification\n",
      "                     Number of trees: 400\n",
      "No. of variables tried at each split: 3\n",
      "\n",
      "        OOB estimate of  error rate: 2.68%\n",
      "Confusion matrix:\n",
      "       GALAXY  QSO  STAR  class.error\n",
      "GALAXY  31088  396   188 0.0184389997\n",
      "QSO       837 9348     3 0.0824499411\n",
      "STAR        6    0 11466 0.0005230126\n"
     ]
    },
    {
     "data": {
      "text/html": [
       "<table class=\"dataframe\">\n",
       "<caption>A matrix: 6 × 3 of type dbl</caption>\n",
       "<thead>\n",
       "\t<tr><th></th><th scope=col>GALAXY</th><th scope=col>QSO</th><th scope=col>STAR</th></tr>\n",
       "</thead>\n",
       "<tbody>\n",
       "\t<tr><th scope=row>27615</th><td>0.1200</td><td>0.005</td><td>0.8750</td></tr>\n",
       "\t<tr><th scope=row>53768</th><td>0.9750</td><td>0.025</td><td>0.0000</td></tr>\n",
       "\t<tr><th scope=row>32807</th><td>0.9950</td><td>0.005</td><td>0.0000</td></tr>\n",
       "\t<tr><th scope=row>49484</th><td>0.0675</td><td>0.930</td><td>0.0025</td></tr>\n",
       "\t<tr><th scope=row>35770</th><td>0.9675</td><td>0.030</td><td>0.0025</td></tr>\n",
       "\t<tr><th scope=row>9008</th><td>1.0000</td><td>0.000</td><td>0.0000</td></tr>\n",
       "</tbody>\n",
       "</table>\n"
      ],
      "text/latex": [
       "A matrix: 6 × 3 of type dbl\n",
       "\\begin{tabular}{r|lll}\n",
       "  & GALAXY & QSO & STAR\\\\\n",
       "\\hline\n",
       "\t27615 & 0.1200 & 0.005 & 0.8750\\\\\n",
       "\t53768 & 0.9750 & 0.025 & 0.0000\\\\\n",
       "\t32807 & 0.9950 & 0.005 & 0.0000\\\\\n",
       "\t49484 & 0.0675 & 0.930 & 0.0025\\\\\n",
       "\t35770 & 0.9675 & 0.030 & 0.0025\\\\\n",
       "\t9008 & 1.0000 & 0.000 & 0.0000\\\\\n",
       "\\end{tabular}\n"
      ],
      "text/markdown": [
       "\n",
       "A matrix: 6 × 3 of type dbl\n",
       "\n",
       "| <!--/--> | GALAXY | QSO | STAR |\n",
       "|---|---|---|---|\n",
       "| 27615 | 0.1200 | 0.005 | 0.8750 |\n",
       "| 53768 | 0.9750 | 0.025 | 0.0000 |\n",
       "| 32807 | 0.9950 | 0.005 | 0.0000 |\n",
       "| 49484 | 0.0675 | 0.930 | 0.0025 |\n",
       "| 35770 | 0.9675 | 0.030 | 0.0025 |\n",
       "| 9008 | 1.0000 | 0.000 | 0.0000 |\n",
       "\n"
      ],
      "text/plain": [
       "      GALAXY QSO   STAR  \n",
       "27615 0.1200 0.005 0.8750\n",
       "53768 0.9750 0.025 0.0000\n",
       "32807 0.9950 0.005 0.0000\n",
       "49484 0.0675 0.930 0.0025\n",
       "35770 0.9675 0.030 0.0025\n",
       "9008  1.0000 0.000 0.0000"
      ]
     },
     "metadata": {},
     "output_type": "display_data"
    },
    {
     "name": "stdout",
     "output_type": "stream",
     "text": [
      "\n",
      "Call:\n",
      " randomForest(formula = class ~ ., data = trainDat2[-1], ntree = ntrees) \n",
      "               Type of random forest: classification\n",
      "                     Number of trees: 400\n",
      "No. of variables tried at each split: 3\n",
      "\n",
      "        OOB estimate of  error rate: 2.67%\n",
      "Confusion matrix:\n",
      "       GALAXY  QSO  STAR class.error\n",
      "GALAXY  31241  392   182 0.018041804\n",
      "QSO       834 9311     1 0.082298443\n",
      "STAR       13    0 11359 0.001143159\n"
     ]
    },
    {
     "data": {
      "image/png": "[encoded data removed]",
      "text/plain": [
       "Plot with title “Variable Importance Plot 1”"
      ]
     },
     "metadata": {
      "image/png": {
       "height": 420,
       "width": 420
      }
     },
     "output_type": "display_data"
    },
    {
     "name": "stdout",
     "output_type": "stream",
     "text": [
      "\n",
      "Call:\n",
      " randomForest(formula = class ~ ., data = trainDat3[-1], ntree = ntrees) \n",
      "               Type of random forest: classification\n",
      "                     Number of trees: 400\n",
      "No. of variables tried at each split: 3\n",
      "\n",
      "        OOB estimate of  error rate: 2.71%\n",
      "Confusion matrix:\n",
      "       GALAXY  QSO  STAR  class.error\n",
      "GALAXY  31145  389   179 0.0179106360\n",
      "QSO       861 9274     3 0.0852239100\n",
      "STAR       11    0 11471 0.0009580213\n"
     ]
    },
    {
     "data": {
      "image/png": "[encoded data removed]",
      "text/plain": [
       "Plot with title “Variable Importance Plot 2”"
      ]
     },
     "metadata": {
      "image/png": {
       "height": 420,
       "width": 420
      }
     },
     "output_type": "display_data"
    },
    {
     "data": {
      "image/png": "[encoded data removed]",
      "text/plain": [
       "Plot with title “Variable Importance Plot 3”"
      ]
     },
     "metadata": {
      "image/png": {
       "height": 420,
       "width": 420
      }
     },
     "output_type": "display_data"
    }
   ],
   "source": [
    "ntrees = 400\n",
    "\n",
    "# cv 1\n",
    "RF.1f <- randomForest(class ~ ., data = trainDat1[-1], ntree = ntrees)\n",
    "print(RF.1f)\n",
    "varImpPlot(RF.1f, main = \"Variable Importance Plot 1\")\n",
    "predRF.1f <- predict(RF.1f, newdata = testDat1[-1],type = \"prob\")\n",
    "head(predRF.1f)\n",
    "\n",
    "# cv 2\n",
    "RF.2f <- randomForest(class ~ ., data = trainDat2[-1], ntree = ntrees)\n",
    "print(RF.2f)\n",
    "varImpPlot(RF.2f, main = \"Variable Importance Plot 2\")\n",
    "predRF.2f <- predict(RF.2f, newdata = testDat2[-1], type = \"prob\")\n",
    "\n",
    "# cv 3\n",
    "RF.3f <- randomForest(class ~ ., data = trainDat3[-1], ntree = ntrees)\n",
    "print(RF.3f)\n",
    "varImpPlot(RF.3f, main = \"Variable Importance Plot 3\")\n",
    "predRF.3f <- predict(RF.3f, newdata = testDat3[-1], type = \"prob\")"
   ]
  },
  {
   "cell_type": "code",
   "execution_count": 18,
   "id": "fd8560bb-c6dd-43ef-b0aa-5fc710ae8aa7",
   "metadata": {},
   "outputs": [
    {
     "name": "stdout",
     "output_type": "stream",
     "text": [
      "50% Prediction Interval Table for FOLD 1        \n",
      "         GALAXY GALAXYQSO GALAXYSTAR   QSO QSOGALAXY  STAR STARGALAXY\n",
      "  GALAXY  15611         3          2   210         2    98          2\n",
      "  QSO       394         3          0  4647         4     0          0\n",
      "  STAR        3         0          0     0         0  5688          0\n",
      "80% Prediction Interval Table for FOLD 1        \n",
      "         GALAXY GALAXYQSO GALAXYSTAR   QSO QSOGALAXY  STAR STARGALAXY\n",
      "  GALAXY  15041       538         37    72       140    37         63\n",
      "  QSO       220       177          0  4330       321     0          0\n",
      "  STAR        0         0          3     0         0  5611         77\n"
     ]
    }
   ],
   "source": [
    "predintRF.1f=CategoryPredInterval(predRF.1f,labels=c(\"GALAXY\",\"QSO\", \"STAR\"))\n",
    "cat(\"50% Prediction Interval Table for FOLD 1\")\n",
    "print(table(testDat1$class,predintRF.1f$pred50))\n",
    "cat(\"80% Prediction Interval Table for FOLD 1\")\n",
    "print(table(testDat1$class,predintRF.1f$pred80))"
   ]
  },
  {
   "cell_type": "code",
   "execution_count": 19,
   "id": "b4ac99b5-b321-4f1c-993d-527e38cad791",
   "metadata": {},
   "outputs": [
    {
     "name": "stdout",
     "output_type": "stream",
     "text": [
      "50% Prediction Interval Table for FOLD 2        \n",
      "         GALAXY GALAXYQSO   QSO QSOGALAXY  STAR STARGALAXY\n",
      "  GALAXY  15506         3   187         3    85          1\n",
      "  QSO       439         1  4646         1     3          0\n",
      "  STAR        6         0     0         0  5785          0\n",
      "80% Prediction Interval Table for FOLD 2        \n",
      "         GALAXY GALAXYQSO GALAXYQSOSTAR GALAXYSTAR   QSO QSOGALAXY  STAR\n",
      "  GALAXY  14951       509             1         48    52       138    25\n",
      "  QSO       244       196             0          0  4323       324     2\n",
      "  STAR        1         0             0          5     0         0  5694\n",
      "        \n",
      "         STARGALAXY\n",
      "  GALAXY         61\n",
      "  QSO             1\n",
      "  STAR           91\n"
     ]
    }
   ],
   "source": [
    "predintRF.2f=CategoryPredInterval(predRF.2f,labels=c(\"GALAXY\",\"QSO\", \"STAR\"))\n",
    "cat(\"50% Prediction Interval Table for FOLD 2\")\n",
    "print(table(testDat2$class,predintRF.2f$pred50))\n",
    "cat(\"80% Prediction Interval Table for FOLD 2\")\n",
    "print(table(testDat2$class,predintRF.2f$pred80))"
   ]
  },
  {
   "cell_type": "code",
   "execution_count": 20,
   "id": "ec05fa35-2747-45c8-a0a0-14550c8ae4e2",
   "metadata": {},
   "outputs": [
    {
     "name": "stdout",
     "output_type": "stream",
     "text": [
      "50% Prediction Interval Table for FOLD 3        \n",
      "         GALAXY GALAXYQSO GALAXYSTAR   QSO QSOGALAXY  STAR STARGALAXY\n",
      "  GALAXY  15611         2          2   177         1    94          0\n",
      "  QSO       419         2          0  4676         1     0          0\n",
      "  STAR        8         0          0     0         0  5672          1\n",
      "80% Prediction Interval Table for FOLD 3        \n",
      "         GALAXY GALAXYQSO GALAXYSTAR   QSO QSOGALAXY  STAR STARGALAXY\n",
      "  GALAXY  15088       495         32    59       119    35         59\n",
      "  QSO       219       201          1  4362       315     0          0\n",
      "  STAR        0         0          8     0         0  5595         78\n"
     ]
    }
   ],
   "source": [
    "predintRF.3f=CategoryPredInterval(predRF.3f,labels=c(\"GALAXY\",\"QSO\", \"STAR\"))\n",
    "cat(\"50% Prediction Interval Table for FOLD 3\")\n",
    "print(table(testDat3$class,predintRF.3f$pred50))\n",
    "cat(\"80% Prediction Interval Table for FOLD 3\")\n",
    "print(table(testDat3$class,predintRF.3f$pred80))"
   ]
  },
  {
   "cell_type": "code",
   "execution_count": 22,
   "id": "b7682e1f-725b-4653-8390-53e04f90feef",
   "metadata": {},
   "outputs": [
    {
     "name": "stdout",
     "output_type": "stream",
     "text": [
      "RF Cross Validation Misclassification rate - 50%Misclassification rate for  GALAXY :  0.019 \n",
      "Misclassification rate for  QSO :  0.078 \n",
      "Misclassification rate for  STAR :  0.001 \n",
      "Avg Misclassification rate:  0.033 \n",
      "RF Cross Validation Misclassification rate - 50% Misclassification rate for  GALAXY :  0.007 \n",
      "Misclassification rate for  QSO :  0.044 \n",
      "Misclassification rate for  STAR :  0 \n",
      "Avg Misclassification rate:  0.017 \n"
     ]
    }
   ],
   "source": [
    "# cv1\n",
    "cat(\"RF Cross Validation Misclassification rate - 50%\")\n",
    "misRF.1f50 <- categMisclassRates(as.matrix(table(testDat1$class,predintRF.1f$pred50)))\n",
    "\n",
    "cat(\"RF Cross Validation Misclassification rate - 50% \")\n",
    "misRF.1f80 <- categMisclassRates(as.matrix(table(testDat1$class,predintRF.1f$pred80)))"
   ]
  },
  {
   "cell_type": "code",
   "execution_count": 23,
   "id": "08306bbc-5ce8-4c0f-9912-e7833197f339",
   "metadata": {},
   "outputs": [
    {
     "name": "stdout",
     "output_type": "stream",
     "text": [
      "RF Cross Validation Misclassification rate - 50%Misclassification rate for  GALAXY :  0.017 \n",
      "Misclassification rate for  QSO :  0.087 \n",
      "Misclassification rate for  STAR :  0.001 \n",
      "Avg Misclassification rate:  0.035 \n",
      "RF Cross Validation Misclassification rate - 80%Misclassification rate for  GALAXY :  0.005 \n",
      "Misclassification rate for  QSO :  0.049 \n",
      "Misclassification rate for  STAR :  0 \n",
      "Avg Misclassification rate:  0.018 \n"
     ]
    }
   ],
   "source": [
    "# cv2\n",
    "cat(\"RF Cross Validation Misclassification rate - 50%\")\n",
    "misRF.2f50 <- categMisclassRates(as.matrix(table(testDat2$class,predintRF.2f$pred50)))\n",
    "cat(\"RF Cross Validation Misclassification rate - 80%\")\n",
    "misRF.2f80 <- categMisclassRates(as.matrix(table(testDat2$class,predintRF.2f$pred80)))"
   ]
  },
  {
   "cell_type": "code",
   "execution_count": 24,
   "id": "3c38f5d0-79b4-4340-828c-8f6364f9fbe8",
   "metadata": {},
   "outputs": [
    {
     "name": "stdout",
     "output_type": "stream",
     "text": [
      "RF Cross Validation Misclassification rate - 50%Misclassification rate for  GALAXY :  0.017 \n",
      "Misclassification rate for  QSO :  0.082 \n",
      "Misclassification rate for  STAR :  0.001 \n",
      "Avg Misclassification rate:  0.034 \n",
      "RF Cross Validation Misclassification rate - 80%Misclassification rate for  GALAXY :  0.006 \n",
      "Misclassification rate for  QSO :  0.043 \n",
      "Misclassification rate for  STAR :  0 \n",
      "Avg Misclassification rate:  0.016 \n"
     ]
    }
   ],
   "source": [
    "# cv3\n",
    "cat(\"RF Cross Validation Misclassification rate - 50%\")\n",
    "misRF.3f50 <- categMisclassRates(as.matrix(table(testDat3$class,predintRF.3f$pred50)))\n",
    "cat(\"RF Cross Validation Misclassification rate - 80%\")\n",
    "misRF.3f80 <- categMisclassRates(as.matrix(table(testDat3$class,predintRF.3f$pred80)))"
   ]
  },
  {
   "cell_type": "code",
   "execution_count": 25,
   "id": "0e3761f2-8619-4b34-b488-18f77e95cc30",
   "metadata": {},
   "outputs": [],
   "source": [
    "# computer avg misclass rate -- cv\n",
    "misrf_50<-c(round(mean(misRF.1f50[1], misRF.2f50[1], misRF.3f50[1]), 3), \n",
    "round(mean(misRF.1f50[2], misRF.2f50[2], misRF.3f50[2]), 3), \n",
    "round(mean(misRF.1f50[3], misRF.2f50[3], misRF.3f50[3]), 3))\n",
    "\n",
    "misrf_80<-c(round(mean(misRF.1f80[1], misRF.2f80[1], misRF.3f80[1]), 3), \n",
    "round(mean(misRF.1f80[2], misRF.2f80[2], misRF.3f80[2]), 3), \n",
    "round(mean(misRF.1f80[3], misRF.2f80[3], misRF.3f80[3]), 3))"
   ]
  },
  {
   "cell_type": "code",
   "execution_count": 26,
   "id": "d6e7c559-609f-4740-bf3d-dfd5f4f4e925",
   "metadata": {},
   "outputs": [
    {
     "name": "stdout",
     "output_type": "stream",
     "text": [
      "RF CV Prediction Interval Table"
     ]
    },
    {
     "data": {
      "text/html": [
       "<table class=\"dataframe\">\n",
       "<caption>A matrix: 2 × 3 of type dbl</caption>\n",
       "<thead>\n",
       "\t<tr><th></th><th scope=col>GALAXY</th><th scope=col>QSO</th><th scope=col>STAR</th></tr>\n",
       "</thead>\n",
       "<tbody>\n",
       "\t<tr><th scope=row>50% PI</th><td>0.019</td><td>0.078</td><td>0.001</td></tr>\n",
       "\t<tr><th scope=row>80% PI</th><td>0.007</td><td>0.044</td><td>0.000</td></tr>\n",
       "</tbody>\n",
       "</table>\n"
      ],
      "text/latex": [
       "A matrix: 2 × 3 of type dbl\n",
       "\\begin{tabular}{r|lll}\n",
       "  & GALAXY & QSO & STAR\\\\\n",
       "\\hline\n",
       "\t50\\% PI & 0.019 & 0.078 & 0.001\\\\\n",
       "\t80\\% PI & 0.007 & 0.044 & 0.000\\\\\n",
       "\\end{tabular}\n"
      ],
      "text/markdown": [
       "\n",
       "A matrix: 2 × 3 of type dbl\n",
       "\n",
       "| <!--/--> | GALAXY | QSO | STAR |\n",
       "|---|---|---|---|\n",
       "| 50% PI | 0.019 | 0.078 | 0.001 |\n",
       "| 80% PI | 0.007 | 0.044 | 0.000 |\n",
       "\n"
      ],
      "text/plain": [
       "       GALAXY QSO   STAR \n",
       "50% PI 0.019  0.078 0.001\n",
       "80% PI 0.007  0.044 0.000"
      ]
     },
     "metadata": {},
     "output_type": "display_data"
    }
   ],
   "source": [
    "cat(\"RF CV Prediction Interval Table\")\n",
    "mis_rf_result <- rbind(misrf_50, misrf_80)\n",
    "colnames(mis_rf_result) <- c(\"GALAXY\",\"QSO\",\"STAR\")\n",
    "rownames(mis_rf_result) <- c(\"50% PI\",  \"80% PI\")\n",
    "mis_rf_result"
   ]
  },
  {
   "cell_type": "markdown",
   "id": "f4ef64cb-1a68-4589-b35f-f1011259fece",
   "metadata": {},
   "source": [
    "#### 3.1.2 fit the model in holdo - RF"
   ]
  },
  {
   "cell_type": "code",
   "execution_count": 27,
   "id": "53336abc-8f79-4fe7-bbfb-f5dc57dee469",
   "metadata": {},
   "outputs": [],
   "source": [
    "rf_pred_class_prob_holdo <- predict(RF.2f, newdata = holdo, type = \"prob\")\n",
    "rf_predict_pi_holdo<-CategoryPredInterval(rf_pred_class_prob_holdo, c(\"GALAXY\",\"QSO\",\"STAR\"))"
   ]
  },
  {
   "cell_type": "code",
   "execution_count": 28,
   "id": "d9bde2e4-2667-475d-ac7e-50c7e8fcd967",
   "metadata": {},
   "outputs": [
    {
     "data": {
      "text/plain": [
       "        \n",
       "         GALAXY GALAXYQSO   QSO QSOGALAXY  STAR STARGALAXY\n",
       "  GALAXY  11650         3   121         0    71          0\n",
       "  QSO       295         2  3427         1     0          0\n",
       "  STAR        1         0     0         0  4428          1"
      ]
     },
     "metadata": {},
     "output_type": "display_data"
    }
   ],
   "source": [
    "rf_pi_50_holdo<-table(holdo$class,rf_predict_pi_holdo$pred50);rf_pi_50_holdo"
   ]
  },
  {
   "cell_type": "code",
   "execution_count": 29,
   "id": "33a696c4-4e31-4ebc-abe6-32855f1f70cd",
   "metadata": {},
   "outputs": [
    {
     "data": {
      "text/plain": [
       "        \n",
       "         GALAXY GALAXYQSO GALAXYSTAR   QSO QSOGALAXY  STAR STARGALAXY\n",
       "  GALAXY  11214       410         29    42        79    16         55\n",
       "  QSO       151       146          0  3194       234     0          0\n",
       "  STAR        0         0          1     0         0  4357         72"
      ]
     },
     "metadata": {},
     "output_type": "display_data"
    }
   ],
   "source": [
    "rf_pi_80_holdo<-table(holdo$class,rf_predict_pi_holdo$pred80);rf_pi_80_holdo"
   ]
  },
  {
   "cell_type": "code",
   "execution_count": 30,
   "id": "4c16a865-2da9-47d7-b2af-19e63cf71721",
   "metadata": {},
   "outputs": [
    {
     "name": "stdout",
     "output_type": "stream",
     "text": [
      "Number of misclassifications for  GALAXY : 192 \n",
      "Misclassification rate for  GALAXY :  0.016 \n",
      "Number of misclassifications for  QSO : 295 \n",
      "Misclassification rate for  QSO :  0.079 \n",
      "Number of misclassifications for  STAR : 1 \n",
      "Misclassification rate for  STAR :  0 \n",
      "Avg Misclassification rate:  0.032 \n"
     ]
    }
   ],
   "source": [
    "# 50% misclass\n",
    "misrf_holdo50<-categMisclassRates(rf_pi_50_holdo, iprint=TRUE)"
   ]
  },
  {
   "cell_type": "code",
   "execution_count": 31,
   "id": "5c9dc91e-1cb5-4368-b4ee-0da6a4d380bc",
   "metadata": {},
   "outputs": [
    {
     "name": "stdout",
     "output_type": "stream",
     "text": [
      "Number of misclassifications for  GALAXY : 58 \n",
      "Misclassification rate for  GALAXY :  0.005 \n",
      "Number of misclassifications for  QSO : 151 \n",
      "Misclassification rate for  QSO :  0.041 \n",
      "Number of misclassifications for  STAR : 0 \n",
      "Misclassification rate for  STAR :  0 \n",
      "Avg Misclassification rate:  0.015 \n"
     ]
    }
   ],
   "source": [
    "# 80% misclass\n",
    "misrf_holdo80<-categMisclassRates(rf_pi_80_holdo, iprint=TRUE)"
   ]
  },
  {
   "cell_type": "code",
   "execution_count": 144,
   "id": "e3ff7a04-bad7-4a0b-86c0-99f26bfbbdec",
   "metadata": {},
   "outputs": [
    {
     "name": "stdout",
     "output_type": "stream",
     "text": [
      "RF Holdout Prediction Interval Table"
     ]
    },
    {
     "data": {
      "text/html": [
       "<table class=\"dataframe\">\n",
       "<caption>A matrix: 2 × 3 of type dbl</caption>\n",
       "<thead>\n",
       "\t<tr><th></th><th scope=col>GALAXY</th><th scope=col>QSO</th><th scope=col>STAR</th></tr>\n",
       "</thead>\n",
       "<tbody>\n",
       "\t<tr><th scope=row>50% PI</th><td>0.016</td><td>0.079</td><td>0</td></tr>\n",
       "\t<tr><th scope=row>80% PI</th><td>0.005</td><td>0.041</td><td>0</td></tr>\n",
       "</tbody>\n",
       "</table>\n"
      ],
      "text/latex": [
       "A matrix: 2 × 3 of type dbl\n",
       "\\begin{tabular}{r|lll}\n",
       "  & GALAXY & QSO & STAR\\\\\n",
       "\\hline\n",
       "\t50\\% PI & 0.016 & 0.079 & 0\\\\\n",
       "\t80\\% PI & 0.005 & 0.041 & 0\\\\\n",
       "\\end{tabular}\n"
      ],
      "text/markdown": [
       "\n",
       "A matrix: 2 × 3 of type dbl\n",
       "\n",
       "| <!--/--> | GALAXY | QSO | STAR |\n",
       "|---|---|---|---|\n",
       "| 50% PI | 0.016 | 0.079 | 0 |\n",
       "| 80% PI | 0.005 | 0.041 | 0 |\n",
       "\n"
      ],
      "text/plain": [
       "       GALAXY QSO   STAR\n",
       "50% PI 0.016  0.079 0   \n",
       "80% PI 0.005  0.041 0   "
      ]
     },
     "metadata": {},
     "output_type": "display_data"
    }
   ],
   "source": [
    "cat(\"RF Holdout Prediction Interval Table\")\n",
    "mis_rf_result_holdo <- round(rbind(misrf_holdo50, misrf_holdo80), 3)\n",
    "colnames(mis_rf_result_holdo) <- c(\"GALAXY\",\"QSO\",\"STAR\")\n",
    "rownames(mis_rf_result_holdo) <- c(\"50% PI\",  \"80% PI\")\n",
    "mis_rf_result_holdo"
   ]
  },
  {
   "cell_type": "markdown",
   "id": "787afda1-a9fb-4b01-96b1-cbd90549adca",
   "metadata": {},
   "source": [
    "### 3.2 Method 2 - Multinomial"
   ]
  },
  {
   "cell_type": "markdown",
   "id": "e1287ead-63cd-4e17-95b0-3937d5f951af",
   "metadata": {},
   "source": [
    "#### 3.2.1 Multinomial CV"
   ]
  },
  {
   "cell_type": "code",
   "execution_count": 33,
   "id": "450e0004-9849-4b52-8ce4-9258bb341c02",
   "metadata": {},
   "outputs": [],
   "source": [
    "options(warn = -1)\n",
    "#Build 3 different models, based on which fold, fold1 uses the first section of the data as the \"test\" set SUBSETTED VARIABLES\n",
    "multi_1f <- vglm(class~., multinomial(), data = trainDat1[-1])\n",
    "multi_2f <- vglm(class~., multinomial(), data = trainDat2[-1])\n",
    "multi_3f <- vglm(class~., multinomial(), data = trainDat3[-1])"
   ]
  },
  {
   "cell_type": "code",
   "execution_count": 34,
   "id": "b0323cff",
   "metadata": {},
   "outputs": [],
   "source": [
    "#Predictions for each fold\n",
    "pred_multi_1f <- predict(multi_1f , newdata = testDat1[-1], type = \"response\") #fold1\n",
    "pred_multi_2f<- predict(multi_2f , newdata = testDat2[-1], type = \"response\") #fold2\n",
    "pred_multi_3f <- predict(multi_3f , newdata = testDat3[-1], type = \"response\") #fold3\n"
   ]
  },
  {
   "cell_type": "code",
   "execution_count": 35,
   "id": "2d2ee9be-e911-4446-a9cd-54111d380231",
   "metadata": {},
   "outputs": [],
   "source": [
    "multi_predict_pi_1<-CategoryPredInterval(pred_multi_1f, c(\"GALAXY\",\"QSO\",\"STAR\"))\n",
    "multi_predict_pi_2<-CategoryPredInterval(pred_multi_2f, c(\"GALAXY\",\"QSO\",\"STAR\"))\n",
    "multi_predict_pi_3<-CategoryPredInterval(pred_multi_3f, c(\"GALAXY\",\"QSO\",\"STAR\"))"
   ]
  },
  {
   "cell_type": "code",
   "execution_count": 36,
   "id": "b25796a0-83b5-464a-82f5-997bad38106b",
   "metadata": {},
   "outputs": [
    {
     "name": "stdout",
     "output_type": "stream",
     "text": [
      "Multinomial Cross Validation Misclassification rate - 50%Misclassification rate for  GALAXY :  0.033 \n",
      "Misclassification rate for  QSO :  0.128 \n",
      "Misclassification rate for  STAR :  0 \n",
      "Avg Misclassification rate:  0.054 \n",
      "Multinomial Cross Validation Misclassification rate - 50% Misclassification rate for  GALAXY :  0.017 \n",
      "Misclassification rate for  QSO :  0.072 \n",
      "Misclassification rate for  STAR :  0 \n",
      "Avg Misclassification rate:  0.03 \n"
     ]
    }
   ],
   "source": [
    "# cv1\n",
    "cat(\"Multinomial Cross Validation Misclassification rate - 50%\")\n",
    "mismulti_1f50 <- categMisclassRates(as.matrix(table(testDat1$class, multi_predict_pi_1$pred50)))\n",
    "\n",
    "cat(\"Multinomial Cross Validation Misclassification rate - 50% \")\n",
    "mismulti_1f80 <- categMisclassRates(as.matrix(table(testDat1$class, multi_predict_pi_1$pred80)))"
   ]
  },
  {
   "cell_type": "code",
   "execution_count": 37,
   "id": "45c0b4cc-954f-4759-9c15-107810b8955c",
   "metadata": {},
   "outputs": [
    {
     "name": "stdout",
     "output_type": "stream",
     "text": [
      "Multinomial Cross Validation Misclassification rate - 50%Misclassification rate for  GALAXY :  0.033 \n",
      "Misclassification rate for  QSO :  0.133 \n",
      "Misclassification rate for  STAR :  0 \n",
      "Avg Misclassification rate:  0.055 \n",
      "Multinomial Cross Validation Misclassification rate - 50% Misclassification rate for  GALAXY :  0.015 \n",
      "Misclassification rate for  QSO :  0.078 \n",
      "Misclassification rate for  STAR :  0 \n",
      "Avg Misclassification rate:  0.031 \n"
     ]
    }
   ],
   "source": [
    "# cv2\n",
    "cat(\"Multinomial Cross Validation Misclassification rate - 50%\")\n",
    "mismulti_2f50 <- categMisclassRates(as.matrix(table(testDat2$class, multi_predict_pi_2$pred50)))\n",
    "\n",
    "cat(\"Multinomial Cross Validation Misclassification rate - 50% \")\n",
    "mismulti_2f80 <- categMisclassRates(as.matrix(table(testDat2$class, multi_predict_pi_2$pred80)))"
   ]
  },
  {
   "cell_type": "code",
   "execution_count": 38,
   "id": "a9301f75-7a1f-4bf8-80b5-5c0776b71ab3",
   "metadata": {},
   "outputs": [
    {
     "name": "stdout",
     "output_type": "stream",
     "text": [
      "Multinomial Cross Validation Misclassification rate - 50%Misclassification rate for  GALAXY :  0.03 \n",
      "Misclassification rate for  QSO :  0.127 \n",
      "Misclassification rate for  STAR :  0.001 \n",
      "Avg Misclassification rate:  0.052 \n",
      "Multinomial Cross Validation Misclassification rate - 50% Misclassification rate for  GALAXY :  0.014 \n",
      "Misclassification rate for  QSO :  0.071 \n",
      "Misclassification rate for  STAR :  0 \n",
      "Avg Misclassification rate:  0.028 \n"
     ]
    }
   ],
   "source": [
    "# cv3\n",
    "cat(\"Multinomial Cross Validation Misclassification rate - 50%\")\n",
    "mismulti_3f50 <- categMisclassRates(as.matrix(table(testDat3$class, multi_predict_pi_3$pred50)))\n",
    "\n",
    "cat(\"Multinomial Cross Validation Misclassification rate - 50% \")\n",
    "mismulti_3f80 <- categMisclassRates(as.matrix(table(testDat3$class, multi_predict_pi_3$pred80)))"
   ]
  },
  {
   "cell_type": "code",
   "execution_count": 84,
   "id": "c8e517a6-bb0f-412f-8b49-1ec708dc9502",
   "metadata": {},
   "outputs": [],
   "source": [
    "# computer avg misclass rate -- cv\n",
    "mismulti_50<-c(round(mean(mismulti_1f50[1], mismulti_2f50[1], mismulti_3f50[1]), 3), \n",
    "round(mean(mismulti_1f50[2], mismulti_2f50[2], mismulti_3f50[2]), 3), \n",
    "round(mean(mismulti_1f50[3], mismulti_2f50[3], mismulti_3f50[3]), 3))\n",
    "\n",
    "mismulti_80<-c(round(mean(mismulti_1f80[1], mismulti_2f80[1], mismulti_3f80[1]), 3), \n",
    "round(mean(mismulti_1f80[2], mismulti_2f80[2], mismulti_3f80[2]), 3), \n",
    "round(mean(mismulti_1f80[3], mismulti_2f80[3], mismulti_3f80[3]), 3))"
   ]
  },
  {
   "cell_type": "code",
   "execution_count": 85,
   "id": "e144334c-2a44-425f-aaa2-d5f98f1c41b4",
   "metadata": {},
   "outputs": [
    {
     "name": "stdout",
     "output_type": "stream",
     "text": [
      "Multinomial CV Prediction Interval Table"
     ]
    },
    {
     "data": {
      "text/html": [
       "<table class=\"dataframe\">\n",
       "<caption>A matrix: 2 × 3 of type dbl</caption>\n",
       "<thead>\n",
       "\t<tr><th></th><th scope=col>GALAXY</th><th scope=col>QSO</th><th scope=col>STAR</th></tr>\n",
       "</thead>\n",
       "<tbody>\n",
       "\t<tr><th scope=row>50% PI</th><td>0.033</td><td>0.128</td><td>0</td></tr>\n",
       "\t<tr><th scope=row>80% PI</th><td>0.017</td><td>0.072</td><td>0</td></tr>\n",
       "</tbody>\n",
       "</table>\n"
      ],
      "text/latex": [
       "A matrix: 2 × 3 of type dbl\n",
       "\\begin{tabular}{r|lll}\n",
       "  & GALAXY & QSO & STAR\\\\\n",
       "\\hline\n",
       "\t50\\% PI & 0.033 & 0.128 & 0\\\\\n",
       "\t80\\% PI & 0.017 & 0.072 & 0\\\\\n",
       "\\end{tabular}\n"
      ],
      "text/markdown": [
       "\n",
       "A matrix: 2 × 3 of type dbl\n",
       "\n",
       "| <!--/--> | GALAXY | QSO | STAR |\n",
       "|---|---|---|---|\n",
       "| 50% PI | 0.033 | 0.128 | 0 |\n",
       "| 80% PI | 0.017 | 0.072 | 0 |\n",
       "\n"
      ],
      "text/plain": [
       "       GALAXY QSO   STAR\n",
       "50% PI 0.033  0.128 0   \n",
       "80% PI 0.017  0.072 0   "
      ]
     },
     "metadata": {},
     "output_type": "display_data"
    }
   ],
   "source": [
    "cat(\"Multinomial CV Prediction Interval Table\")\n",
    "mis_multi_result_cv <- rbind(mismulti_50, mismulti_80)\n",
    "colnames(mis_multi_result_cv) <- c(\"GALAXY\",\"QSO\",\"STAR\")\n",
    "rownames(mis_multi_result_cv) <- c(\"50% PI\",  \"80% PI\")\n",
    "mis_multi_result_cv"
   ]
  },
  {
   "cell_type": "markdown",
   "id": "2cd2f97b-7ff8-4d5b-82af-763363b5cd14",
   "metadata": {},
   "source": [
    "#### 3.2.2 fit the model in holdo - Multi"
   ]
  },
  {
   "cell_type": "code",
   "execution_count": 41,
   "id": "70380796-8de4-4354-9b2c-a1fbe2321119",
   "metadata": {},
   "outputs": [],
   "source": [
    "multi_pred_class_prob_holdo <- predict(multi_3f , newdata = holdo, type = \"response\")\n",
    "multi_predict_pi_holdo<-CategoryPredInterval(multi_pred_class_prob_holdo, c(\"GALAXY\",\"QSO\",\"STAR\"))"
   ]
  },
  {
   "cell_type": "code",
   "execution_count": 42,
   "id": "fcc57fa9-a860-40f0-8df9-2431160135e1",
   "metadata": {},
   "outputs": [
    {
     "data": {
      "text/plain": [
       "        \n",
       "         GALAXY GALAXYSTAR   QSO  STAR STARGALAXY\n",
       "  GALAXY  11460         12   184   180          9\n",
       "  QSO       452          0  3272     1          0\n",
       "  STAR        0          0     0  4430          0"
      ]
     },
     "metadata": {},
     "output_type": "display_data"
    }
   ],
   "source": [
    "multi_pi_50_holdo<-table(holdo$class,multi_predict_pi_holdo$pred50);multi_pi_50_holdo"
   ]
  },
  {
   "cell_type": "code",
   "execution_count": 43,
   "id": "070a6d10-3f77-47da-a502-bc938e826bc2",
   "metadata": {},
   "outputs": [
    {
     "data": {
      "text/plain": [
       "        \n",
       "         GALAXY GALAXYQSO GALAXYSTAR   QSO QSOGALAXY  STAR STARGALAXY STARQSO\n",
       "  GALAXY  10775       480        217    60       124   115         73       1\n",
       "  QSO       265       186          1  2957       315     1          0       0\n",
       "  STAR        0         0          0     0         0  4385         38       7"
      ]
     },
     "metadata": {},
     "output_type": "display_data"
    }
   ],
   "source": [
    "multi_pi_80_holdo<-table(holdo$class,multi_predict_pi_holdo$pred80);multi_pi_80_holdo"
   ]
  },
  {
   "cell_type": "code",
   "execution_count": 44,
   "id": "78442291-7a4c-49ae-8685-6e23a41012e4",
   "metadata": {},
   "outputs": [
    {
     "name": "stdout",
     "output_type": "stream",
     "text": [
      "Number of misclassifications for  GALAXY : 364 \n",
      "Misclassification rate for  GALAXY :  0.031 \n",
      "Number of misclassifications for  QSO : 453 \n",
      "Misclassification rate for  QSO :  0.122 \n",
      "Number of misclassifications for  STAR : 0 \n",
      "Misclassification rate for  STAR :  0 \n",
      "Avg Misclassification rate:  0.051 \n"
     ]
    }
   ],
   "source": [
    "# 50% misclass\n",
    "mismulti_holdo50<-categMisclassRates(multi_pi_50_holdo, iprint=TRUE)"
   ]
  },
  {
   "cell_type": "code",
   "execution_count": 45,
   "id": "4229419e-3fd5-477d-a9f4-d1e33db3f773",
   "metadata": {},
   "outputs": [
    {
     "name": "stdout",
     "output_type": "stream",
     "text": [
      "Number of misclassifications for  GALAXY : 176 \n",
      "Misclassification rate for  GALAXY :  0.015 \n",
      "Number of misclassifications for  QSO : 267 \n",
      "Misclassification rate for  QSO :  0.072 \n",
      "Number of misclassifications for  STAR : 0 \n",
      "Misclassification rate for  STAR :  0 \n",
      "Avg Misclassification rate:  0.029 \n"
     ]
    }
   ],
   "source": [
    "# 80% misclass\n",
    "mismulti_holdo80<-categMisclassRates(multi_pi_80_holdo, iprint=TRUE)"
   ]
  },
  {
   "cell_type": "code",
   "execution_count": 46,
   "id": "e3cec174-df20-4d4a-85bd-06cd5d048b4b",
   "metadata": {},
   "outputs": [
    {
     "name": "stdout",
     "output_type": "stream",
     "text": [
      "Multinomial Holdout Prediction Interval Table"
     ]
    },
    {
     "data": {
      "text/html": [
       "<table class=\"dataframe\">\n",
       "<caption>A matrix: 2 × 3 of type dbl</caption>\n",
       "<thead>\n",
       "\t<tr><th></th><th scope=col>GALAXY</th><th scope=col>QSO</th><th scope=col>STAR</th></tr>\n",
       "</thead>\n",
       "<tbody>\n",
       "\t<tr><th scope=row>50% PI</th><td>0.031</td><td>0.122</td><td>0</td></tr>\n",
       "\t<tr><th scope=row>80% PI</th><td>0.015</td><td>0.072</td><td>0</td></tr>\n",
       "</tbody>\n",
       "</table>\n"
      ],
      "text/latex": [
       "A matrix: 2 × 3 of type dbl\n",
       "\\begin{tabular}{r|lll}\n",
       "  & GALAXY & QSO & STAR\\\\\n",
       "\\hline\n",
       "\t50\\% PI & 0.031 & 0.122 & 0\\\\\n",
       "\t80\\% PI & 0.015 & 0.072 & 0\\\\\n",
       "\\end{tabular}\n"
      ],
      "text/markdown": [
       "\n",
       "A matrix: 2 × 3 of type dbl\n",
       "\n",
       "| <!--/--> | GALAXY | QSO | STAR |\n",
       "|---|---|---|---|\n",
       "| 50% PI | 0.031 | 0.122 | 0 |\n",
       "| 80% PI | 0.015 | 0.072 | 0 |\n",
       "\n"
      ],
      "text/plain": [
       "       GALAXY QSO   STAR\n",
       "50% PI 0.031  0.122 0   \n",
       "80% PI 0.015  0.072 0   "
      ]
     },
     "metadata": {},
     "output_type": "display_data"
    }
   ],
   "source": [
    "cat(\"Multinomial Holdout Prediction Interval Table\")\n",
    "mis_multi_result_holdo <- round(rbind(mismulti_holdo50, mismulti_holdo80), 3)\n",
    "colnames(mis_multi_result_holdo) <- c(\"GALAXY\",\"QSO\",\"STAR\")\n",
    "rownames(mis_multi_result_holdo) <- c(\"50% PI\",  \"80% PI\")\n",
    "mis_multi_result_holdo"
   ]
  },
  {
   "cell_type": "markdown",
   "id": "e6383866-099d-4e63-992f-6b2538305225",
   "metadata": {},
   "source": [
    "## 3.3 Method 3 -- Caret kNN-rf"
   ]
  },
  {
   "cell_type": "markdown",
   "id": "b5a4df93-b7db-4cb7-bd5a-13537a794500",
   "metadata": {},
   "source": [
    "#### 3.3.1 kNN CV Implementation"
   ]
  },
  {
   "cell_type": "code",
   "execution_count": 48,
   "id": "708ca924-17f8-4302-b802-768a67670cdb",
   "metadata": {},
   "outputs": [],
   "source": [
    "# reload data which is specifically pruned for kNN\n",
    "kNN_star <- read.csv(\"./kNN_data/kNN_PhaseA_star_rf.csv\")"
   ]
  },
  {
   "cell_type": "code",
   "execution_count": 52,
   "id": "64fed54b-5cbf-4da4-b3ee-3387467c7d67",
   "metadata": {},
   "outputs": [],
   "source": [
    "# transfer variable types for alogrithms \n",
    "kNN_star <- kNN_star %>% mutate(\n",
    "  class = factor(class))"
   ]
  },
  {
   "cell_type": "code",
   "execution_count": 54,
   "id": "02b06af8-c6fd-4b72-8763-ea086d98a05c",
   "metadata": {},
   "outputs": [],
   "source": [
    "# train holdo split\n",
    "set.seed(447)\n",
    "kNN_train<- sample_n(kNN_star, size = nrow(kNN_star) * 0.80,\n",
    "  replace = FALSE\n",
    ")\n",
    "\n",
    "kNN_holdo <- anti_join(kNN_star,\n",
    "  kNN_train,\n",
    "  by = \"X\"\n",
    ")"
   ]
  },
  {
   "cell_type": "code",
   "execution_count": 55,
   "id": "d4361907-6c44-4b5a-ba39-cf9dac349f4e",
   "metadata": {},
   "outputs": [],
   "source": [
    "# drop X(id) col in holdo\n",
    "kNN_holdo <- kNN_holdo[-1]"
   ]
  },
  {
   "cell_type": "code",
   "execution_count": 57,
   "id": "7120be94-faa5-44a7-bf5e-e56e36d8cb4d",
   "metadata": {},
   "outputs": [],
   "source": [
    "# transfer class levels for package to work\n",
    "kNN_train <- kNN_train %>% mutate(class =\n",
    "                     case_when(class == \"GALAXY\" ~ \"X1\",\n",
    "                               class == \"QSO\" ~ \"X2\",\n",
    "                               class == \"STAR\" ~ \"X3\"))\n",
    "\n",
    "kNN_train$class <- factor(kNN_train$class) "
   ]
  },
  {
   "cell_type": "code",
   "execution_count": 58,
   "id": "ece11add-42e3-4341-be56-ba3ab0e01ed0",
   "metadata": {},
   "outputs": [],
   "source": [
    "set.seed(447)\n",
    "\n",
    "# 3-fold, preparation for cross-validated performance\n",
    "n = nrow(kNN_train)\n",
    "iperm=sample(n)\n",
    "nFold <- round(n/3) \n",
    "ifold1=iperm[1:nFold]\n",
    "ifold2=iperm[(nFold+1):(2*nFold)]\n",
    "ifold3=iperm[(2*nFold+1):(n)]\n",
    "\n",
    "#cv1: ifold1&2 \n",
    "trainDat1<-kNN_train[-ifold3,-which(colnames(kNN_train) == \"X\")]\n",
    "testDat1<-kNN_train[ifold3, -which(colnames(kNN_train) == \"X\")]\n",
    "\n",
    "#fold2: ifold2&3\n",
    "trainDat2<-kNN_train[-ifold1,-which(colnames(kNN_train) == \"X\")]\n",
    "testDat2<-kNN_train[ifold1,-which(colnames(kNN_train) == \"X\")]\n",
    "\n",
    "#fold3: ifold1&3 \n",
    "trainDat3<-kNN_train[-ifold2,-which(colnames(kNN_train) == \"X\")]\n",
    "testDat3<-kNN_train[ifold2,-which(colnames(kNN_train) == \"X\")]"
   ]
  },
  {
   "cell_type": "code",
   "execution_count": 59,
   "id": "8f543f57-fad2-4710-a01e-f5917d244dac",
   "metadata": {
    "tags": []
   },
   "outputs": [],
   "source": [
    "# convert colnames of prediction and holdo result back to original names \n",
    "testDat1<-testDat1 %>% mutate(class =\n",
    "                     case_when(class == \"X1\" ~ \"GALAXY\",\n",
    "                               class == \"X2\" ~ \"QSO\",\n",
    "                               class == \"X3\" ~ \"STAR\"))\n",
    "# convert colnames of prediction and holdo result back to original names \n",
    "testDat2<-testDat2 %>% mutate(class =\n",
    "                     case_when(class == \"X1\" ~ \"GALAXY\",\n",
    "                               class == \"X2\" ~ \"QSO\",\n",
    "                               class == \"X3\" ~ \"STAR\"))\n",
    "# convert colnames of prediction and holdo result back to original names \n",
    "testDat3<-testDat3 %>% mutate(class =\n",
    "                     case_when(class == \"X1\" ~ \"GALAXY\",\n",
    "                               class == \"X2\" ~ \"QSO\",\n",
    "                               class == \"X3\" ~ \"STAR\"))"
   ]
  },
  {
   "cell_type": "code",
   "execution_count": 60,
   "id": "f83eeb22-3d6e-4fc2-aec0-0e1f79e317b3",
   "metadata": {},
   "outputs": [
    {
     "data": {
      "text/html": [
       "162"
      ],
      "text/latex": [
       "162"
      ],
      "text/markdown": [
       "162"
      ],
      "text/plain": [
       "[1] 162"
      ]
     },
     "metadata": {},
     "output_type": "display_data"
    }
   ],
   "source": [
    "# k is usually set as the square root of number of observations\n",
    "kk <-round(sqrt(0.33*kNN_train%>%nrow()),);kk"
   ]
  },
  {
   "cell_type": "code",
   "execution_count": 63,
   "id": "60a6ba87-778e-4057-b3b8-e6acc91726d6",
   "metadata": {},
   "outputs": [],
   "source": [
    "# make a grid of values to test in cross-validation,\n",
    "# k usually set as sqrt of observations, 162 in our case. \n",
    "# So a range of k are tested, from 140 to 180\n",
    "set.seed(447)\n",
    " knnGrid <-  expand.grid(k =seq(140,180,2))\n"
   ]
  },
  {
   "cell_type": "markdown",
   "id": "b8820e7c-c604-42f2-a922-66dd9333083b",
   "metadata": {},
   "source": [
    "**For Prof and TA,<br/>Cell below has 5+ hrs (over night) Run Time**"
   ]
  },
  {
   "cell_type": "code",
   "execution_count": 64,
   "id": "680d1899-b386-41c7-ad18-f834788ab286",
   "metadata": {},
   "outputs": [],
   "source": [
    "# model training fold1\n",
    "set.seed(447)\n",
    "knnFit_1 <- train(class ~ ., # formula\n",
    "                 data = trainDat1, # train data \n",
    "                 method = \"knn\",\n",
    "                 tuneGrid = knnGrid)\n",
    "\n",
    "# model training fold2\n",
    "knnFit_2 <- train(class ~ ., # formula\n",
    "                 data = trainDat2, # train data \n",
    "                method = \"knn\",\n",
    "                 tuneGrid = knnGrid)\n",
    "\n",
    "# model training fold3\n",
    "knnFit_3 <- train(class ~ ., # formula\n",
    "                 data = trainDat3, # train data \n",
    "                 method = \"knn\",\n",
    "                 tuneGrid = knnGrid)"
   ]
  },
  {
   "cell_type": "code",
   "execution_count": 65,
   "id": "e2dcda90-c204-47a1-a2ed-665747ff9ab9",
   "metadata": {},
   "outputs": [
    {
     "data": {
      "text/plain": [
       "k-Nearest Neighbors \n",
       "\n",
       "53332 samples\n",
       "    9 predictor\n",
       "    3 classes: 'X1', 'X2', 'X3' \n",
       "\n",
       "No pre-processing\n",
       "Resampling: Bootstrapped (25 reps) \n",
       "Summary of sample sizes: 53332, 53332, 53332, 53332, 53332, 53332, ... \n",
       "Resampling results across tuning parameters:\n",
       "\n",
       "  k    Accuracy   Kappa    \n",
       "  140  0.9181986  0.8524433\n",
       "  142  0.9178805  0.8518428\n",
       "  144  0.9175500  0.8512102\n",
       "  146  0.9172992  0.8507289\n",
       "  148  0.9169953  0.8501518\n",
       "  150  0.9166832  0.8495608\n",
       "  152  0.9163549  0.8489362\n",
       "  154  0.9161161  0.8484750\n",
       "  156  0.9158309  0.8479395\n",
       "  158  0.9155046  0.8473168\n",
       "  160  0.9152801  0.8468797\n",
       "  162  0.9149638  0.8462802\n",
       "  164  0.9146604  0.8457006\n",
       "  166  0.9143648  0.8451441\n",
       "  168  0.9140320  0.8445109\n",
       "  170  0.9137955  0.8440492\n",
       "  172  0.9135712  0.8436235\n",
       "  174  0.9132915  0.8430854\n",
       "  176  0.9129346  0.8424053\n",
       "  178  0.9126938  0.8419411\n",
       "  180  0.9123575  0.8412948\n",
       "\n",
       "Accuracy was used to select the optimal model using the largest value.\n",
       "The final value used for the model was k = 140."
      ]
     },
     "metadata": {},
     "output_type": "display_data"
    },
    {
     "data": {
      "image/png": "[encoded data removed]",
      "text/plain": [
       "plot without title"
      ]
     },
     "metadata": {
      "image/png": {
       "height": 420,
       "width": 420
      }
     },
     "output_type": "display_data"
    }
   ],
   "source": [
    "# plot to see the best k \n",
    "knnFit_1\n",
    "plot(knnFit_1)"
   ]
  },
  {
   "cell_type": "code",
   "execution_count": 66,
   "id": "1152edbb-5fec-4ebc-ace7-eac19ce691d3",
   "metadata": {},
   "outputs": [
    {
     "data": {
      "text/plain": [
       "k-Nearest Neighbors \n",
       "\n",
       "53333 samples\n",
       "    9 predictor\n",
       "    3 classes: 'X1', 'X2', 'X3' \n",
       "\n",
       "No pre-processing\n",
       "Resampling: Bootstrapped (25 reps) \n",
       "Summary of sample sizes: 53333, 53333, 53333, 53333, 53333, 53333, ... \n",
       "Resampling results across tuning parameters:\n",
       "\n",
       "  k    Accuracy   Kappa    \n",
       "  140  0.9152855  0.8463107\n",
       "  142  0.9149103  0.8455941\n",
       "  144  0.9146902  0.8451673\n",
       "  146  0.9144821  0.8447650\n",
       "  148  0.9142191  0.8442483\n",
       "  150  0.9138684  0.8435817\n",
       "  152  0.9135178  0.8429216\n",
       "  154  0.9133467  0.8425923\n",
       "  156  0.9130385  0.8419987\n",
       "  158  0.9128406  0.8416116\n",
       "  160  0.9126141  0.8411823\n",
       "  162  0.9123530  0.8406768\n",
       "  164  0.9120023  0.8400003\n",
       "  166  0.9117921  0.8395990\n",
       "  168  0.9116046  0.8392323\n",
       "  170  0.9113313  0.8387017\n",
       "  172  0.9110909  0.8382367\n",
       "  174  0.9108175  0.8376987\n",
       "  176  0.9105744  0.8372216\n",
       "  178  0.9102301  0.8365555\n",
       "  180  0.9099874  0.8360880\n",
       "\n",
       "Accuracy was used to select the optimal model using the largest value.\n",
       "The final value used for the model was k = 140."
      ]
     },
     "metadata": {},
     "output_type": "display_data"
    },
    {
     "data": {
      "image/png": "[encoded data removed]",
      "text/plain": [
       "plot without title"
      ]
     },
     "metadata": {
      "image/png": {
       "height": 420,
       "width": 420
      }
     },
     "output_type": "display_data"
    }
   ],
   "source": [
    "# plot to see the best k \n",
    "knnFit_2\n",
    "plot(knnFit_2)"
   ]
  },
  {
   "cell_type": "code",
   "execution_count": 67,
   "id": "98254a3c-cec4-4ccc-b89e-8c50d9369077",
   "metadata": {},
   "outputs": [
    {
     "data": {
      "text/plain": [
       "k-Nearest Neighbors \n",
       "\n",
       "53333 samples\n",
       "    9 predictor\n",
       "    3 classes: 'X1', 'X2', 'X3' \n",
       "\n",
       "No pre-processing\n",
       "Resampling: Bootstrapped (25 reps) \n",
       "Summary of sample sizes: 53333, 53333, 53333, 53333, 53333, 53333, ... \n",
       "Resampling results across tuning parameters:\n",
       "\n",
       "  k    Accuracy   Kappa    \n",
       "  140  0.9138230  0.8439643\n",
       "  142  0.9136433  0.8436214\n",
       "  144  0.9133742  0.8431097\n",
       "  146  0.9131133  0.8426119\n",
       "  148  0.9127709  0.8419638\n",
       "  150  0.9125241  0.8414885\n",
       "  152  0.9122447  0.8409492\n",
       "  154  0.9119674  0.8404199\n",
       "  156  0.9117391  0.8399784\n",
       "  158  0.9114517  0.8394191\n",
       "  160  0.9112147  0.8389698\n",
       "  162  0.9109943  0.8385377\n",
       "  164  0.9108271  0.8382136\n",
       "  166  0.9105399  0.8376693\n",
       "  168  0.9102829  0.8371734\n",
       "  170  0.9101298  0.8368679\n",
       "  172  0.9098688  0.8363735\n",
       "  174  0.9096279  0.8359148\n",
       "  176  0.9095035  0.8356589\n",
       "  178  0.9091976  0.8350795\n",
       "  180  0.9089653  0.8346322\n",
       "\n",
       "Accuracy was used to select the optimal model using the largest value.\n",
       "The final value used for the model was k = 140."
      ]
     },
     "metadata": {},
     "output_type": "display_data"
    },
    {
     "data": {
      "image/png": "[encoded data removed]",
      "text/plain": [
       "plot without title"
      ]
     },
     "metadata": {
      "image/png": {
       "height": 420,
       "width": 420
      }
     },
     "output_type": "display_data"
    }
   ],
   "source": [
    "# plot to see the best k \n",
    "knnFit_3\n",
    "plot(knnFit_3)"
   ]
  },
  {
   "cell_type": "code",
   "execution_count": 68,
   "id": "8f3f1a0c-2854-4c21-a4e5-59226b64e7cf",
   "metadata": {},
   "outputs": [],
   "source": [
    "# get prediction result by using the pretrained model and best performed k\n",
    "knn_pred_class_prob_1 <- predict(knnFit_1, newdata = testDat1, 'prob')\n",
    "\n",
    "knn_pred_class_prob_2 <- predict(knnFit_2, newdata = testDat2, 'prob')\n",
    "\n",
    "knn_pred_class_prob_3 <- predict(knnFit_3, newdata = testDat3, 'prob')"
   ]
  },
  {
   "cell_type": "code",
   "execution_count": 69,
   "id": "50c6d534-16c2-4cf6-bdf3-9508ec5e7348",
   "metadata": {},
   "outputs": [],
   "source": [
    "# transfer result to matrix form\n",
    "knn_pred_class_prob_1 <- data.matrix(knn_pred_class_prob_1,rownames.force = T)\n",
    "knn_pred_class_prob_2 <- data.matrix(knn_pred_class_prob_2,rownames.force = T)\n",
    "knn_pred_class_prob_3 <- data.matrix(knn_pred_class_prob_3,rownames.force = T)"
   ]
  },
  {
   "cell_type": "code",
   "execution_count": 70,
   "id": "d7bba9ce-1179-4f9c-aefd-15b81ee5dcc5",
   "metadata": {},
   "outputs": [
    {
     "name": "stdout",
     "output_type": "stream",
     "text": [
      "   Min. 1st Qu.  Median    Mean 3rd Qu.    Max. \n",
      " 0.3429  0.8857  0.9786  0.9113  1.0000  1.0000 \n",
      "   Min. 1st Qu.  Median    Mean 3rd Qu.    Max. \n",
      " 0.3571  0.8857  0.9786  0.9102  1.0000  1.0000 \n",
      "   Min. 1st Qu.  Median    Mean 3rd Qu.    Max. \n",
      " 0.3571  0.8857  0.9786  0.9105  1.0000  1.0000 \n"
     ]
    }
   ],
   "source": [
    "# get quantile\n",
    "maxprob_1=apply(knn_pred_class_prob_1,1,max)\n",
    "print(summary(maxprob_1))\n",
    "maxprob_2=apply(knn_pred_class_prob_2,1,max)\n",
    "print(summary(maxprob_2))\n",
    "maxprob_3=apply(knn_pred_class_prob_3,1,max)\n",
    "print(summary(maxprob_3))"
   ]
  },
  {
   "cell_type": "code",
   "execution_count": 71,
   "id": "1dd97b1d-b472-4161-988b-fb789f09862a",
   "metadata": {},
   "outputs": [],
   "source": [
    "# PI compute\n",
    "knn_predict_pi_1<-CategoryPredInterval(knn_pred_class_prob_1, c(\"GALAXY\",\"QSO\",\"STAR\"))\n",
    "knn_predict_pi_2<-CategoryPredInterval(knn_pred_class_prob_2, c(\"GALAXY\",\"QSO\",\"STAR\"))\n",
    "knn_predict_pi_3<-CategoryPredInterval(knn_pred_class_prob_3, c(\"GALAXY\",\"QSO\",\"STAR\"))"
   ]
  },
  {
   "cell_type": "code",
   "execution_count": 73,
   "id": "83fdf1a1-e424-4603-bf0d-f8718df92c49",
   "metadata": {},
   "outputs": [
    {
     "data": {
      "text/plain": [
       "        \n",
       "         GALAXY GALAXYQSO GALAXYSTAR   QSO QSOGALAXY QSOSTAR  STAR STARGALAXY\n",
       "  GALAXY  15140         5         49   158         3       3   533         32\n",
       "  QSO       422         9          8  4511         4       3    79          7\n",
       "  STAR      985         0         11     0         0       0  4683          9\n",
       "        \n",
       "         STARQSO\n",
       "  GALAXY       5\n",
       "  QSO          5\n",
       "  STAR         3"
      ]
     },
     "metadata": {},
     "output_type": "display_data"
    },
    {
     "data": {
      "text/plain": [
       "        \n",
       "         GALAXY GALAXYQSO GALAXYSTAR   QSO QSOGALAXY QSOSTAR  STAR STARGALAXY\n",
       "  GALAXY  15060         6         37   141         4       3   500         31\n",
       "  QSO       469         7          6  4519        13       7    55          9\n",
       "  STAR      991         0         18     1         0       0  4761         18\n",
       "        \n",
       "         STARQSO\n",
       "  GALAXY       3\n",
       "  QSO          5\n",
       "  STAR         2"
      ]
     },
     "metadata": {},
     "output_type": "display_data"
    },
    {
     "data": {
      "text/plain": [
       "        \n",
       "         GALAXY GALAXYQSO GALAXYSTAR   QSO QSOGALAXY QSOSTAR  STAR STARGALAXY\n",
       "  GALAXY  15189         8         39   127         5       2   491         22\n",
       "  QSO       437        12          5  4543         8       7    71         10\n",
       "  STAR      985         0         31     0         0       2  4649         14\n",
       "        \n",
       "         STARQSO\n",
       "  GALAXY       4\n",
       "  QSO          5\n",
       "  STAR         0"
      ]
     },
     "metadata": {},
     "output_type": "display_data"
    }
   ],
   "source": [
    "# Print reult of PI \n",
    "knn_pi_50_1<-table(testDat1$class,knn_predict_pi_1$pred50);knn_pi_50_1\n",
    "knn_pi_50_2<-table(testDat2$class,knn_predict_pi_2$pred50);knn_pi_50_2\n",
    "knn_pi_50_3<-table(testDat3$class,knn_predict_pi_3$pred50);knn_pi_50_3"
   ]
  },
  {
   "cell_type": "code",
   "execution_count": 74,
   "id": "d60ae692-791b-4b12-bb78-c3936412dbe6",
   "metadata": {},
   "outputs": [
    {
     "name": "stdout",
     "output_type": "stream",
     "text": [
      "Number of misclassifications for  GALAXY : 699 \n",
      "Misclassification rate for  GALAXY :  0.044 \n",
      "Number of misclassifications for  QSO : 516 \n",
      "Misclassification rate for  QSO :  0.102 \n",
      "Number of misclassifications for  STAR : 985 \n",
      "Misclassification rate for  STAR :  0.173 \n",
      "Avg Misclassification rate:  0.106 \n"
     ]
    }
   ],
   "source": [
    "# Misclassfification Rate compute\n",
    "misknn_1f50<-categMisclassRates(knn_pi_50_1, iprint=TRUE)"
   ]
  },
  {
   "cell_type": "code",
   "execution_count": 75,
   "id": "932d75d2-2dfe-4e0f-ad30-195309fd1446",
   "metadata": {},
   "outputs": [
    {
     "name": "stdout",
     "output_type": "stream",
     "text": [
      "Number of misclassifications for  GALAXY : 647 \n",
      "Misclassification rate for  GALAXY :  0.041 \n",
      "Number of misclassifications for  QSO : 539 \n",
      "Misclassification rate for  QSO :  0.106 \n",
      "Number of misclassifications for  STAR : 992 \n",
      "Misclassification rate for  STAR :  0.171 \n",
      "Avg Misclassification rate:  0.106 \n"
     ]
    }
   ],
   "source": [
    "# Misclassfification Rate compute\n",
    "misknn_2f50<-categMisclassRates(knn_pi_50_2, iprint=TRUE)"
   ]
  },
  {
   "cell_type": "code",
   "execution_count": 76,
   "id": "01b4053a-8593-41c2-a333-88e918b9a095",
   "metadata": {},
   "outputs": [
    {
     "name": "stdout",
     "output_type": "stream",
     "text": [
      "Number of misclassifications for  GALAXY : 624 \n",
      "Misclassification rate for  GALAXY :  0.039 \n",
      "Number of misclassifications for  QSO : 523 \n",
      "Misclassification rate for  QSO :  0.103 \n",
      "Number of misclassifications for  STAR : 985 \n",
      "Misclassification rate for  STAR :  0.173 \n",
      "Avg Misclassification rate:  0.105 \n"
     ]
    }
   ],
   "source": [
    "# Misclassfification Rate compute\n",
    "misknn_3f50<-categMisclassRates(knn_pi_50_3, iprint=TRUE)"
   ]
  },
  {
   "cell_type": "code",
   "execution_count": 77,
   "id": "2ec296b1-ff2b-48de-bf11-88a7619c12b0",
   "metadata": {},
   "outputs": [
    {
     "data": {
      "text/plain": [
       "        \n",
       "         GALAXY GALAXYQSO GALAXYQSOSTAR GALAXYSTAR GALAXYSTARQSO   QSO\n",
       "  GALAXY  13831       170             4       1182             7    66\n",
       "  QSO       266       123             7         37             6  4221\n",
       "  STAR      216         0             0        780             0     0\n",
       "        \n",
       "         QSOGALAXY QSOGALAXYSTAR QSOSTAR QSOSTARGALAXY  STAR STARGALAXY\n",
       "  GALAXY        91             3       2             2   138        409\n",
       "  QSO          249             2      44             2    31         34\n",
       "  STAR           0             0       0             0  3228       1454\n",
       "        \n",
       "         STARGALAXYQSO STARQSO STARQSOGALAXY\n",
       "  GALAXY            13       6             4\n",
       "  QSO                5      18             3\n",
       "  STAR               1      10             2"
      ]
     },
     "metadata": {},
     "output_type": "display_data"
    },
    {
     "data": {
      "text/plain": [
       "        \n",
       "         GALAXY GALAXYQSO GALAXYQSOSTAR GALAXYSTAR GALAXYSTARQSO   QSO\n",
       "  GALAXY  13826       170             5       1095             7    50\n",
       "  QSO       267       159             2         49             5  4223\n",
       "  STAR      191         0             0        818             0     0\n",
       "        \n",
       "         QSOGALAXY QSOGALAXYSTAR QSOSTAR QSOSTARGALAXY  STAR STARGALAXY\n",
       "  GALAXY        90             3       1             4   125        383\n",
       "  QSO          277             3      31             5    23         25\n",
       "  STAR           0             0       1             0  3228       1533\n",
       "        \n",
       "         STARGALAXYQSO STARQSO STARQSOGALAXY\n",
       "  GALAXY            13       6             7\n",
       "  QSO                4      14             3\n",
       "  STAR               3      13             4"
      ]
     },
     "metadata": {},
     "output_type": "display_data"
    },
    {
     "data": {
      "text/plain": [
       "        \n",
       "         GALAXY GALAXYQSO GALAXYQSOSTAR GALAXYSTAR GALAXYSTARQSO   QSO\n",
       "  GALAXY  13887       189             7       1149             4    51\n",
       "  QSO       260       145             4         42             3  4252\n",
       "  STAR      197         0             0        819             0     0\n",
       "        \n",
       "         QSOGALAXY QSOGALAXYSTAR QSOSTAR QSOSTARGALAXY  STAR STARGALAXY\n",
       "  GALAXY        77             4       0             2   126        371\n",
       "  QSO          267             5      28             6    21         40\n",
       "  STAR           0             0       2             0  3178       1475\n",
       "        \n",
       "         STARGALAXYQSO STARQSO STARQSOGALAXY\n",
       "  GALAXY             6      11             3\n",
       "  QSO                5      16             4\n",
       "  STAR               0       9             1"
      ]
     },
     "metadata": {},
     "output_type": "display_data"
    }
   ],
   "source": [
    "# 80% PI\n",
    "knn_pi_80_1<-table(testDat1$class,knn_predict_pi_1$pred80);knn_pi_80_1\n",
    "knn_pi_80_2<-table(testDat2$class,knn_predict_pi_2$pred80);knn_pi_80_2\n",
    "knn_pi_80_3<-table(testDat3$class,knn_predict_pi_3$pred80);knn_pi_80_3"
   ]
  },
  {
   "cell_type": "code",
   "execution_count": 78,
   "id": "e2acd723-cf22-4c2f-90ba-f13cb3d41db8",
   "metadata": {},
   "outputs": [
    {
     "name": "stdout",
     "output_type": "stream",
     "text": [
      "Number of misclassifications for  GALAXY : 212 \n",
      "Misclassification rate for  GALAXY :  0.013 \n",
      "Number of misclassifications for  QSO : 368 \n",
      "Misclassification rate for  QSO :  0.073 \n",
      "Number of misclassifications for  STAR : 216 \n",
      "Misclassification rate for  STAR :  0.038 \n",
      "Avg Misclassification rate:  0.041 \n",
      "Number of misclassifications for  GALAXY : 182 \n",
      "Misclassification rate for  GALAXY :  0.012 \n",
      "Number of misclassifications for  QSO : 364 \n",
      "Misclassification rate for  QSO :  0.072 \n",
      "Number of misclassifications for  STAR : 191 \n",
      "Misclassification rate for  STAR :  0.033 \n",
      "Avg Misclassification rate:  0.039 \n",
      "Number of misclassifications for  GALAXY : 188 \n",
      "Misclassification rate for  GALAXY :  0.012 \n",
      "Number of misclassifications for  QSO : 363 \n",
      "Misclassification rate for  QSO :  0.071 \n",
      "Number of misclassifications for  STAR : 197 \n",
      "Misclassification rate for  STAR :  0.035 \n",
      "Avg Misclassification rate:  0.039 \n"
     ]
    }
   ],
   "source": [
    "# 80% misclassification\n",
    "misknn_1f80<-categMisclassRates(knn_pi_80_1, iprint=TRUE)\n",
    "misknn_2f80<-categMisclassRates(knn_pi_80_2, iprint=TRUE)\n",
    "misknn_3f80<-categMisclassRates(knn_pi_80_3, iprint=TRUE)"
   ]
  },
  {
   "cell_type": "code",
   "execution_count": null,
   "id": "59c0c2e7-7b76-4212-a48a-1fa73a3c713c",
   "metadata": {},
   "outputs": [],
   "source": [
    "# average misclassification rate on each fold\n",
    "misknn_50pi <- round(rbind(misknn_1f50, misknn_2f50, misknn_3f50),3)\n",
    "misknn_50pi <- round(cbind(misknn_50pi, rowMeans(misknn_50pi)),3)\n",
    "colnames(misknn_50pi) <- c(\"GALAXY\",\"QSO\",\"STAR\", \"average\")\n",
    "misknn_50pi <- round(rbind(misknn_50pi, colMeans(misknn_50pi)),3)\n",
    "rownames(misknn_50pi) <- c(\"1-fold\",  \"2-fold\", \"3-fold\",  \"average\")"
   ]
  },
  {
   "cell_type": "code",
   "execution_count": 80,
   "id": "23cab81a-2913-4633-95e8-38938af15e77",
   "metadata": {},
   "outputs": [
    {
     "data": {
      "text/html": [
       "<table class=\"dataframe\">\n",
       "<caption>A matrix: 4 × 4 of type dbl</caption>\n",
       "<thead>\n",
       "\t<tr><th></th><th scope=col>GALAXY</th><th scope=col>QSO</th><th scope=col>STAR</th><th scope=col>average</th></tr>\n",
       "</thead>\n",
       "<tbody>\n",
       "\t<tr><th scope=row>1-fold</th><td>0.044</td><td>0.102</td><td>0.173</td><td>0.106</td></tr>\n",
       "\t<tr><th scope=row>2-fold</th><td>0.041</td><td>0.106</td><td>0.171</td><td>0.106</td></tr>\n",
       "\t<tr><th scope=row>3-fold</th><td>0.039</td><td>0.103</td><td>0.173</td><td>0.105</td></tr>\n",
       "\t<tr><th scope=row>average</th><td>0.041</td><td>0.104</td><td>0.172</td><td>0.106</td></tr>\n",
       "</tbody>\n",
       "</table>\n"
      ],
      "text/latex": [
       "A matrix: 4 × 4 of type dbl\n",
       "\\begin{tabular}{r|llll}\n",
       "  & GALAXY & QSO & STAR & average\\\\\n",
       "\\hline\n",
       "\t1-fold & 0.044 & 0.102 & 0.173 & 0.106\\\\\n",
       "\t2-fold & 0.041 & 0.106 & 0.171 & 0.106\\\\\n",
       "\t3-fold & 0.039 & 0.103 & 0.173 & 0.105\\\\\n",
       "\taverage & 0.041 & 0.104 & 0.172 & 0.106\\\\\n",
       "\\end{tabular}\n"
      ],
      "text/markdown": [
       "\n",
       "A matrix: 4 × 4 of type dbl\n",
       "\n",
       "| <!--/--> | GALAXY | QSO | STAR | average |\n",
       "|---|---|---|---|---|\n",
       "| 1-fold | 0.044 | 0.102 | 0.173 | 0.106 |\n",
       "| 2-fold | 0.041 | 0.106 | 0.171 | 0.106 |\n",
       "| 3-fold | 0.039 | 0.103 | 0.173 | 0.105 |\n",
       "| average | 0.041 | 0.104 | 0.172 | 0.106 |\n",
       "\n"
      ],
      "text/plain": [
       "        GALAXY QSO   STAR  average\n",
       "1-fold  0.044  0.102 0.173 0.106  \n",
       "2-fold  0.041  0.106 0.171 0.106  \n",
       "3-fold  0.039  0.103 0.173 0.105  \n",
       "average 0.041  0.104 0.172 0.106  "
      ]
     },
     "metadata": {},
     "output_type": "display_data"
    }
   ],
   "source": [
    "misknn_50pi"
   ]
  },
  {
   "cell_type": "code",
   "execution_count": 81,
   "id": "d906c616-9549-4490-8de1-38dc2930c91d",
   "metadata": {},
   "outputs": [],
   "source": [
    "# average misclassification rate on each fold\n",
    "misknn_80pi <- round(rbind(misknn_1f80, misknn_2f80, misknn_3f80),3)\n",
    "misknn_80pi <- round(cbind(misknn_80pi, rowMeans(misknn_80pi)),3)\n",
    "colnames(misknn_80pi) <- c(\"GALAXY\",\"QSO\",\"STAR\", \"average\")\n",
    "misknn_80pi <- round(rbind(misknn_80pi, colMeans(misknn_80pi)),3)\n",
    "rownames(misknn_80pi) <- c(\"1-fold\",  \"2-fold\", \"3-fold\",  \"average\")"
   ]
  },
  {
   "cell_type": "code",
   "execution_count": 82,
   "id": "26401987-4096-438a-929d-1073e04a866a",
   "metadata": {},
   "outputs": [
    {
     "data": {
      "text/html": [
       "<table class=\"dataframe\">\n",
       "<caption>A matrix: 4 × 4 of type dbl</caption>\n",
       "<thead>\n",
       "\t<tr><th></th><th scope=col>GALAXY</th><th scope=col>QSO</th><th scope=col>STAR</th><th scope=col>average</th></tr>\n",
       "</thead>\n",
       "<tbody>\n",
       "\t<tr><th scope=row>1-fold</th><td>0.013</td><td>0.073</td><td>0.038</td><td>0.041</td></tr>\n",
       "\t<tr><th scope=row>2-fold</th><td>0.012</td><td>0.072</td><td>0.033</td><td>0.039</td></tr>\n",
       "\t<tr><th scope=row>3-fold</th><td>0.012</td><td>0.071</td><td>0.035</td><td>0.039</td></tr>\n",
       "\t<tr><th scope=row>average</th><td>0.012</td><td>0.072</td><td>0.035</td><td>0.040</td></tr>\n",
       "</tbody>\n",
       "</table>\n"
      ],
      "text/latex": [
       "A matrix: 4 × 4 of type dbl\n",
       "\\begin{tabular}{r|llll}\n",
       "  & GALAXY & QSO & STAR & average\\\\\n",
       "\\hline\n",
       "\t1-fold & 0.013 & 0.073 & 0.038 & 0.041\\\\\n",
       "\t2-fold & 0.012 & 0.072 & 0.033 & 0.039\\\\\n",
       "\t3-fold & 0.012 & 0.071 & 0.035 & 0.039\\\\\n",
       "\taverage & 0.012 & 0.072 & 0.035 & 0.040\\\\\n",
       "\\end{tabular}\n"
      ],
      "text/markdown": [
       "\n",
       "A matrix: 4 × 4 of type dbl\n",
       "\n",
       "| <!--/--> | GALAXY | QSO | STAR | average |\n",
       "|---|---|---|---|---|\n",
       "| 1-fold | 0.013 | 0.073 | 0.038 | 0.041 |\n",
       "| 2-fold | 0.012 | 0.072 | 0.033 | 0.039 |\n",
       "| 3-fold | 0.012 | 0.071 | 0.035 | 0.039 |\n",
       "| average | 0.012 | 0.072 | 0.035 | 0.040 |\n",
       "\n"
      ],
      "text/plain": [
       "        GALAXY QSO   STAR  average\n",
       "1-fold  0.013  0.073 0.038 0.041  \n",
       "2-fold  0.012  0.072 0.033 0.039  \n",
       "3-fold  0.012  0.071 0.035 0.039  \n",
       "average 0.012  0.072 0.035 0.040  "
      ]
     },
     "metadata": {},
     "output_type": "display_data"
    }
   ],
   "source": [
    "misknn_80pi"
   ]
  },
  {
   "cell_type": "code",
   "execution_count": 83,
   "id": "0c470040-cb1b-4e9f-a265-48775a9210aa",
   "metadata": {},
   "outputs": [],
   "source": [
    "# computer avg misclass rate -- cv\n",
    "misknn_50<-c(round(mean(misknn_1f50[1], misknn_1f50[1], misknn_1f50[1]), 3), \n",
    "round(mean(misknn_2f50[2], misknn_2f50[2], misknn_2f50[2]), 3), \n",
    "round(mean(misknn_3f50[3], misknn_3f50[3], misknn_3f50[3]), 3))\n",
    "\n",
    "misknn_80<-c(round(mean(misknn_1f80[1], misknn_1f80[1], misknn_1f80[1]), 3), \n",
    "round(mean(misknn_1f80[2], misknn_2f80[2], misknn_3f80[2]), 3), \n",
    "round(mean(misknn_3f80[3], misknn_3f80[3], misknn_3f80[3]), 3))"
   ]
  },
  {
   "cell_type": "code",
   "execution_count": 86,
   "id": "0eb01180-189b-4fd0-9629-20e455bb55d5",
   "metadata": {},
   "outputs": [
    {
     "name": "stdout",
     "output_type": "stream",
     "text": [
      "kNN CV Prediction Interval Table"
     ]
    },
    {
     "data": {
      "text/html": [
       "<table class=\"dataframe\">\n",
       "<caption>A matrix: 2 × 3 of type dbl</caption>\n",
       "<thead>\n",
       "\t<tr><th></th><th scope=col>GALAXY</th><th scope=col>QSO</th><th scope=col>STAR</th></tr>\n",
       "</thead>\n",
       "<tbody>\n",
       "\t<tr><th scope=row>50% PI</th><td>0.044</td><td>0.106</td><td>0.173</td></tr>\n",
       "\t<tr><th scope=row>80% PI</th><td>0.013</td><td>0.073</td><td>0.035</td></tr>\n",
       "</tbody>\n",
       "</table>\n"
      ],
      "text/latex": [
       "A matrix: 2 × 3 of type dbl\n",
       "\\begin{tabular}{r|lll}\n",
       "  & GALAXY & QSO & STAR\\\\\n",
       "\\hline\n",
       "\t50\\% PI & 0.044 & 0.106 & 0.173\\\\\n",
       "\t80\\% PI & 0.013 & 0.073 & 0.035\\\\\n",
       "\\end{tabular}\n"
      ],
      "text/markdown": [
       "\n",
       "A matrix: 2 × 3 of type dbl\n",
       "\n",
       "| <!--/--> | GALAXY | QSO | STAR |\n",
       "|---|---|---|---|\n",
       "| 50% PI | 0.044 | 0.106 | 0.173 |\n",
       "| 80% PI | 0.013 | 0.073 | 0.035 |\n",
       "\n"
      ],
      "text/plain": [
       "       GALAXY QSO   STAR \n",
       "50% PI 0.044  0.106 0.173\n",
       "80% PI 0.013  0.073 0.035"
      ]
     },
     "metadata": {},
     "output_type": "display_data"
    }
   ],
   "source": [
    "cat(\"kNN CV Prediction Interval Table\")\n",
    "mis_multi_result_cv <- rbind(misknn_50, misknn_80)\n",
    "colnames(mis_multi_result_cv) <- c(\"GALAXY\",\"QSO\",\"STAR\")\n",
    "rownames(mis_multi_result_cv) <- c(\"50% PI\",  \"80% PI\")\n",
    "mis_multi_result_cv"
   ]
  },
  {
   "cell_type": "markdown",
   "id": "fb7eb0f7-17f6-4b8e-84da-cb5768f2f52f",
   "metadata": {},
   "source": [
    "#### 3.3.2 kNN--Fit Model on Holdout Set"
   ]
  },
  {
   "cell_type": "code",
   "execution_count": 88,
   "id": "de7b0a3f-e923-494a-8e2f-51b753222fa3",
   "metadata": {},
   "outputs": [],
   "source": [
    "# since all three models have same k, randomly choose fit3\n",
    "knn_pred_class_prob_holdo <- predict(knnFit_3, newdata = kNN_holdo, 'prob')\n",
    "knn_pred_class_prob_holdo <- data.matrix(knn_pred_class_prob_holdo,rownames.force = T)"
   ]
  },
  {
   "cell_type": "code",
   "execution_count": 89,
   "id": "44f6bcd5-aaaf-456f-8701-16ced5384e86",
   "metadata": {},
   "outputs": [],
   "source": [
    "knn_predict_pi_holdo<-CategoryPredInterval(knn_pred_class_prob_holdo, c(\"GALAXY\",\"QSO\",\"STAR\"))"
   ]
  },
  {
   "cell_type": "code",
   "execution_count": 91,
   "id": "19bf4c1d-ed33-432f-a000-de809e9f9a3a",
   "metadata": {},
   "outputs": [
    {
     "data": {
      "text/plain": [
       "        \n",
       "         GALAXY GALAXYQSO GALAXYSTAR   QSO QSOGALAXY QSOSTAR  STAR STARGALAXY\n",
       "  GALAXY  11320         7         26    90         2       1   381         12\n",
       "  QSO       310         7          2  3331         6       8    50          7\n",
       "  STAR      784         0         14     0         0       1  3622          5\n",
       "        \n",
       "         STARQSO\n",
       "  GALAXY       6\n",
       "  QSO          4\n",
       "  STAR         4"
      ]
     },
     "metadata": {},
     "output_type": "display_data"
    }
   ],
   "source": [
    "knn_pi_50_holdo<-table(kNN_holdo$class,knn_predict_pi_holdo$pred50);knn_pi_50_holdo"
   ]
  },
  {
   "cell_type": "code",
   "execution_count": 92,
   "id": "37c13368-e3cd-4d3b-bf45-2194425836b8",
   "metadata": {},
   "outputs": [
    {
     "name": "stdout",
     "output_type": "stream",
     "text": [
      "Number of misclassifications for  GALAXY : 478 \n",
      "Misclassification rate for  GALAXY :  0.04 \n",
      "Number of misclassifications for  QSO : 369 \n",
      "Misclassification rate for  QSO :  0.099 \n",
      "Number of misclassifications for  STAR : 784 \n",
      "Misclassification rate for  STAR :  0.177 \n",
      "Avg Misclassification rate:  0.105 \n"
     ]
    }
   ],
   "source": [
    "misknn_holdo50<-categMisclassRates(knn_pi_50_holdo, iprint=TRUE)"
   ]
  },
  {
   "cell_type": "code",
   "execution_count": 93,
   "id": "e2250ada-e6e4-459d-90a7-cb840d6376a3",
   "metadata": {},
   "outputs": [
    {
     "data": {
      "text/plain": [
       "        \n",
       "         GALAXY GALAXYQSO GALAXYQSOSTAR GALAXYSTAR GALAXYSTARQSO   QSO\n",
       "  GALAXY  10345       140             5        859             4    34\n",
       "  QSO       188       104             2         22             3  3139\n",
       "  STAR      156         0             0        642             0     0\n",
       "        \n",
       "         QSOGALAXY QSOGALAXYSTAR QSOSTAR QSOSTARGALAXY  STAR STARGALAXY\n",
       "  GALAXY        55             1       2             1    95        286\n",
       "  QSO          183             4      15             4    12         25\n",
       "  STAR           0             0       1             0  2437       1183\n",
       "        \n",
       "         STARGALAXYQSO STARQSO STARQSOGALAXY\n",
       "  GALAXY             7       6             5\n",
       "  QSO                5      15             4\n",
       "  STAR               0       9             2"
      ]
     },
     "metadata": {},
     "output_type": "display_data"
    }
   ],
   "source": [
    "knn_pi_80_holdo<-table(kNN_holdo$class,knn_predict_pi_holdo$pred80);knn_pi_80_holdo"
   ]
  },
  {
   "cell_type": "code",
   "execution_count": 94,
   "id": "b078c4fe-37c4-444c-aa8d-01ecd810f17c",
   "metadata": {
    "tags": []
   },
   "outputs": [
    {
     "name": "stdout",
     "output_type": "stream",
     "text": [
      "Number of misclassifications for  GALAXY : 137 \n",
      "Misclassification rate for  GALAXY :  0.012 \n",
      "Number of misclassifications for  QSO : 247 \n",
      "Misclassification rate for  QSO :  0.066 \n",
      "Number of misclassifications for  STAR : 156 \n",
      "Misclassification rate for  STAR :  0.035 \n",
      "Avg Misclassification rate:  0.038 \n"
     ]
    }
   ],
   "source": [
    "misknn_holdo80<-categMisclassRates(knn_pi_80_holdo, iprint=TRUE)"
   ]
  },
  {
   "cell_type": "code",
   "execution_count": 124,
   "id": "9f0e2b70-f8a0-434a-8455-5d75b2bf3827",
   "metadata": {},
   "outputs": [
    {
     "name": "stdout",
     "output_type": "stream",
     "text": [
      "kNN Holdout Prediction Interval Table"
     ]
    },
    {
     "data": {
      "text/html": [
       "<table class=\"dataframe\">\n",
       "<caption>A matrix: 2 × 3 of type dbl</caption>\n",
       "<thead>\n",
       "\t<tr><th></th><th scope=col>GALAXY</th><th scope=col>QSO</th><th scope=col>STAR</th></tr>\n",
       "</thead>\n",
       "<tbody>\n",
       "\t<tr><th scope=row>50% PI</th><td>0.040</td><td>0.099</td><td>0.177</td></tr>\n",
       "\t<tr><th scope=row>80% PI</th><td>0.012</td><td>0.066</td><td>0.035</td></tr>\n",
       "</tbody>\n",
       "</table>\n"
      ],
      "text/latex": [
       "A matrix: 2 × 3 of type dbl\n",
       "\\begin{tabular}{r|lll}\n",
       "  & GALAXY & QSO & STAR\\\\\n",
       "\\hline\n",
       "\t50\\% PI & 0.040 & 0.099 & 0.177\\\\\n",
       "\t80\\% PI & 0.012 & 0.066 & 0.035\\\\\n",
       "\\end{tabular}\n"
      ],
      "text/markdown": [
       "\n",
       "A matrix: 2 × 3 of type dbl\n",
       "\n",
       "| <!--/--> | GALAXY | QSO | STAR |\n",
       "|---|---|---|---|\n",
       "| 50% PI | 0.040 | 0.099 | 0.177 |\n",
       "| 80% PI | 0.012 | 0.066 | 0.035 |\n",
       "\n"
      ],
      "text/plain": [
       "       GALAXY QSO   STAR \n",
       "50% PI 0.040  0.099 0.177\n",
       "80% PI 0.012  0.066 0.035"
      ]
     },
     "metadata": {},
     "output_type": "display_data"
    }
   ],
   "source": [
    "cat(\"kNN Holdout Prediction Interval Table\")\n",
    "mis_knn_result_holdo <- round(rbind(misknn_holdo50, misknn_holdo80), 3)\n",
    "colnames(mis_knn_result_holdo) <- c(\"GALAXY\",\"QSO\",\"STAR\")\n",
    "rownames(mis_knn_result_holdo) <- c(\"50% PI\",  \"80% PI\")\n",
    "mis_knn_result_holdo"
   ]
  },
  {
   "cell_type": "markdown",
   "id": "92a6e4de-662f-4ed8-b8df-f8de1068f039",
   "metadata": {},
   "source": [
    "### 4. Model Comparison on Holdout Set"
   ]
  },
  {
   "cell_type": "code",
   "execution_count": 154,
   "id": "ddabb2d0-a0c0-4e16-968d-5c2b3eb59e32",
   "metadata": {},
   "outputs": [
    {
     "name": "stdout",
     "output_type": "stream",
     "text": [
      "Model Comparison Table for Holdout Set"
     ]
    },
    {
     "data": {
      "text/html": [
       "<table class=\"dataframe\">\n",
       "<caption>A matrix: 2 × 3 of type dbl</caption>\n",
       "<thead>\n",
       "\t<tr><th></th><th scope=col>Multinomial</th><th scope=col>kNN-rf</th><th scope=col>Random Forest</th></tr>\n",
       "</thead>\n",
       "<tbody>\n",
       "\t<tr><th scope=row>Avg 50% PI</th><td>0.051</td><td>0.105</td><td>0.032</td></tr>\n",
       "\t<tr><th scope=row>Avg 80% PI</th><td>0.029</td><td>0.038</td><td>0.015</td></tr>\n",
       "</tbody>\n",
       "</table>\n"
      ],
      "text/latex": [
       "A matrix: 2 × 3 of type dbl\n",
       "\\begin{tabular}{r|lll}\n",
       "  & Multinomial & kNN-rf & Random Forest\\\\\n",
       "\\hline\n",
       "\tAvg 50\\% PI & 0.051 & 0.105 & 0.032\\\\\n",
       "\tAvg 80\\% PI & 0.029 & 0.038 & 0.015\\\\\n",
       "\\end{tabular}\n"
      ],
      "text/markdown": [
       "\n",
       "A matrix: 2 × 3 of type dbl\n",
       "\n",
       "| <!--/--> | Multinomial | kNN-rf | Random Forest |\n",
       "|---|---|---|---|\n",
       "| Avg 50% PI | 0.051 | 0.105 | 0.032 |\n",
       "| Avg 80% PI | 0.029 | 0.038 | 0.015 |\n",
       "\n"
      ],
      "text/plain": [
       "           Multinomial kNN-rf Random Forest\n",
       "Avg 50% PI 0.051       0.105  0.032        \n",
       "Avg 80% PI 0.029       0.038  0.015        "
      ]
     },
     "metadata": {},
     "output_type": "display_data"
    }
   ],
   "source": [
    "# calculating Avg misclassification rate for each model. \n",
    "\n",
    "mis_rf_result_holdo <- rbind(round(mis_rf_result_holdo[1,] %>% mean(), 3),\n",
    "  round(mis_rf_result_holdo[2,] %>% mean(), 3))\n",
    "\n",
    "mis_multi_result_holdo <- rbind(round(mis_multi_result_holdo[1,] %>% mean(), 3),\n",
    "  round(mis_multi_result_holdo[2,] %>% mean(), 3))\n",
    "\n",
    "mis_knn_result_holdo <- rbind(round(mis_knn_result_holdo[1,] %>% mean(), 3),\n",
    "  round(mis_knn_result_holdo[2,] %>% mean(), 3))\n",
    "\n",
    "holdoms <- cbind(mis_multi_result_holdo, mis_knn_result_holdo, mis_rf_result_holdo)\n",
    "colnames(holdoms) <- c(\"Multinomial\",\"kNN-rf\", \"Random Forest\")\n",
    "rownames(holdoms) <- c(\"Avg 50% PI\",  \"Avg 80% PI\")\n",
    "\n",
    "cat(\"Model Comparison Table for Holdout Set\")\n",
    "holdoms"
   ]
  },
  {
   "cell_type": "code",
   "execution_count": null,
   "id": "73596df1-3bc4-4af4-8377-3053116e54bc",
   "metadata": {},
   "outputs": [],
   "source": []
  }
 ],
 "metadata": {
  "kernelspec": {
   "display_name": "R [conda env:R]",
   "language": "R",
   "name": "conda-env-R-r"
  },
  "language_info": {
   "codemirror_mode": "r",
   "file_extension": ".r",
   "mimetype": "text/x-r-source",
   "name": "R",
   "pygments_lexer": "r",
   "version": "4.1.1"
  }
 },
 "nbformat": 4,
 "nbformat_minor": 5
}
