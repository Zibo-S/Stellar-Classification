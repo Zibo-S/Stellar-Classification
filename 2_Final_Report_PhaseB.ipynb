{
 "cells": [
  {
   "cell_type": "code",
   "execution_count": 2,
   "id": "98fcd79d-cf73-4104-967e-6f7962d25a08",
   "metadata": {
    "collapsed": true,
    "jupyter": {
     "outputs_hidden": true
    },
    "tags": []
   },
   "outputs": [
    {
     "name": "stderr",
     "output_type": "stream",
     "text": [
      "\n",
      "Attaching package: ‘dplyr’\n",
      "\n",
      "\n",
      "The following objects are masked from ‘package:stats’:\n",
      "\n",
      "    filter, lag\n",
      "\n",
      "\n",
      "The following objects are masked from ‘package:base’:\n",
      "\n",
      "    intersect, setdiff, setequal, union\n",
      "\n",
      "\n",
      "── \u001b[1mAttaching packages\u001b[22m ─────────────────────────────────────── tidyverse 1.3.1 ──\n",
      "\n",
      "\u001b[32m✔\u001b[39m \u001b[34mggplot2\u001b[39m 3.3.5     \u001b[32m✔\u001b[39m \u001b[34mpurrr  \u001b[39m 0.3.4\n",
      "\u001b[32m✔\u001b[39m \u001b[34mtibble \u001b[39m 3.1.4     \u001b[32m✔\u001b[39m \u001b[34mstringr\u001b[39m 1.4.0\n",
      "\u001b[32m✔\u001b[39m \u001b[34mtidyr  \u001b[39m 1.1.3     \u001b[32m✔\u001b[39m \u001b[34mforcats\u001b[39m 0.5.1\n",
      "\u001b[32m✔\u001b[39m \u001b[34mreadr  \u001b[39m 2.0.1     \n",
      "\n",
      "── \u001b[1mConflicts\u001b[22m ────────────────────────────────────────── tidyverse_conflicts() ──\n",
      "\u001b[31m✖\u001b[39m \u001b[34mdplyr\u001b[39m::\u001b[32mfilter()\u001b[39m masks \u001b[34mstats\u001b[39m::filter()\n",
      "\u001b[31m✖\u001b[39m \u001b[34mdplyr\u001b[39m::\u001b[32mlag()\u001b[39m    masks \u001b[34mstats\u001b[39m::lag()\n",
      "\n",
      "\n",
      "Attaching package: ‘magrittr’\n",
      "\n",
      "\n",
      "The following object is masked from ‘package:purrr’:\n",
      "\n",
      "    set_names\n",
      "\n",
      "\n",
      "The following object is masked from ‘package:tidyr’:\n",
      "\n",
      "    extract\n",
      "\n",
      "\n",
      "\n",
      "Attaching package: ‘MASS’\n",
      "\n",
      "\n",
      "The following object is masked from ‘package:dplyr’:\n",
      "\n",
      "    select\n",
      "\n",
      "\n",
      "Loading required package: lattice\n",
      "\n",
      "\n",
      "Attaching package: ‘caret’\n",
      "\n",
      "\n",
      "The following object is masked from ‘package:purrr’:\n",
      "\n",
      "    lift\n",
      "\n",
      "\n",
      "Loading required package: stats4\n",
      "\n",
      "Loading required package: splines\n",
      "\n",
      "\n",
      "Attaching package: ‘VGAM’\n",
      "\n",
      "\n",
      "The following object is masked from ‘package:caret’:\n",
      "\n",
      "    predictors\n",
      "\n",
      "\n",
      "The following object is masked from ‘package:tidyr’:\n",
      "\n",
      "    fill\n",
      "\n",
      "\n",
      "randomForest 4.6-14\n",
      "\n",
      "Type rfNews() to see new features/changes/bug fixes.\n",
      "\n",
      "\n",
      "Attaching package: ‘randomForest’\n",
      "\n",
      "\n",
      "The following object is masked from ‘package:ggplot2’:\n",
      "\n",
      "    margin\n",
      "\n",
      "\n",
      "The following object is masked from ‘package:dplyr’:\n",
      "\n",
      "    combine\n",
      "\n",
      "\n"
     ]
    }
   ],
   "source": [
    "library(dplyr)\n",
    "library(tidyverse)\n",
    "library(magrittr)\n",
    "library(MASS)\n",
    "library(class)\n",
    "library(caret)\n",
    "library(VGAM)\n",
    "library(randomForest)"
   ]
  },
  {
   "cell_type": "code",
   "execution_count": 3,
   "id": "9099e281-a75d-4f4b-aae9-93571666a977",
   "metadata": {},
   "outputs": [],
   "source": [
    "# transformed data import\n",
    "star_sub <- read.csv(\"./Rdata/PhaseA_star_subset.csv\")\n",
    "kNN_star_subset_rf <- read.csv(\"./kNN_data/kNN_PhaseA_star_subset_rf.csv\")\n",
    "kNN_star_subset_perm <- read.csv(\"./kNN_data/kNN_PhaseA_star_subset_perm.csv\")"
   ]
  },
  {
   "cell_type": "code",
   "execution_count": 7,
   "id": "fd5996b6-45c2-4d5d-859e-056b4d75f179",
   "metadata": {},
   "outputs": [
    {
     "name": "stdout",
     "output_type": "stream",
     "text": [
      "Feature Subset For Multinomial and RF"
     ]
    },
    {
     "data": {
      "text/html": [
       "<style>\n",
       ".list-inline {list-style: none; margin:0; padding: 0}\n",
       ".list-inline>li {display: inline-block}\n",
       ".list-inline>li:not(:last-child)::after {content: \"\\00b7\"; padding: 0 .5ex}\n",
       "</style>\n",
       "<ol class=list-inline><li>'X'</li><li>'alpha'</li><li>'delta'</li><li>'u'</li><li>'i'</li><li>'redshift'</li><li>'plate'</li><li>'MJD'</li><li>'fiber_ID'</li><li>'cam_col'</li><li>'fieldbin'</li><li>'runbin'</li><li>'class'</li></ol>\n"
      ],
      "text/latex": [
       "\\begin{enumerate*}\n",
       "\\item 'X'\n",
       "\\item 'alpha'\n",
       "\\item 'delta'\n",
       "\\item 'u'\n",
       "\\item 'i'\n",
       "\\item 'redshift'\n",
       "\\item 'plate'\n",
       "\\item 'MJD'\n",
       "\\item 'fiber\\_ID'\n",
       "\\item 'cam\\_col'\n",
       "\\item 'fieldbin'\n",
       "\\item 'runbin'\n",
       "\\item 'class'\n",
       "\\end{enumerate*}\n"
      ],
      "text/markdown": [
       "1. 'X'\n",
       "2. 'alpha'\n",
       "3. 'delta'\n",
       "4. 'u'\n",
       "5. 'i'\n",
       "6. 'redshift'\n",
       "7. 'plate'\n",
       "8. 'MJD'\n",
       "9. 'fiber_ID'\n",
       "10. 'cam_col'\n",
       "11. 'fieldbin'\n",
       "12. 'runbin'\n",
       "13. 'class'\n",
       "\n",
       "\n"
      ],
      "text/plain": [
       " [1] \"X\"        \"alpha\"    \"delta\"    \"u\"        \"i\"        \"redshift\"\n",
       " [7] \"plate\"    \"MJD\"      \"fiber_ID\" \"cam_col\"  \"fieldbin\" \"runbin\"  \n",
       "[13] \"class\"   "
      ]
     },
     "metadata": {},
     "output_type": "display_data"
    },
    {
     "name": "stdout",
     "output_type": "stream",
     "text": [
      "Feature Subset For kNN using RF"
     ]
    },
    {
     "data": {
      "text/html": [
       "<style>\n",
       ".list-inline {list-style: none; margin:0; padding: 0}\n",
       ".list-inline>li {display: inline-block}\n",
       ".list-inline>li:not(:last-child)::after {content: \"\\00b7\"; padding: 0 .5ex}\n",
       "</style>\n",
       "<ol class=list-inline><li>'X'</li><li>'redshift'</li><li>'u'</li><li>'g'</li><li>'r'</li><li>'i'</li><li>'z'</li><li>'spec_obj_ID'</li><li>'plate'</li><li>'MJD'</li><li>'class'</li></ol>\n"
      ],
      "text/latex": [
       "\\begin{enumerate*}\n",
       "\\item 'X'\n",
       "\\item 'redshift'\n",
       "\\item 'u'\n",
       "\\item 'g'\n",
       "\\item 'r'\n",
       "\\item 'i'\n",
       "\\item 'z'\n",
       "\\item 'spec\\_obj\\_ID'\n",
       "\\item 'plate'\n",
       "\\item 'MJD'\n",
       "\\item 'class'\n",
       "\\end{enumerate*}\n"
      ],
      "text/markdown": [
       "1. 'X'\n",
       "2. 'redshift'\n",
       "3. 'u'\n",
       "4. 'g'\n",
       "5. 'r'\n",
       "6. 'i'\n",
       "7. 'z'\n",
       "8. 'spec_obj_ID'\n",
       "9. 'plate'\n",
       "10. 'MJD'\n",
       "11. 'class'\n",
       "\n",
       "\n"
      ],
      "text/plain": [
       " [1] \"X\"           \"redshift\"    \"u\"           \"g\"           \"r\"          \n",
       " [6] \"i\"           \"z\"           \"spec_obj_ID\" \"plate\"       \"MJD\"        \n",
       "[11] \"class\"      "
      ]
     },
     "metadata": {},
     "output_type": "display_data"
    },
    {
     "name": "stdout",
     "output_type": "stream",
     "text": [
      "Feature Subset For kNN using Permutation"
     ]
    },
    {
     "data": {
      "text/html": [
       "<style>\n",
       ".list-inline {list-style: none; margin:0; padding: 0}\n",
       ".list-inline>li {display: inline-block}\n",
       ".list-inline>li:not(:last-child)::after {content: \"\\00b7\"; padding: 0 .5ex}\n",
       "</style>\n",
       "<ol class=list-inline><li>'X'</li><li>'u'</li><li>'g'</li><li>'z'</li><li>'redshift'</li><li>'MJD'</li><li>'cam_col'</li><li>'fieldbin'</li><li>'runbin'</li><li>'class'</li></ol>\n"
      ],
      "text/latex": [
       "\\begin{enumerate*}\n",
       "\\item 'X'\n",
       "\\item 'u'\n",
       "\\item 'g'\n",
       "\\item 'z'\n",
       "\\item 'redshift'\n",
       "\\item 'MJD'\n",
       "\\item 'cam\\_col'\n",
       "\\item 'fieldbin'\n",
       "\\item 'runbin'\n",
       "\\item 'class'\n",
       "\\end{enumerate*}\n"
      ],
      "text/markdown": [
       "1. 'X'\n",
       "2. 'u'\n",
       "3. 'g'\n",
       "4. 'z'\n",
       "5. 'redshift'\n",
       "6. 'MJD'\n",
       "7. 'cam_col'\n",
       "8. 'fieldbin'\n",
       "9. 'runbin'\n",
       "10. 'class'\n",
       "\n",
       "\n"
      ],
      "text/plain": [
       " [1] \"X\"        \"u\"        \"g\"        \"z\"        \"redshift\" \"MJD\"     \n",
       " [7] \"cam_col\"  \"fieldbin\" \"runbin\"   \"class\"   "
      ]
     },
     "metadata": {},
     "output_type": "display_data"
    }
   ],
   "source": [
    "# glance of different feature subset \n",
    "cat(\"Feature Subset For Multinomial and RF\")\n",
    "star_sub %>% colnames()\n",
    "cat(\"Feature Subset For kNN using RF\")\n",
    "kNN_star_subset_rf %>% colnames()\n",
    "cat(\"Feature Subset For kNN using Permutation\")\n",
    "kNN_star_subset_perm %>%colnames()"
   ]
  },
  {
   "cell_type": "code",
   "execution_count": 8,
   "id": "6cd61682-ee9b-451d-9ba4-e880575708c9",
   "metadata": {
    "tags": []
   },
   "outputs": [],
   "source": [
    "# transfer variable types for alogrithms \n",
    "star_sub <- star_sub %>% mutate(\n",
    "  class = factor(class),\n",
    "  cam_col = factor(cam_col),\n",
    "  fieldbin = factor(fieldbin),\n",
    "  runbin = factor(runbin)  \n",
    ")\n",
    "\n",
    "# kNN-RF\n",
    "kNN_star_subset_rf <- kNN_star_subset_rf %>% mutate(class = factor(class))\n",
    "\n",
    "#kNN-Perm\n",
    "kNN_star_subset_perm <- kNN_star_subset_perm %>% mutate(class = factor(class), \n",
    "                                                        cam_col = factor(cam_col),\n",
    "                                                        fieldbin = factor(fieldbin),\n",
    "                                                        runbin = factor(runbin)  )"
   ]
  },
  {
   "cell_type": "markdown",
   "id": "dda9376f-c2cc-4d40-9922-165a7a063eca",
   "metadata": {},
   "source": [
    "### Split Phase A subset to train and holdout"
   ]
  },
  {
   "cell_type": "code",
   "execution_count": 9,
   "id": "9beab69d-ebd9-45b7-981d-135c1f78a5a8",
   "metadata": {},
   "outputs": [],
   "source": [
    "# take a subset from transfered data to test prepared methods\n",
    "set.seed(447)\n",
    "\n",
    "B_subset_train <- sample_n(star_sub, size = nrow(star_sub) * 0.80,\n",
    "  replace = FALSE\n",
    ")\n",
    "\n",
    "B_subset_holdo <- anti_join(star_sub,\n",
    "  B_subset_train,\n",
    "  by = \"X\"\n",
    ")\n",
    "\n",
    "\n",
    "\n",
    "kNN_B_subset_train_rf <- sample_n(kNN_star_subset_rf, size = nrow(kNN_star_subset_rf) * 0.80,\n",
    "  replace = FALSE\n",
    ")\n",
    "\n",
    "kNN_B_subset_holdo_rf <- anti_join(kNN_star_subset_rf,\n",
    "  kNN_B_subset_train_rf,\n",
    "  by = \"X\"\n",
    ")\n",
    "\n",
    "\n",
    "kNN_B_subset_train_perm <- sample_n(kNN_star_subset_perm, size = nrow(kNN_star_subset_perm) * 0.80,\n",
    "  replace = FALSE\n",
    ")\n",
    "\n",
    "kNN_B_subset_holdo_perm <- anti_join(kNN_star_subset_perm,\n",
    "  kNN_B_subset_train_perm,\n",
    "  by = \"X\"\n",
    ")"
   ]
  },
  {
   "cell_type": "code",
   "execution_count": 6,
   "id": "0e39a6bc-cdba-4143-9372-2b18f499879b",
   "metadata": {},
   "outputs": [],
   "source": [
    "# # senity check \n",
    "# cat(\"Feature Subset For Multinomial and RF\")\n",
    "# B_subset_train %>% colnames()\n",
    "# B_subset_holdo %>% colnames()\n",
    "\n",
    "# cat(\"Feature Subset For kNN using RF\")\n",
    "# kNN_B_subset_train_rf %>% colnames()\n",
    "# kNN_B_subset_holdo_rf %>% colnames()\n",
    "\n",
    "# cat(\"Feature Subset For kNN using Permutation\")\n",
    "# kNN_B_subset_train_perm %>%colnames()\n",
    "# kNN_B_subset_holdo_perm %>%colnames()"
   ]
  },
  {
   "cell_type": "markdown",
   "id": "d63d2302-f966-4974-8815-6b4d4fa22bae",
   "metadata": {},
   "source": [
    "## Multinominal"
   ]
  },
  {
   "cell_type": "code",
   "execution_count": 7,
   "id": "e3fd3b90-21f5-4f41-9760-557367715881",
   "metadata": {},
   "outputs": [],
   "source": [
    "# drop ID column, then fit model\n",
    "options(warn = -1)\n",
    "multi <- vglm(class~., multinomial, data = B_subset_train[-1])"
   ]
  },
  {
   "cell_type": "code",
   "execution_count": 8,
   "id": "50445fd8-16d2-4349-b196-c02a3cc3c142",
   "metadata": {},
   "outputs": [
    {
     "name": "stdout",
     "output_type": "stream",
     "text": [
      "Multinormal 1"
     ]
    },
    {
     "data": {
      "text/plain": [
       "\n",
       "Call:\n",
       "vglm(formula = class ~ ., family = multinomial, data = B_subset_train[-1])\n",
       "\n",
       "Coefficients: \n",
       "                         Estimate Std. Error z value Pr(>|z|)    \n",
       "(Intercept):1            55.57904    3.13890  17.707  < 2e-16 ***\n",
       "(Intercept):2            52.30737    3.15157  16.597  < 2e-16 ***\n",
       "alpha:1                   0.01818    0.13221   0.137 0.890644    \n",
       "alpha:2                  -0.04304    0.16197  -0.266 0.790462    \n",
       "delta:1                   0.05861    0.13311   0.440 0.659708    \n",
       "delta:2                   0.14422    0.16554   0.871 0.383616    \n",
       "u:1                      -0.60453    0.16349  -3.698 0.000218 ***\n",
       "u:2                      -3.51347    0.20727 -16.951  < 2e-16 ***\n",
       "i:1                       0.26338    0.14537   1.812 0.070017 .  \n",
       "i:2                       1.78324    0.19461   9.163  < 2e-16 ***\n",
       "redshift:1               74.00052    4.01227  18.444  < 2e-16 ***\n",
       "redshift:2               78.31261    4.01831  19.489  < 2e-16 ***\n",
       "plate:1                   2.77378    0.44034   6.299 2.99e-10 ***\n",
       "plate:2                   1.77762    0.52515   3.385 0.000712 ***\n",
       "MJD:1                    -2.77270    0.43406  -6.388 1.68e-10 ***\n",
       "MJD:2                    -2.15366    0.53089  -4.057 4.98e-05 ***\n",
       "fiber_ID:1                0.25090    0.11654   2.153 0.031331 *  \n",
       "fiber_ID:2                0.24022    0.13428   1.789 0.073617 .  \n",
       "cam_col2:1               -0.31608    0.35144  -0.899 0.368448    \n",
       "cam_col2:2               -0.37796    0.42770  -0.884 0.376855    \n",
       "cam_col3:1                0.05273    0.31393   0.168 0.866609    \n",
       "cam_col3:2               -0.04591    0.39279  -0.117 0.906956    \n",
       "cam_col4:1               -0.20482    0.31681  -0.646 0.517965    \n",
       "cam_col4:2                0.01050    0.39853   0.026 0.978977    \n",
       "cam_col5:1               -0.30563    0.33003  -0.926 0.354423    \n",
       "cam_col5:2               -0.66409    0.41409  -1.604 0.108770    \n",
       "cam_col6:1               -0.80479    0.38681  -2.081 0.037469 *  \n",
       "cam_col6:2               -0.74209    0.47174  -1.573 0.115696    \n",
       "fieldbin(-0.45,-0.06]:1   0.04230    0.30468   0.139 0.889590    \n",
       "fieldbin(-0.45,-0.06]:2   0.11102    0.37083   0.299 0.764650    \n",
       "fieldbin(-0.774,-0.45]:1  0.26384    0.29273   0.901 0.367418    \n",
       "fieldbin(-0.774,-0.45]:2  0.50543    0.36033   1.403 0.160714    \n",
       "fieldbin(-1.18,-0.774]:1 -0.06485    0.30280  -0.214 0.830415    \n",
       "fieldbin(-1.18,-0.774]:2  0.31658    0.37099   0.853 0.393470    \n",
       "fieldbin(0.58,5.4]:1      0.29754    0.29742   1.000 0.317118    \n",
       "fieldbin(0.58,5.4]:2      0.53785    0.36323   1.481 0.138679    \n",
       "runbin(-0.831,-0.327]:1  -0.28926    0.28648  -1.010 0.312624    \n",
       "runbin(-0.831,-0.327]:2   0.50610    0.35684   1.418 0.156106    \n",
       "runbin(-2.23,-0.831]:1   -0.46090    0.28697  -1.606 0.108252    \n",
       "runbin(-2.23,-0.831]:2    0.16862    0.36465   0.462 0.643782    \n",
       "runbin(0.048,0.8]:1       0.02278    0.27199   0.084 0.933251    \n",
       "runbin(0.048,0.8]:2       0.09214    0.35565   0.259 0.795577    \n",
       "runbin(0.8,1.9]:1        -1.12903    0.39518  -2.857 0.004276 ** \n",
       "runbin(0.8,1.9]:2        -1.20374    0.45706  -2.634 0.008447 ** \n",
       "---\n",
       "Signif. codes:  0 ‘***’ 0.001 ‘**’ 0.01 ‘*’ 0.05 ‘.’ 0.1 ‘ ’ 1\n",
       "\n",
       "Names of linear predictors: log(mu[,1]/mu[,3]), log(mu[,2]/mu[,3])\n",
       "\n",
       "Residual deviance: 2162.314 on 15954 degrees of freedom\n",
       "\n",
       "Log-likelihood: NA on 15954 degrees of freedom\n",
       "\n",
       "Number of Fisher scoring iterations: 17 \n",
       "\n",
       "Warning: Hauck-Donner effect detected in the following estimate(s):\n",
       "'(Intercept):1'\n",
       "\n",
       "\n",
       "Reference group is level  3  of the response"
      ]
     },
     "metadata": {},
     "output_type": "display_data"
    }
   ],
   "source": [
    "cat(\"Multinormal 1\")\n",
    "summary(multi)"
   ]
  },
  {
   "cell_type": "code",
   "execution_count": 9,
   "id": "0f184948-da14-440d-a02e-8ccb58a621ec",
   "metadata": {},
   "outputs": [],
   "source": [
    "multi_pred <- predict(multi , newdata = B_subset_holdo, type = \"response\") "
   ]
  },
  {
   "cell_type": "code",
   "execution_count": 10,
   "id": "09e42985-35e6-46d3-bb79-aa9ad6f8b3de",
   "metadata": {},
   "outputs": [],
   "source": [
    "# category PI function from course\n",
    "CategoryPredInterval = function(ProbMatrix,labels)\n",
    "{ ncases = nrow(ProbMatrix)\n",
    "    pred50 = rep(NA,ncases);   pred80 = rep(NA,ncases);\n",
    "     data.frame(pred50); data.frame(pred80);\n",
    "    for(i in 1:ncases)\n",
    "    {    \n",
    "        p = ProbMatrix[i,]\n",
    "        ip = order(p,decreasing = T)\n",
    "        pOrdered = p[ip] # decreasing order\n",
    "        labelsOrdered = labels[ip] # decreasing order\n",
    "        G = cumsum(pOrdered) # cumulative sum from largest\n",
    "        k1 = min(which(G >= 0.5)) # level1= 0.5\n",
    "        k2 = min(which(G >= 0.8)) # level2= 0.8\n",
    "        pred1 = labelsOrdered[1:k1]\n",
    "        pred2 = labelsOrdered[1:k2]\n",
    "        pred50[i] = paste(pred1, collapse = \"\")\n",
    "        pred80[i] = paste(pred2, collapse = \"\")\n",
    "    }\n",
    "    data.frame(pred50 = pred50, pred80 = pred80)\n",
    "}"
   ]
  },
  {
   "cell_type": "code",
   "execution_count": 11,
   "id": "f97c58a9-4ffc-439b-b4b1-747a2e6f2074",
   "metadata": {},
   "outputs": [],
   "source": [
    "categMisclassRates = function(predIntervalMatrix, iprint=FALSE)\n",
    "{ cols = colnames(predIntervalMatrix)\n",
    "rows = rownames(predIntervalMatrix)\n",
    "misclass = rep(0,length(rows))\n",
    "for (i in 1:length(rows))\n",
    "{ row = predIntervalMatrix[i,]\n",
    "total = sum(row)\n",
    "class = rows[i]\n",
    "count = 0\n",
    "for (j in 1:length(cols))\n",
    "    { col = cols[j]\n",
    "if (grepl(class, col, fixed = TRUE)) { count = count + row[col] }\n",
    "}\n",
    "misclass[i] = 1 - count/total\n",
    "if(iprint) cat(\"Number of misclassifications for \", class, \":\", total - count, \"\\n\")\n",
    "cat(\"Misclassification rate for \", class, \": \", round(misclass[i], 3), \"\\n\")\n",
    "}\n",
    "cat(\"Avg Misclassification rate: \", round(mean(misclass[]), 3), \"\\n\")\n",
    "return(misclass)}"
   ]
  },
  {
   "cell_type": "code",
   "execution_count": 12,
   "id": "996382c5-8b07-4b62-960a-32c215367ca4",
   "metadata": {},
   "outputs": [],
   "source": [
    "predict_multi_pi <- CategoryPredInterval(multi_pred, c(\"GALAXY\", \"QSO\", \"STAR\"))"
   ]
  },
  {
   "cell_type": "code",
   "execution_count": 13,
   "id": "6f80cd27-2398-476d-8774-559774da0810",
   "metadata": {},
   "outputs": [
    {
     "data": {
      "text/plain": [
       "        \n",
       "         GALAXY  QSO STAR\n",
       "  GALAXY   1142   20   23\n",
       "  QSO        49  350    0\n",
       "  STAR        0    0  416"
      ]
     },
     "metadata": {},
     "output_type": "display_data"
    },
    {
     "data": {
      "text/plain": [
       "        \n",
       "         GALAXY GALAXYQSO GALAXYSTAR  QSO QSOGALAXY STAR STARGALAXY\n",
       "  GALAXY   1081        42         19    8        12   15          8\n",
       "  QSO        30        19          0  316        34    0          0\n",
       "  STAR        0         0          0    0         0  406         10"
      ]
     },
     "metadata": {},
     "output_type": "display_data"
    }
   ],
   "source": [
    "# 50% PI\n",
    "multi_pi_50 <- table(B_subset_holdo$class, predict_multi_pi$pred50); multi_pi_50\n",
    "# 80% PI\n",
    "multi_pi_80 <- table(B_subset_holdo$class, predict_multi_pi$pred80); multi_pi_80"
   ]
  },
  {
   "cell_type": "code",
   "execution_count": 14,
   "id": "99a0a8bb-c011-4cea-a6bd-88af9f416626",
   "metadata": {},
   "outputs": [
    {
     "name": "stdout",
     "output_type": "stream",
     "text": [
      "Number of misclassifications for  GALAXY : 43 \n",
      "Misclassification rate for  GALAXY :  0.036 \n",
      "Number of misclassifications for  QSO : 49 \n",
      "Misclassification rate for  QSO :  0.123 \n",
      "Number of misclassifications for  STAR : 0 \n",
      "Misclassification rate for  STAR :  0 \n",
      "Avg Misclassification rate:  0.053 \n"
     ]
    }
   ],
   "source": [
    "mis_multi_pi_50 <- categMisclassRates(multi_pi_50, iprint = TRUE)"
   ]
  },
  {
   "cell_type": "code",
   "execution_count": 15,
   "id": "8fba0ba3-9696-4e04-a3be-c25564a90e8e",
   "metadata": {},
   "outputs": [
    {
     "name": "stdout",
     "output_type": "stream",
     "text": [
      "Number of misclassifications for  GALAXY : 23 \n",
      "Misclassification rate for  GALAXY :  0.019 \n",
      "Number of misclassifications for  QSO : 30 \n",
      "Misclassification rate for  QSO :  0.075 \n",
      "Number of misclassifications for  STAR : 0 \n",
      "Misclassification rate for  STAR :  0 \n",
      "Avg Misclassification rate:  0.032 \n"
     ]
    }
   ],
   "source": [
    "mis_multi_pi_80 <- categMisclassRates(multi_pi_80, iprint=TRUE)"
   ]
  },
  {
   "cell_type": "markdown",
   "id": "625dedd3-5fc6-4773-a5d0-f15192729a1e",
   "metadata": {},
   "source": [
    "### Caret KNN "
   ]
  },
  {
   "cell_type": "markdown",
   "id": "e22c3c96-68c8-463f-999b-ecbb7ca3f9fb",
   "metadata": {},
   "source": [
    "### kNN - RF"
   ]
  },
  {
   "cell_type": "code",
   "execution_count": 16,
   "id": "c67c2c45-9dc6-4f58-b219-1285e4a6ceaa",
   "metadata": {},
   "outputs": [],
   "source": [
    "# change all the levels of categorical variables to numeric representation \n",
    "# for caret kNN alogrithm\n",
    "kNN_B_subset_train_rf <- kNN_B_subset_train_rf %>% mutate(class =\n",
    "                     case_when(class == \"GALAXY\" ~ \"X1\",\n",
    "                               class == \"QSO\" ~ \"X2\",\n",
    "                               class == \"STAR\" ~ \"X3\"))\n",
    "# change class data type\n",
    "kNN_B_subset_train_rf$class <- factor(kNN_B_subset_train_rf$class) "
   ]
  },
  {
   "cell_type": "code",
   "execution_count": 17,
   "id": "9e9bdc38-22c4-416b-b063-7615f8291d31",
   "metadata": {},
   "outputs": [
    {
     "data": {
      "text/html": [
       "89.4371287553441"
      ],
      "text/latex": [
       "89.4371287553441"
      ],
      "text/markdown": [
       "89.4371287553441"
      ],
      "text/plain": [
       "[1] 89.43713"
      ]
     },
     "metadata": {},
     "output_type": "display_data"
    }
   ],
   "source": [
    "sqrt(kNN_B_subset_train_rf %>% nrow())"
   ]
  },
  {
   "cell_type": "code",
   "execution_count": 18,
   "id": "592e400d-5e80-4cbf-8c47-be176e4a0b6c",
   "metadata": {},
   "outputs": [],
   "source": [
    "# make a grid of values to test in cross-validation,\n",
    "# k usually set as sqrt of observations, 89 in our case. \n",
    "# So a wider range of k are tested, from 80 to 100\n",
    "knnGrid_rf <- expand.grid(k = seq(70,100,2))"
   ]
  },
  {
   "cell_type": "markdown",
   "id": "ebd66b4f-ebc8-46b6-9187-f6118500b2ae",
   "metadata": {},
   "source": [
    "For Prof and TA,<br/>Cell below has **6 min** Run Time"
   ]
  },
  {
   "cell_type": "code",
   "execution_count": 19,
   "id": "bbfe2332-1913-4224-8a60-d564f6897d1f",
   "metadata": {
    "tags": []
   },
   "outputs": [],
   "source": [
    "# model training, cv is not used \n",
    "set.seed(447)\n",
    "knnFit_rf <- train(class ~ ., # formula\n",
    "                 data = kNN_B_subset_train_rf[-1], # train data   \n",
    "                 method = \"knn\",\n",
    "                 tuneGrid = knnGrid_rf)"
   ]
  },
  {
   "cell_type": "code",
   "execution_count": 20,
   "id": "e2dda795-70a2-460f-8f5c-f6a378b8e5e2",
   "metadata": {},
   "outputs": [
    {
     "data": {
      "image/png": "[encoded data removed]",
      "text/plain": [
       "plot without title"
      ]
     },
     "metadata": {
      "image/png": {
       "height": 420,
       "width": 420
      }
     },
     "output_type": "display_data"
    }
   ],
   "source": [
    "plot(knnFit_rf)"
   ]
  },
  {
   "cell_type": "code",
   "execution_count": 21,
   "id": "9334f8c2-b3ad-469d-9e57-15e37463bc74",
   "metadata": {},
   "outputs": [],
   "source": [
    "# get prediction result by using the pretrained model and best performed k\n",
    "pred_class_prob_kNN_rf <- predict(knnFit_rf, newdata = kNN_B_subset_holdo_rf[-1], 'prob')\n",
    "\n",
    "# convert colnames of prediction and result back to original names \n",
    "colnames(pred_class_prob_kNN_rf)<- c(\"GALAXY\",\"QSO\",\"STAR\")\n",
    "\n",
    "# convert prediction result to matrix data type for PI fucntion \n",
    "pred_class_prob_kNN_rf <- data.matrix(pred_class_prob_kNN_rf, rownames.force = T)"
   ]
  },
  {
   "cell_type": "code",
   "execution_count": 22,
   "id": "63f4aa61-92ce-4031-b7be-80eb0b192a20",
   "metadata": {},
   "outputs": [
    {
     "data": {
      "text/html": [
       "<table class=\"dataframe\">\n",
       "<caption>A matrix: 6 × 3 of type dbl</caption>\n",
       "<thead>\n",
       "\t<tr><th></th><th scope=col>GALAXY</th><th scope=col>QSO</th><th scope=col>STAR</th></tr>\n",
       "</thead>\n",
       "<tbody>\n",
       "\t<tr><th scope=row>1</th><td>0.38571429</td><td>0.04285714</td><td>0.5714286</td></tr>\n",
       "\t<tr><th scope=row>2</th><td>0.54285714</td><td>0.00000000</td><td>0.4571429</td></tr>\n",
       "\t<tr><th scope=row>3</th><td>0.95714286</td><td>0.04285714</td><td>0.0000000</td></tr>\n",
       "\t<tr><th scope=row>4</th><td>1.00000000</td><td>0.00000000</td><td>0.0000000</td></tr>\n",
       "\t<tr><th scope=row>5</th><td>0.95714286</td><td>0.04285714</td><td>0.0000000</td></tr>\n",
       "\t<tr><th scope=row>6</th><td>0.02857143</td><td>0.00000000</td><td>0.9714286</td></tr>\n",
       "</tbody>\n",
       "</table>\n"
      ],
      "text/latex": [
       "A matrix: 6 × 3 of type dbl\n",
       "\\begin{tabular}{r|lll}\n",
       "  & GALAXY & QSO & STAR\\\\\n",
       "\\hline\n",
       "\t1 & 0.38571429 & 0.04285714 & 0.5714286\\\\\n",
       "\t2 & 0.54285714 & 0.00000000 & 0.4571429\\\\\n",
       "\t3 & 0.95714286 & 0.04285714 & 0.0000000\\\\\n",
       "\t4 & 1.00000000 & 0.00000000 & 0.0000000\\\\\n",
       "\t5 & 0.95714286 & 0.04285714 & 0.0000000\\\\\n",
       "\t6 & 0.02857143 & 0.00000000 & 0.9714286\\\\\n",
       "\\end{tabular}\n"
      ],
      "text/markdown": [
       "\n",
       "A matrix: 6 × 3 of type dbl\n",
       "\n",
       "| <!--/--> | GALAXY | QSO | STAR |\n",
       "|---|---|---|---|\n",
       "| 1 | 0.38571429 | 0.04285714 | 0.5714286 |\n",
       "| 2 | 0.54285714 | 0.00000000 | 0.4571429 |\n",
       "| 3 | 0.95714286 | 0.04285714 | 0.0000000 |\n",
       "| 4 | 1.00000000 | 0.00000000 | 0.0000000 |\n",
       "| 5 | 0.95714286 | 0.04285714 | 0.0000000 |\n",
       "| 6 | 0.02857143 | 0.00000000 | 0.9714286 |\n",
       "\n"
      ],
      "text/plain": [
       "  GALAXY     QSO        STAR     \n",
       "1 0.38571429 0.04285714 0.5714286\n",
       "2 0.54285714 0.00000000 0.4571429\n",
       "3 0.95714286 0.04285714 0.0000000\n",
       "4 1.00000000 0.00000000 0.0000000\n",
       "5 0.95714286 0.04285714 0.0000000\n",
       "6 0.02857143 0.00000000 0.9714286"
      ]
     },
     "metadata": {},
     "output_type": "display_data"
    }
   ],
   "source": [
    "pred_class_prob_kNN_rf %>% head()"
   ]
  },
  {
   "cell_type": "code",
   "execution_count": 23,
   "id": "09d11463-0caf-4875-a6be-42ff3cbe3c24",
   "metadata": {},
   "outputs": [],
   "source": [
    "predict_kNN_pi_rf <- CategoryPredInterval(pred_class_prob_kNN_rf, c(\"GALAXY\", \"QSO\", \"STAR\"))"
   ]
  },
  {
   "cell_type": "code",
   "execution_count": 24,
   "id": "dbcf7445-4e2a-428a-bac6-55bcfbb79ef1",
   "metadata": {},
   "outputs": [
    {
     "data": {
      "text/plain": [
       "        \n",
       "         GALAXY GALAXYQSO GALAXYSTAR  QSO QSOGALAXY QSOSTAR STAR STARGALAXY\n",
       "  GALAXY   1151         0         10   13         0       0   40          3\n",
       "  QSO        40         1          0  330         2       1    7          2\n",
       "  STAR      115         0          3    0         0       0  280          0\n",
       "        \n",
       "         STARQSO\n",
       "  GALAXY       2\n",
       "  QSO          0\n",
       "  STAR         0"
      ]
     },
     "metadata": {},
     "output_type": "display_data"
    },
    {
     "data": {
      "text/plain": [
       "        \n",
       "         GALAXY GALAXYQSO GALAXYSTAR GALAXYSTARQSO  QSO QSOGALAXY QSOGALAXYSTAR\n",
       "  GALAXY   1028         9        121             3    3        10             0\n",
       "  QSO        19        16          6             0  308        14             2\n",
       "  STAR       33         0         85             0    0         0             0\n",
       "        \n",
       "         QSOSTAR QSOSTARGALAXY STAR STARGALAXY STARGALAXYQSO STARQSO\n",
       "  GALAXY       0             0    9         32             0       3\n",
       "  QSO          7             2    1          3             1       4\n",
       "  STAR         0             0  133        145             1       1\n",
       "        \n",
       "         STARQSOGALAXY\n",
       "  GALAXY             1\n",
       "  QSO                0\n",
       "  STAR               0"
      ]
     },
     "metadata": {},
     "output_type": "display_data"
    }
   ],
   "source": [
    "# 50% PI\n",
    "kNN_pi_50_rf <- table(kNN_B_subset_holdo_rf$class,predict_kNN_pi_rf$pred50); kNN_pi_50_rf\n",
    "# 80% PI\n",
    "kNN_pi_80_rf <- table(kNN_B_subset_holdo_rf$class,predict_kNN_pi_rf$pred80); kNN_pi_80_rf"
   ]
  },
  {
   "cell_type": "code",
   "execution_count": 25,
   "id": "9da9755e-d724-45d6-86b6-e3f471635672",
   "metadata": {},
   "outputs": [
    {
     "name": "stdout",
     "output_type": "stream",
     "text": [
      "Number of misclassifications for  GALAXY : 55 \n",
      "Misclassification rate for  GALAXY :  0.045 \n",
      "Number of misclassifications for  QSO : 49 \n",
      "Misclassification rate for  QSO :  0.128 \n",
      "Number of misclassifications for  STAR : 115 \n",
      "Misclassification rate for  STAR :  0.289 \n",
      "Avg Misclassification rate:  0.154 \n"
     ]
    }
   ],
   "source": [
    "#50% pi\n",
    "mis_kNN_pi_50_rf <- categMisclassRates(kNN_pi_50_rf, iprint = TRUE);"
   ]
  },
  {
   "cell_type": "code",
   "execution_count": 26,
   "id": "bab9a9ac-eeae-4a8b-aa5e-4f6d8513d719",
   "metadata": {},
   "outputs": [
    {
     "name": "stdout",
     "output_type": "stream",
     "text": [
      "Number of misclassifications for  GALAXY : 15 \n",
      "Misclassification rate for  GALAXY :  0.012 \n",
      "Number of misclassifications for  QSO : 29 \n",
      "Misclassification rate for  QSO :  0.076 \n",
      "Number of misclassifications for  STAR : 33 \n",
      "Misclassification rate for  STAR :  0.083 \n",
      "Avg Misclassification rate:  0.057 \n"
     ]
    }
   ],
   "source": [
    "#80% pi\n",
    "mis_kNN_pi_80_rf <- categMisclassRates(kNN_pi_80_rf, iprint = TRUE);"
   ]
  },
  {
   "cell_type": "markdown",
   "id": "b9324713-f5eb-481b-a854-495bc013a747",
   "metadata": {},
   "source": [
    "### kNN - Perm"
   ]
  },
  {
   "cell_type": "code",
   "execution_count": 27,
   "id": "89b7afd2-f261-40b9-950d-cc70a1cc150e",
   "metadata": {},
   "outputs": [],
   "source": [
    "# change all the levels of categorical variables to numeric representation \n",
    "# for caret kNN alogrithm\n",
    "# train class\n",
    "kNN_B_subset_train_perm <- kNN_B_subset_train_perm %>% mutate(class =\n",
    "                     case_when(class == \"GALAXY\" ~ \"X1\",\n",
    "                               class == \"QSO\" ~ \"X2\",\n",
    "                               class == \"STAR\" ~ \"X3\"))\n",
    "\n",
    "kNN_B_subset_train_perm$class <- factor(kNN_B_subset_train_perm$class) \n",
    "\n",
    "# train fieldbin\n",
    "kNN_B_subset_train_perm <- kNN_B_subset_train_perm %>% mutate(fieldbin =\n",
    "                             case_when(fieldbin == \"(-1.18,-0.774]\" ~ 1,\n",
    "                                       fieldbin == \"(-0.774,-0.45]\" ~ 2,\n",
    "                                       fieldbin == \"(-0.45,-0.06]\" ~ 3,\n",
    "                                       fieldbin == \"(-0.06,0.58]\" ~ 4,\n",
    "                                       fieldbin == \"(0.58,5.4]\" ~ 5))\n",
    "kNN_B_subset_train_perm$fieldbin <- factor(kNN_B_subset_train_perm$fieldbin) \n",
    "\n",
    "# train runbin\n",
    "kNN_B_subset_train_perm <- kNN_B_subset_train_perm %>% mutate(runbin =\n",
    "                     case_when(runbin == \"(-2.23,-0.831]\" ~ 1,\n",
    "                               runbin == \"(-0.831,-0.327]\" ~ 2,\n",
    "                               runbin == \"(-0.327,0.048]\" ~ 3,\n",
    "                               runbin == \"(0.048,0.8]\" ~ 4,\n",
    "                               runbin == \"(0.8,1.9]\" ~ 5))\n",
    "kNN_B_subset_train_perm$runbin <- factor(kNN_B_subset_train_perm$runbin) \n",
    "\n",
    "\n",
    "\n",
    "\n",
    "# holdo fieldbin\n",
    "kNN_B_subset_holdo_perm <- kNN_B_subset_holdo_perm %>% mutate(fieldbin =\n",
    "                             case_when(fieldbin == \"(-1.18,-0.774]\" ~ 1,\n",
    "                                       fieldbin == \"(-0.774,-0.45]\" ~ 2,\n",
    "                                       fieldbin == \"(-0.45,-0.06]\" ~ 3,\n",
    "                                       fieldbin == \"(-0.06,0.58]\" ~ 4,\n",
    "                                       fieldbin == \"(0.58,5.4]\" ~ 5))\n",
    "kNN_B_subset_holdo_perm$fieldbin <- factor(kNN_B_subset_holdo_perm$fieldbin) \n",
    "\n",
    "\n",
    "# holdo runbin\n",
    "kNN_B_subset_holdo_perm <- kNN_B_subset_holdo_perm %>% mutate(runbin =\n",
    "                     case_when(runbin == \"(-2.23,-0.831]\" ~ 1,\n",
    "                               runbin == \"(-0.831,-0.327]\" ~ 2,\n",
    "                               runbin == \"(-0.327,0.048]\" ~ 3,\n",
    "                               runbin == \"(0.048,0.8]\" ~ 4,\n",
    "                               runbin == \"(0.8,1.9]\" ~ 5))\n",
    "kNN_B_subset_holdo_perm$runbin <- factor(kNN_B_subset_holdo_perm$runbin) \n"
   ]
  },
  {
   "cell_type": "code",
   "execution_count": 28,
   "id": "0eeec2ec-587b-416a-8c23-cde1b3f8edbf",
   "metadata": {},
   "outputs": [],
   "source": [
    "# same k as rf\n",
    "knnGrid_perm <- expand.grid(k = seq(70,100,2))"
   ]
  },
  {
   "cell_type": "markdown",
   "id": "c7602af3-2924-40ff-b0be-3dec49058bb1",
   "metadata": {},
   "source": [
    "For Prof and TA,<br/>Cell below has **6 min** Run Time"
   ]
  },
  {
   "cell_type": "code",
   "execution_count": 29,
   "id": "41ba9eab-6f42-451e-bd80-98cf94ce9f1a",
   "metadata": {},
   "outputs": [],
   "source": [
    "# model training, cv is not used \n",
    "set.seed(447)\n",
    "knnFit_perm <- train(class ~ ., # formula\n",
    "                 data = kNN_B_subset_train_perm[-1], # train data   \n",
    "                 method = \"knn\",\n",
    "                 tuneGrid = knnGrid_perm)"
   ]
  },
  {
   "cell_type": "code",
   "execution_count": 30,
   "id": "f7556184-4b3a-40a3-ae7d-d28722cd5b5d",
   "metadata": {},
   "outputs": [
    {
     "data": {
      "image/png": "[encoded data removed]",
      "text/plain": [
       "plot without title"
      ]
     },
     "metadata": {
      "image/png": {
       "height": 420,
       "width": 420
      }
     },
     "output_type": "display_data"
    }
   ],
   "source": [
    "plot(knnFit_perm)"
   ]
  },
  {
   "cell_type": "code",
   "execution_count": 31,
   "id": "65995fa7-2b10-4319-8baa-2a7d917ea7d4",
   "metadata": {},
   "outputs": [],
   "source": [
    "# get prediction result by using the pretrained model and best performed k\n",
    "pred_class_prob_kNN_perm <- predict(knnFit_perm, newdata = kNN_B_subset_holdo_perm[-1], 'prob')\n",
    "\n",
    "# convert colnames of prediction and result back to original names \n",
    "colnames(pred_class_prob_kNN_perm)<- c(\"GALAXY\",\"QSO\",\"STAR\")\n",
    "\n",
    "# convert prediction result to matrix data type for PI fucntion \n",
    "pred_class_prob_kNN_perm <- data.matrix(pred_class_prob_kNN_perm, rownames.force = T)"
   ]
  },
  {
   "cell_type": "code",
   "execution_count": 32,
   "id": "3a17c7e9-f165-411b-abf7-fce48ca4f724",
   "metadata": {},
   "outputs": [
    {
     "data": {
      "text/html": [
       "<table class=\"dataframe\">\n",
       "<caption>A matrix: 6 × 3 of type dbl</caption>\n",
       "<thead>\n",
       "\t<tr><th></th><th scope=col>GALAXY</th><th scope=col>QSO</th><th scope=col>STAR</th></tr>\n",
       "</thead>\n",
       "<tbody>\n",
       "\t<tr><th scope=row>1</th><td>0.8857143</td><td>0.00000000</td><td>0.11428571</td></tr>\n",
       "\t<tr><th scope=row>2</th><td>0.9571429</td><td>0.02857143</td><td>0.01428571</td></tr>\n",
       "\t<tr><th scope=row>3</th><td>0.8857143</td><td>0.01428571</td><td>0.10000000</td></tr>\n",
       "\t<tr><th scope=row>4</th><td>0.9857143</td><td>0.00000000</td><td>0.01428571</td></tr>\n",
       "\t<tr><th scope=row>5</th><td>0.9714286</td><td>0.01428571</td><td>0.01428571</td></tr>\n",
       "\t<tr><th scope=row>6</th><td>0.8285714</td><td>0.15714286</td><td>0.01428571</td></tr>\n",
       "</tbody>\n",
       "</table>\n"
      ],
      "text/latex": [
       "A matrix: 6 × 3 of type dbl\n",
       "\\begin{tabular}{r|lll}\n",
       "  & GALAXY & QSO & STAR\\\\\n",
       "\\hline\n",
       "\t1 & 0.8857143 & 0.00000000 & 0.11428571\\\\\n",
       "\t2 & 0.9571429 & 0.02857143 & 0.01428571\\\\\n",
       "\t3 & 0.8857143 & 0.01428571 & 0.10000000\\\\\n",
       "\t4 & 0.9857143 & 0.00000000 & 0.01428571\\\\\n",
       "\t5 & 0.9714286 & 0.01428571 & 0.01428571\\\\\n",
       "\t6 & 0.8285714 & 0.15714286 & 0.01428571\\\\\n",
       "\\end{tabular}\n"
      ],
      "text/markdown": [
       "\n",
       "A matrix: 6 × 3 of type dbl\n",
       "\n",
       "| <!--/--> | GALAXY | QSO | STAR |\n",
       "|---|---|---|---|\n",
       "| 1 | 0.8857143 | 0.00000000 | 0.11428571 |\n",
       "| 2 | 0.9571429 | 0.02857143 | 0.01428571 |\n",
       "| 3 | 0.8857143 | 0.01428571 | 0.10000000 |\n",
       "| 4 | 0.9857143 | 0.00000000 | 0.01428571 |\n",
       "| 5 | 0.9714286 | 0.01428571 | 0.01428571 |\n",
       "| 6 | 0.8285714 | 0.15714286 | 0.01428571 |\n",
       "\n"
      ],
      "text/plain": [
       "  GALAXY    QSO        STAR      \n",
       "1 0.8857143 0.00000000 0.11428571\n",
       "2 0.9571429 0.02857143 0.01428571\n",
       "3 0.8857143 0.01428571 0.10000000\n",
       "4 0.9857143 0.00000000 0.01428571\n",
       "5 0.9714286 0.01428571 0.01428571\n",
       "6 0.8285714 0.15714286 0.01428571"
      ]
     },
     "metadata": {},
     "output_type": "display_data"
    }
   ],
   "source": [
    "# senity check for prediction\n",
    "pred_class_prob_kNN_perm %>% head()"
   ]
  },
  {
   "cell_type": "code",
   "execution_count": 33,
   "id": "c244cfbb-452a-4c2a-a483-6d412d1a80bf",
   "metadata": {},
   "outputs": [],
   "source": [
    "predict_kNN_pi_perm <- CategoryPredInterval(pred_class_prob_kNN_perm, c(\"GALAXY\", \"QSO\", \"STAR\"))"
   ]
  },
  {
   "cell_type": "code",
   "execution_count": 34,
   "id": "afc10e5b-4874-4095-b434-e4f3b28ccfec",
   "metadata": {},
   "outputs": [
    {
     "data": {
      "text/plain": [
       "        \n",
       "         GALAXY GALAXYQSO GALAXYSTAR  QSO QSOGALAXY STAR STARGALAXY STARQSO\n",
       "  GALAXY   1165         0          3    3         0   17          4       1\n",
       "  QSO        58         8          0  325         5    3          3       1\n",
       "  STAR      217         0         12    0         0  166          9       0"
      ]
     },
     "metadata": {},
     "output_type": "display_data"
    },
    {
     "data": {
      "text/plain": [
       "        \n",
       "         GALAXY GALAXYQSO GALAXYQSOSTAR GALAXYSTAR QSO QSOGALAXY QSOGALAXYSTAR\n",
       "  GALAXY    942        39             0        187   1         2             0\n",
       "  QSO        21        33             2         10 265        63             1\n",
       "  STAR       35         0             0        194   0         0             0\n",
       "        \n",
       "         QSOSTAR STAR STARGALAXY STARGALAXYQSO STARQSO STARQSOGALAXY\n",
       "  GALAXY       0    0         20             1       0             1\n",
       "  QSO          1    0          4             2       1             0\n",
       "  STAR         0   22        152             0       1             0"
      ]
     },
     "metadata": {},
     "output_type": "display_data"
    }
   ],
   "source": [
    "# 50% PI\n",
    "kNN_pi_50_perm <- table(kNN_B_subset_holdo_perm$class,predict_kNN_pi_perm$pred50); kNN_pi_50_perm\n",
    "# 80% PI\n",
    "kNN_pi_80_perm <- table(kNN_B_subset_holdo_perm$class,predict_kNN_pi_perm$pred80); kNN_pi_80_perm"
   ]
  },
  {
   "cell_type": "code",
   "execution_count": 35,
   "id": "534f0c95-322d-43f8-8881-f6110f033a66",
   "metadata": {},
   "outputs": [
    {
     "name": "stdout",
     "output_type": "stream",
     "text": [
      "Number of misclassifications for  GALAXY : 21 \n",
      "Misclassification rate for  GALAXY :  0.018 \n",
      "Number of misclassifications for  QSO : 64 \n",
      "Misclassification rate for  QSO :  0.159 \n",
      "Number of misclassifications for  STAR : 217 \n",
      "Misclassification rate for  STAR :  0.537 \n",
      "Avg Misclassification rate:  0.238 \n"
     ]
    }
   ],
   "source": [
    "#50% pi\n",
    "mis_kNN_pi_50_perm  <- categMisclassRates(kNN_pi_50_perm , iprint = TRUE);"
   ]
  },
  {
   "cell_type": "code",
   "execution_count": 36,
   "id": "a2c9017e-169f-467d-9ff2-3201240adcf8",
   "metadata": {},
   "outputs": [
    {
     "name": "stdout",
     "output_type": "stream",
     "text": [
      "Number of misclassifications for  GALAXY : 1 \n",
      "Misclassification rate for  GALAXY :  0.001 \n",
      "Number of misclassifications for  QSO : 35 \n",
      "Misclassification rate for  QSO :  0.087 \n",
      "Number of misclassifications for  STAR : 35 \n",
      "Misclassification rate for  STAR :  0.087 \n",
      "Avg Misclassification rate:  0.058 \n"
     ]
    }
   ],
   "source": [
    "#80% pi\n",
    "mis_kNN_pi_80_perm  <- categMisclassRates(kNN_pi_80_perm , iprint = TRUE);"
   ]
  },
  {
   "cell_type": "markdown",
   "id": "5c5a8409-808a-4c59-b7af-4a612e1f49a2",
   "metadata": {},
   "source": [
    "## Random Forest"
   ]
  },
  {
   "cell_type": "code",
   "execution_count": 37,
   "id": "578911ae-8a92-4013-95fa-70e37ab52803",
   "metadata": {},
   "outputs": [
    {
     "name": "stdout",
     "output_type": "stream",
     "text": [
      "\n",
      "Call:\n",
      " randomForest(formula = factor(class) ~ ., data = B_subset_train[-1],      ntree = 400) \n",
      "               Type of random forest: classification\n",
      "                     Number of trees: 400\n",
      "No. of variables tried at each split: 3\n",
      "\n",
      "        OOB estimate of  error rate: 2.76%\n",
      "Confusion matrix:\n",
      "       GALAXY  QSO STAR  class.error\n",
      "GALAXY   4757   48   36 0.0173517868\n",
      "QSO       136 1386    0 0.0893561104\n",
      "STAR        1    0 1635 0.0006112469\n"
     ]
    }
   ],
   "source": [
    "rf <- randomForest(factor(class) ~ ., data = B_subset_train[-1], ntree = 400)\n",
    "print(rf)"
   ]
  },
  {
   "cell_type": "code",
   "execution_count": 38,
   "id": "d817388e-588d-4891-b1c2-36cf3912ebf7",
   "metadata": {},
   "outputs": [
    {
     "data": {
      "image/png": "[encoded data removed]",
      "text/plain": [
       "Plot with title “Variable Importance Plot ”"
      ]
     },
     "metadata": {
      "image/png": {
       "height": 420,
       "width": 420
      }
     },
     "output_type": "display_data"
    }
   ],
   "source": [
    "# feature importance\n",
    "varImpPlot(rf, main = \"Variable Importance Plot \")"
   ]
  },
  {
   "cell_type": "code",
   "execution_count": 39,
   "id": "243a7eeb-78a9-40b1-8e2f-66e8b00f7493",
   "metadata": {},
   "outputs": [],
   "source": [
    "# prediction \n",
    "pred_rf <- predict(rf, newdata = B_subset_holdo,type = \"prob\")"
   ]
  },
  {
   "cell_type": "code",
   "execution_count": 40,
   "id": "8cae0d1d-4a72-41ca-ae08-fdc825f52bd7",
   "metadata": {},
   "outputs": [],
   "source": [
    "predint_rf_pi <- CategoryPredInterval(pred_rf, labels=c(\"GALAXY\",\"QSO\", \"STAR\"))"
   ]
  },
  {
   "cell_type": "code",
   "execution_count": 41,
   "id": "91d42c47-9145-48a9-af1d-d5db9fae653e",
   "metadata": {},
   "outputs": [
    {
     "name": "stdout",
     "output_type": "stream",
     "text": [
      "RF 50% Prediction Interval Table        \n",
      "         GALAXY GALAXYQSO  QSO QSOGALAXY STAR\n",
      "  GALAXY   1155         2   14         0   14\n",
      "  QSO        34         1  362         2    0\n",
      "  STAR        0         0    0         0  416\n",
      "RF 80% Prediction Interval Table         \n",
      "         GALAXY GALAXYQSO  QSO QSOGALAXY STAR\n",
      "  GALAXY   1155         2   14         0   14\n",
      "  QSO        34         1  362         2    0\n",
      "  STAR        0         0    0         0  416\n"
     ]
    }
   ],
   "source": [
    "cat(\"RF 50% Prediction Interval Table\")\n",
    "rf_pi_50 <- table(B_subset_holdo$class, predint_rf_pi$pred50)\n",
    "print(rf_pi_50)\n",
    "cat(\"RF 80% Prediction Interval Table \")\n",
    "rf_pi_80 <-  table(B_subset_holdo$class, predint_rf_pi$pred80)\n",
    "print(rf_pi_50)"
   ]
  },
  {
   "cell_type": "code",
   "execution_count": 42,
   "id": "49cc3889-7740-42b8-88ba-c58f53c3c29e",
   "metadata": {},
   "outputs": [
    {
     "name": "stdout",
     "output_type": "stream",
     "text": [
      "Number of misclassifications for  GALAXY : 28 \n",
      "Misclassification rate for  GALAXY :  0.024 \n",
      "Number of misclassifications for  QSO : 34 \n",
      "Misclassification rate for  QSO :  0.085 \n",
      "Number of misclassifications for  STAR : 0 \n",
      "Misclassification rate for  STAR :  0 \n",
      "Avg Misclassification rate:  0.036 \n"
     ]
    }
   ],
   "source": [
    "# 50% misclassification rate\n",
    "mis_rf_pi_50 <- categMisclassRates(rf_pi_50, iprint=TRUE)"
   ]
  },
  {
   "cell_type": "code",
   "execution_count": 43,
   "id": "7bbf5df3-1ee2-43d3-a02c-20aa6872cfe1",
   "metadata": {},
   "outputs": [
    {
     "name": "stdout",
     "output_type": "stream",
     "text": [
      "Number of misclassifications for  GALAXY : 15 \n",
      "Misclassification rate for  GALAXY :  0.013 \n",
      "Number of misclassifications for  QSO : 16 \n",
      "Misclassification rate for  QSO :  0.04 \n",
      "Number of misclassifications for  STAR : 0 \n",
      "Misclassification rate for  STAR :  0 \n",
      "Avg Misclassification rate:  0.018 \n"
     ]
    }
   ],
   "source": [
    "# 80% misclassification rate\n",
    "mis_rf_pi_80 <- categMisclassRates(rf_pi_80, iprint=TRUE)"
   ]
  },
  {
   "cell_type": "markdown",
   "id": "1cdd8412-395a-4341-885f-d5b516be3309",
   "metadata": {},
   "source": [
    "## Misclassification Rate on Train with Class levels"
   ]
  },
  {
   "cell_type": "code",
   "execution_count": 44,
   "id": "e38b73c5-4abb-4129-878f-9459d81c1984",
   "metadata": {},
   "outputs": [
    {
     "name": "stdout",
     "output_type": "stream",
     "text": [
      "Multinomial Prediction Interval Table"
     ]
    },
    {
     "data": {
      "text/html": [
       "<table class=\"dataframe\">\n",
       "<caption>A matrix: 2 × 3 of type dbl</caption>\n",
       "<thead>\n",
       "\t<tr><th></th><th scope=col>GALAXY</th><th scope=col>QSO</th><th scope=col>STAR</th></tr>\n",
       "</thead>\n",
       "<tbody>\n",
       "\t<tr><th scope=row>50% PI</th><td>0.036</td><td>0.123</td><td>0</td></tr>\n",
       "\t<tr><th scope=row>80% PI</th><td>0.019</td><td>0.075</td><td>0</td></tr>\n",
       "</tbody>\n",
       "</table>\n"
      ],
      "text/latex": [
       "A matrix: 2 × 3 of type dbl\n",
       "\\begin{tabular}{r|lll}\n",
       "  & GALAXY & QSO & STAR\\\\\n",
       "\\hline\n",
       "\t50\\% PI & 0.036 & 0.123 & 0\\\\\n",
       "\t80\\% PI & 0.019 & 0.075 & 0\\\\\n",
       "\\end{tabular}\n"
      ],
      "text/markdown": [
       "\n",
       "A matrix: 2 × 3 of type dbl\n",
       "\n",
       "| <!--/--> | GALAXY | QSO | STAR |\n",
       "|---|---|---|---|\n",
       "| 50% PI | 0.036 | 0.123 | 0 |\n",
       "| 80% PI | 0.019 | 0.075 | 0 |\n",
       "\n"
      ],
      "text/plain": [
       "       GALAXY QSO   STAR\n",
       "50% PI 0.036  0.123 0   \n",
       "80% PI 0.019  0.075 0   "
      ]
     },
     "metadata": {},
     "output_type": "display_data"
    }
   ],
   "source": [
    "cat(\"Multinomial Prediction Interval Table\")\n",
    "mis_multi_result <- round(rbind(mis_multi_pi_50, mis_multi_pi_80),3)\n",
    "colnames(mis_multi_result) <- c(\"GALAXY\",\"QSO\",\"STAR\")\n",
    "rownames(mis_multi_result) <- c(\"50% PI\",  \"80% PI\")\n",
    "mis_multi_result"
   ]
  },
  {
   "cell_type": "code",
   "execution_count": 45,
   "id": "9282ea7f-6ef8-4ecd-82ec-615ff7c1f8ff",
   "metadata": {},
   "outputs": [
    {
     "name": "stdout",
     "output_type": "stream",
     "text": [
      "kNN - rf Prediction Interval Table"
     ]
    },
    {
     "data": {
      "text/html": [
       "<table class=\"dataframe\">\n",
       "<caption>A matrix: 2 × 3 of type dbl</caption>\n",
       "<thead>\n",
       "\t<tr><th></th><th scope=col>GALAXY</th><th scope=col>QSO</th><th scope=col>STAR</th></tr>\n",
       "</thead>\n",
       "<tbody>\n",
       "\t<tr><th scope=row>50% PI</th><td>0.045</td><td>0.128</td><td>0.289</td></tr>\n",
       "\t<tr><th scope=row>80% PI</th><td>0.012</td><td>0.076</td><td>0.083</td></tr>\n",
       "</tbody>\n",
       "</table>\n"
      ],
      "text/latex": [
       "A matrix: 2 × 3 of type dbl\n",
       "\\begin{tabular}{r|lll}\n",
       "  & GALAXY & QSO & STAR\\\\\n",
       "\\hline\n",
       "\t50\\% PI & 0.045 & 0.128 & 0.289\\\\\n",
       "\t80\\% PI & 0.012 & 0.076 & 0.083\\\\\n",
       "\\end{tabular}\n"
      ],
      "text/markdown": [
       "\n",
       "A matrix: 2 × 3 of type dbl\n",
       "\n",
       "| <!--/--> | GALAXY | QSO | STAR |\n",
       "|---|---|---|---|\n",
       "| 50% PI | 0.045 | 0.128 | 0.289 |\n",
       "| 80% PI | 0.012 | 0.076 | 0.083 |\n",
       "\n"
      ],
      "text/plain": [
       "       GALAXY QSO   STAR \n",
       "50% PI 0.045  0.128 0.289\n",
       "80% PI 0.012  0.076 0.083"
      ]
     },
     "metadata": {},
     "output_type": "display_data"
    }
   ],
   "source": [
    "cat(\"kNN - rf Prediction Interval Table\")\n",
    "mis_kNN_result_rf <- round(rbind(mis_kNN_pi_50_rf, mis_kNN_pi_80_rf), 3)\n",
    "colnames(mis_kNN_result_rf) <- c(\"GALAXY\",\"QSO\",\"STAR\")\n",
    "rownames(mis_kNN_result_rf) <- c(\"50% PI\",  \"80% PI\")\n",
    "mis_kNN_result_rf"
   ]
  },
  {
   "cell_type": "code",
   "execution_count": 46,
   "id": "7fd195ff-5da0-423b-976d-cf7895932fd5",
   "metadata": {},
   "outputs": [
    {
     "name": "stdout",
     "output_type": "stream",
     "text": [
      "kNN - Perm Prediction Interval Table"
     ]
    },
    {
     "data": {
      "text/html": [
       "<table class=\"dataframe\">\n",
       "<caption>A matrix: 2 × 3 of type dbl</caption>\n",
       "<thead>\n",
       "\t<tr><th></th><th scope=col>GALAXY</th><th scope=col>QSO</th><th scope=col>STAR</th></tr>\n",
       "</thead>\n",
       "<tbody>\n",
       "\t<tr><th scope=row>50% PI</th><td>0.018</td><td>0.159</td><td>0.537</td></tr>\n",
       "\t<tr><th scope=row>80% PI</th><td>0.001</td><td>0.087</td><td>0.087</td></tr>\n",
       "</tbody>\n",
       "</table>\n"
      ],
      "text/latex": [
       "A matrix: 2 × 3 of type dbl\n",
       "\\begin{tabular}{r|lll}\n",
       "  & GALAXY & QSO & STAR\\\\\n",
       "\\hline\n",
       "\t50\\% PI & 0.018 & 0.159 & 0.537\\\\\n",
       "\t80\\% PI & 0.001 & 0.087 & 0.087\\\\\n",
       "\\end{tabular}\n"
      ],
      "text/markdown": [
       "\n",
       "A matrix: 2 × 3 of type dbl\n",
       "\n",
       "| <!--/--> | GALAXY | QSO | STAR |\n",
       "|---|---|---|---|\n",
       "| 50% PI | 0.018 | 0.159 | 0.537 |\n",
       "| 80% PI | 0.001 | 0.087 | 0.087 |\n",
       "\n"
      ],
      "text/plain": [
       "       GALAXY QSO   STAR \n",
       "50% PI 0.018  0.159 0.537\n",
       "80% PI 0.001  0.087 0.087"
      ]
     },
     "metadata": {},
     "output_type": "display_data"
    }
   ],
   "source": [
    "cat(\"kNN - Perm Prediction Interval Table\")\n",
    "mis_kNN_result_perm <- round(rbind(mis_kNN_pi_50_perm, mis_kNN_pi_80_perm), 3)\n",
    "colnames(mis_kNN_result_perm) <- c(\"GALAXY\",\"QSO\",\"STAR\")\n",
    "rownames(mis_kNN_result_perm) <- c(\"50% PI\",  \"80% PI\")\n",
    "mis_kNN_result_perm"
   ]
  },
  {
   "cell_type": "code",
   "execution_count": 47,
   "id": "84a35152-97d0-4a00-b386-5d77b6ce1752",
   "metadata": {},
   "outputs": [
    {
     "name": "stdout",
     "output_type": "stream",
     "text": [
      "Random Forest Prediction Interval Table"
     ]
    },
    {
     "data": {
      "text/html": [
       "<table class=\"dataframe\">\n",
       "<caption>A matrix: 2 × 3 of type dbl</caption>\n",
       "<thead>\n",
       "\t<tr><th></th><th scope=col>GALAXY</th><th scope=col>QSO</th><th scope=col>STAR</th></tr>\n",
       "</thead>\n",
       "<tbody>\n",
       "\t<tr><th scope=row>50% PI</th><td>0.024</td><td>0.085</td><td>0</td></tr>\n",
       "\t<tr><th scope=row>80% PI</th><td>0.013</td><td>0.040</td><td>0</td></tr>\n",
       "</tbody>\n",
       "</table>\n"
      ],
      "text/latex": [
       "A matrix: 2 × 3 of type dbl\n",
       "\\begin{tabular}{r|lll}\n",
       "  & GALAXY & QSO & STAR\\\\\n",
       "\\hline\n",
       "\t50\\% PI & 0.024 & 0.085 & 0\\\\\n",
       "\t80\\% PI & 0.013 & 0.040 & 0\\\\\n",
       "\\end{tabular}\n"
      ],
      "text/markdown": [
       "\n",
       "A matrix: 2 × 3 of type dbl\n",
       "\n",
       "| <!--/--> | GALAXY | QSO | STAR |\n",
       "|---|---|---|---|\n",
       "| 50% PI | 0.024 | 0.085 | 0 |\n",
       "| 80% PI | 0.013 | 0.040 | 0 |\n",
       "\n"
      ],
      "text/plain": [
       "       GALAXY QSO   STAR\n",
       "50% PI 0.024  0.085 0   \n",
       "80% PI 0.013  0.040 0   "
      ]
     },
     "metadata": {},
     "output_type": "display_data"
    }
   ],
   "source": [
    "cat(\"Random Forest Prediction Interval Table\")\n",
    "mis_rf_result <- round(rbind(mis_rf_pi_50, mis_rf_pi_80), 3)\n",
    "colnames(mis_rf_result) <- c(\"GALAXY\",\"QSO\",\"STAR\")\n",
    "rownames(mis_rf_result) <- c(\"50% PI\",  \"80% PI\")\n",
    "mis_rf_result"
   ]
  },
  {
   "cell_type": "code",
   "execution_count": 48,
   "id": "c47cee81-6529-48b1-9663-d0e7ce417e65",
   "metadata": {},
   "outputs": [],
   "source": [
    "mis_multi <- round(rbind(mean(mis_multi_pi_50), mean(mis_multi_pi_80)), 3)\n",
    "mis_kNN_rf <- cbind(round(rbind(mean(mis_kNN_pi_50_rf), mean(mis_kNN_pi_80_rf)), 3))\n",
    "mis_kNN_perm <- cbind(round(rbind(mean(mis_kNN_pi_50_perm), mean(mis_kNN_pi_80_perm)), 3))\n",
    "mis_rf <- cbind(round(rbind(mean(mis_rf_pi_50), mean(mis_rf_pi_80)), 3))\n",
    "holdoms <- cbind(mis_multi, mis_kNN_rf,mis_kNN_perm, mis_rf)\n",
    "colnames(holdoms) <- c(\"Multinomial\",\"kNN-rf\", \"kNN-perm\",\"Random Forest\")\n",
    "rownames(holdoms) <- c(\"Avg 50% PI\",  \"Avg 80% PI\")"
   ]
  },
  {
   "cell_type": "code",
   "execution_count": 49,
   "id": "9a530b70-2906-4770-b560-c6f0517401e6",
   "metadata": {},
   "outputs": [
    {
     "name": "stdout",
     "output_type": "stream",
     "text": [
      "Model Comparison Table"
     ]
    },
    {
     "data": {
      "text/html": [
       "<table class=\"dataframe\">\n",
       "<caption>A matrix: 2 × 4 of type dbl</caption>\n",
       "<thead>\n",
       "\t<tr><th></th><th scope=col>Multinomial</th><th scope=col>kNN-rf</th><th scope=col>kNN-perm</th><th scope=col>Random Forest</th></tr>\n",
       "</thead>\n",
       "<tbody>\n",
       "\t<tr><th scope=row>Avg 50% PI</th><td>0.053</td><td>0.154</td><td>0.238</td><td>0.036</td></tr>\n",
       "\t<tr><th scope=row>Avg 80% PI</th><td>0.032</td><td>0.057</td><td>0.058</td><td>0.018</td></tr>\n",
       "</tbody>\n",
       "</table>\n"
      ],
      "text/latex": [
       "A matrix: 2 × 4 of type dbl\n",
       "\\begin{tabular}{r|llll}\n",
       "  & Multinomial & kNN-rf & kNN-perm & Random Forest\\\\\n",
       "\\hline\n",
       "\tAvg 50\\% PI & 0.053 & 0.154 & 0.238 & 0.036\\\\\n",
       "\tAvg 80\\% PI & 0.032 & 0.057 & 0.058 & 0.018\\\\\n",
       "\\end{tabular}\n"
      ],
      "text/markdown": [
       "\n",
       "A matrix: 2 × 4 of type dbl\n",
       "\n",
       "| <!--/--> | Multinomial | kNN-rf | kNN-perm | Random Forest |\n",
       "|---|---|---|---|---|\n",
       "| Avg 50% PI | 0.053 | 0.154 | 0.238 | 0.036 |\n",
       "| Avg 80% PI | 0.032 | 0.057 | 0.058 | 0.018 |\n",
       "\n"
      ],
      "text/plain": [
       "           Multinomial kNN-rf kNN-perm Random Forest\n",
       "Avg 50% PI 0.053       0.154  0.238    0.036        \n",
       "Avg 80% PI 0.032       0.057  0.058    0.018        "
      ]
     },
     "metadata": {},
     "output_type": "display_data"
    }
   ],
   "source": [
    "cat(\"Model Comparison Table\")\n",
    "holdoms"
   ]
  },
  {
   "cell_type": "code",
   "execution_count": null,
   "id": "b867c21e-ea41-42b7-bde4-5fad6b576a61",
   "metadata": {},
   "outputs": [],
   "source": []
  }
 ],
 "metadata": {
  "kernelspec": {
   "display_name": "R [conda env:R]",
   "language": "R",
   "name": "conda-env-R-r"
  },
  "language_info": {
   "codemirror_mode": "r",
   "file_extension": ".r",
   "mimetype": "text/x-r-source",
   "name": "R",
   "pygments_lexer": "r",
   "version": "4.1.1"
  }
 },
 "nbformat": 4,
 "nbformat_minor": 5
}
